{
 "metadata": {
  "language_info": {
   "codemirror_mode": {
    "name": "ipython",
    "version": 3
   },
   "file_extension": ".py",
   "mimetype": "text/x-python",
   "name": "python",
   "nbconvert_exporter": "python",
   "pygments_lexer": "ipython3",
   "version": "3.8.5"
  },
  "orig_nbformat": 2,
  "kernelspec": {
   "name": "python385jvsc74a57bd0d83547533f9050dd6fe51668b0feb7653dace4d0f960859b6bdd6b3de39e452f",
   "display_name": "Python 3.8.5 64-bit ('base': conda)"
  }
 },
 "nbformat": 4,
 "nbformat_minor": 2,
 "cells": [
  {
   "cell_type": "code",
   "execution_count": 2,
   "metadata": {},
   "outputs": [],
   "source": [
    "import pandas as pd\n",
    "import numpy as np\n",
    "import matplotlib.pyplot as plt"
   ]
  },
  {
   "cell_type": "code",
   "execution_count": 15,
   "metadata": {},
   "outputs": [
    {
     "output_type": "execute_result",
     "data": {
      "text/plain": [
       "(7560, 29)"
      ]
     },
     "metadata": {},
     "execution_count": 15
    }
   ],
   "source": [
    "df = pd.read_json(\"dataV3.json\")\n",
    "df.shape"
   ]
  },
  {
   "cell_type": "code",
   "execution_count": 13,
   "metadata": {},
   "outputs": [
    {
     "output_type": "stream",
     "name": "stdout",
     "text": [
      "<class 'pandas.core.frame.DataFrame'>\nRangeIndex: 7560 entries, 0 to 7559\nData columns (total 29 columns):\n #   Column               Non-Null Count  Dtype  \n---  ------               --------------  -----  \n 0   Ano de Edição        3466 non-null   float64\n 1   Colaborador          5077 non-null   object \n 2   Editora              5051 non-null   object \n 3   ISBN                 7228 non-null   object \n 4   Ano                  4997 non-null   float64\n 5   Edição               4871 non-null   float64\n 6   Origem               5075 non-null   object \n 7   Formato              5036 non-null   object \n 8   Encadernação         7196 non-null   object \n 9   Idioma               6291 non-null   object \n 10  País                 4974 non-null   object \n 11  Páginas              7053 non-null   float64\n 12  Assunto              349 non-null    object \n 13  preço                7560 non-null   float64\n 14  nome                 7560 non-null   object \n 15  categoria            7560 non-null   object \n 16  Complemento          1494 non-null   object \n 17  Idade                184 non-null    float64\n 18  Tipo de Colaborador  385 non-null    object \n 19  EAN                  384 non-null    float64\n 20  Sinopse              324 non-null    object \n 21  Altura               308 non-null    float64\n 22  Largura              308 non-null    float64\n 23  Peso                 261 non-null    float64\n 24  Subtitulo            127 non-null    object \n 25  Grau./Nível          13 non-null     object \n 26  Série/Ano            13 non-null     object \n 27  Coleção              58 non-null     object \n 28  Cor                  27 non-null     object \ndtypes: float64(10), object(19)\nmemory usage: 1.7+ MB\n"
     ]
    }
   ],
   "source": [
    "df.info()"
   ]
  },
  {
   "cell_type": "code",
   "execution_count": 14,
   "metadata": {},
   "outputs": [
    {
     "output_type": "execute_result",
     "data": {
      "text/plain": [
       "       Ano de Edição          Ano       Edição      Páginas        preço  \\\n",
       "count    3466.000000  4997.000000  4871.000000  7053.000000  7560.000000   \n",
       "mean     2015.345355  2014.425455    80.655923   284.348788    69.381878   \n",
       "std         6.349549     6.400459   391.598387   254.356544    74.818648   \n",
       "min      1966.000000  1966.000000     1.000000     1.000000     1.550000   \n",
       "25%      2013.000000  2012.000000     1.000000   144.000000    34.900000   \n",
       "50%      2017.000000  2016.000000     1.000000   224.000000    49.900000   \n",
       "75%      2020.000000  2019.000000     1.000000   336.000000    76.930000   \n",
       "max      2021.000000  2021.000000  2021.000000  4696.000000  1551.000000   \n",
       "\n",
       "            Idade           EAN      Altura     Largura        Peso  \n",
       "count  184.000000  3.840000e+02  308.000000  308.000000  261.000000  \n",
       "mean     7.456522  2.010324e+12   22.226429   16.385195    0.586596  \n",
       "std      3.965460  6.047079e+09   11.323662    7.592012    0.936517  \n",
       "min      1.000000  2.000018e+12    7.000000    5.000000    0.070000  \n",
       "25%      4.000000  2.007100e+12   21.000000   14.000000    0.252500  \n",
       "50%      6.500000  2.007200e+12   22.600000   16.000000    0.354000  \n",
       "75%     11.000000  2.009500e+12   23.000000   16.000000    0.565000  \n",
       "max     19.000000  2.021123e+12  209.000000  133.000000    9.999000  "
      ],
      "text/html": "<div>\n<style scoped>\n    .dataframe tbody tr th:only-of-type {\n        vertical-align: middle;\n    }\n\n    .dataframe tbody tr th {\n        vertical-align: top;\n    }\n\n    .dataframe thead th {\n        text-align: right;\n    }\n</style>\n<table border=\"1\" class=\"dataframe\">\n  <thead>\n    <tr style=\"text-align: right;\">\n      <th></th>\n      <th>Ano de Edição</th>\n      <th>Ano</th>\n      <th>Edição</th>\n      <th>Páginas</th>\n      <th>preço</th>\n      <th>Idade</th>\n      <th>EAN</th>\n      <th>Altura</th>\n      <th>Largura</th>\n      <th>Peso</th>\n    </tr>\n  </thead>\n  <tbody>\n    <tr>\n      <th>count</th>\n      <td>3466.000000</td>\n      <td>4997.000000</td>\n      <td>4871.000000</td>\n      <td>7053.000000</td>\n      <td>7560.000000</td>\n      <td>184.000000</td>\n      <td>3.840000e+02</td>\n      <td>308.000000</td>\n      <td>308.000000</td>\n      <td>261.000000</td>\n    </tr>\n    <tr>\n      <th>mean</th>\n      <td>2015.345355</td>\n      <td>2014.425455</td>\n      <td>80.655923</td>\n      <td>284.348788</td>\n      <td>69.381878</td>\n      <td>7.456522</td>\n      <td>2.010324e+12</td>\n      <td>22.226429</td>\n      <td>16.385195</td>\n      <td>0.586596</td>\n    </tr>\n    <tr>\n      <th>std</th>\n      <td>6.349549</td>\n      <td>6.400459</td>\n      <td>391.598387</td>\n      <td>254.356544</td>\n      <td>74.818648</td>\n      <td>3.965460</td>\n      <td>6.047079e+09</td>\n      <td>11.323662</td>\n      <td>7.592012</td>\n      <td>0.936517</td>\n    </tr>\n    <tr>\n      <th>min</th>\n      <td>1966.000000</td>\n      <td>1966.000000</td>\n      <td>1.000000</td>\n      <td>1.000000</td>\n      <td>1.550000</td>\n      <td>1.000000</td>\n      <td>2.000018e+12</td>\n      <td>7.000000</td>\n      <td>5.000000</td>\n      <td>0.070000</td>\n    </tr>\n    <tr>\n      <th>25%</th>\n      <td>2013.000000</td>\n      <td>2012.000000</td>\n      <td>1.000000</td>\n      <td>144.000000</td>\n      <td>34.900000</td>\n      <td>4.000000</td>\n      <td>2.007100e+12</td>\n      <td>21.000000</td>\n      <td>14.000000</td>\n      <td>0.252500</td>\n    </tr>\n    <tr>\n      <th>50%</th>\n      <td>2017.000000</td>\n      <td>2016.000000</td>\n      <td>1.000000</td>\n      <td>224.000000</td>\n      <td>49.900000</td>\n      <td>6.500000</td>\n      <td>2.007200e+12</td>\n      <td>22.600000</td>\n      <td>16.000000</td>\n      <td>0.354000</td>\n    </tr>\n    <tr>\n      <th>75%</th>\n      <td>2020.000000</td>\n      <td>2019.000000</td>\n      <td>1.000000</td>\n      <td>336.000000</td>\n      <td>76.930000</td>\n      <td>11.000000</td>\n      <td>2.009500e+12</td>\n      <td>23.000000</td>\n      <td>16.000000</td>\n      <td>0.565000</td>\n    </tr>\n    <tr>\n      <th>max</th>\n      <td>2021.000000</td>\n      <td>2021.000000</td>\n      <td>2021.000000</td>\n      <td>4696.000000</td>\n      <td>1551.000000</td>\n      <td>19.000000</td>\n      <td>2.021123e+12</td>\n      <td>209.000000</td>\n      <td>133.000000</td>\n      <td>9.999000</td>\n    </tr>\n  </tbody>\n</table>\n</div>"
     },
     "metadata": {},
     "execution_count": 14
    }
   ],
   "source": [
    "df.describe()"
   ]
  }
 ]
}