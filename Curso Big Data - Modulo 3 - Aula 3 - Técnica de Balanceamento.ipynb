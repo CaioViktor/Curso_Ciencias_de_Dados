{
 "cells": [
  {
   "cell_type": "code",
   "execution_count": 1,
   "metadata": {},
   "outputs": [],
   "source": [
    "import pandas as pd\n",
    "import numpy as np\n",
    "\n",
    "from sklearn.model_selection import train_test_split\n",
    "from sklearn.linear_model import LogisticRegression\n",
    "\n",
    "from sklearn.preprocessing import MinMaxScaler\n",
    "from sklearn.pipeline import make_pipeline, Pipeline\n",
    "from sklearn.model_selection import GridSearchCV\n",
    "\n",
    "from collections import Counter\n",
    "from sklearn.metrics import accuracy_score, confusion_matrix, roc_auc_score, f1_score\n",
    "\n",
    "from sklearn.linear_model import RidgeClassifier"
   ]
  },
  {
   "cell_type": "markdown",
   "metadata": {},
   "source": [
    "## Dataset"
   ]
  },
  {
   "cell_type": "raw",
   "metadata": {},
   "source": [
    "https://www.kaggle.com/mlg-ulb/creditcardfraud"
   ]
  },
  {
   "cell_type": "code",
   "execution_count": 2,
   "metadata": {},
   "outputs": [],
   "source": [
    "file = pd.read_csv('subset_creditcard.csv')"
   ]
  },
  {
   "cell_type": "code",
   "execution_count": 3,
   "metadata": {},
   "outputs": [
    {
     "data": {
      "text/html": [
       "<div>\n",
       "<style scoped>\n",
       "    .dataframe tbody tr th:only-of-type {\n",
       "        vertical-align: middle;\n",
       "    }\n",
       "\n",
       "    .dataframe tbody tr th {\n",
       "        vertical-align: top;\n",
       "    }\n",
       "\n",
       "    .dataframe thead th {\n",
       "        text-align: right;\n",
       "    }\n",
       "</style>\n",
       "<table border=\"1\" class=\"dataframe\">\n",
       "  <thead>\n",
       "    <tr style=\"text-align: right;\">\n",
       "      <th></th>\n",
       "      <th>Time</th>\n",
       "      <th>V1</th>\n",
       "      <th>V2</th>\n",
       "      <th>V3</th>\n",
       "      <th>V4</th>\n",
       "      <th>V5</th>\n",
       "      <th>V6</th>\n",
       "      <th>V7</th>\n",
       "      <th>V8</th>\n",
       "      <th>V9</th>\n",
       "      <th>...</th>\n",
       "      <th>V21</th>\n",
       "      <th>V22</th>\n",
       "      <th>V23</th>\n",
       "      <th>V24</th>\n",
       "      <th>V25</th>\n",
       "      <th>V26</th>\n",
       "      <th>V27</th>\n",
       "      <th>V28</th>\n",
       "      <th>Amount</th>\n",
       "      <th>Class</th>\n",
       "    </tr>\n",
       "  </thead>\n",
       "  <tbody>\n",
       "    <tr>\n",
       "      <th>0</th>\n",
       "      <td>0</td>\n",
       "      <td>-1.359807</td>\n",
       "      <td>-0.072781</td>\n",
       "      <td>2.536347</td>\n",
       "      <td>1.378155</td>\n",
       "      <td>-0.338321</td>\n",
       "      <td>0.462388</td>\n",
       "      <td>0.239599</td>\n",
       "      <td>0.098698</td>\n",
       "      <td>0.363787</td>\n",
       "      <td>...</td>\n",
       "      <td>-0.018307</td>\n",
       "      <td>0.277838</td>\n",
       "      <td>-0.110474</td>\n",
       "      <td>0.066928</td>\n",
       "      <td>0.128539</td>\n",
       "      <td>-0.189115</td>\n",
       "      <td>0.133558</td>\n",
       "      <td>-0.021053</td>\n",
       "      <td>149.62</td>\n",
       "      <td>0</td>\n",
       "    </tr>\n",
       "    <tr>\n",
       "      <th>1</th>\n",
       "      <td>0</td>\n",
       "      <td>1.191857</td>\n",
       "      <td>0.266151</td>\n",
       "      <td>0.166480</td>\n",
       "      <td>0.448154</td>\n",
       "      <td>0.060018</td>\n",
       "      <td>-0.082361</td>\n",
       "      <td>-0.078803</td>\n",
       "      <td>0.085102</td>\n",
       "      <td>-0.255425</td>\n",
       "      <td>...</td>\n",
       "      <td>-0.225775</td>\n",
       "      <td>-0.638672</td>\n",
       "      <td>0.101288</td>\n",
       "      <td>-0.339846</td>\n",
       "      <td>0.167170</td>\n",
       "      <td>0.125895</td>\n",
       "      <td>-0.008983</td>\n",
       "      <td>0.014724</td>\n",
       "      <td>2.69</td>\n",
       "      <td>0</td>\n",
       "    </tr>\n",
       "    <tr>\n",
       "      <th>2</th>\n",
       "      <td>1</td>\n",
       "      <td>-1.358354</td>\n",
       "      <td>-1.340163</td>\n",
       "      <td>1.773209</td>\n",
       "      <td>0.379780</td>\n",
       "      <td>-0.503198</td>\n",
       "      <td>1.800499</td>\n",
       "      <td>0.791461</td>\n",
       "      <td>0.247676</td>\n",
       "      <td>-1.514654</td>\n",
       "      <td>...</td>\n",
       "      <td>0.247998</td>\n",
       "      <td>0.771679</td>\n",
       "      <td>0.909412</td>\n",
       "      <td>-0.689281</td>\n",
       "      <td>-0.327642</td>\n",
       "      <td>-0.139097</td>\n",
       "      <td>-0.055353</td>\n",
       "      <td>-0.059752</td>\n",
       "      <td>378.66</td>\n",
       "      <td>0</td>\n",
       "    </tr>\n",
       "    <tr>\n",
       "      <th>3</th>\n",
       "      <td>1</td>\n",
       "      <td>-0.966272</td>\n",
       "      <td>-0.185226</td>\n",
       "      <td>1.792993</td>\n",
       "      <td>-0.863291</td>\n",
       "      <td>-0.010309</td>\n",
       "      <td>1.247203</td>\n",
       "      <td>0.237609</td>\n",
       "      <td>0.377436</td>\n",
       "      <td>-1.387024</td>\n",
       "      <td>...</td>\n",
       "      <td>-0.108300</td>\n",
       "      <td>0.005274</td>\n",
       "      <td>-0.190321</td>\n",
       "      <td>-1.175575</td>\n",
       "      <td>0.647376</td>\n",
       "      <td>-0.221929</td>\n",
       "      <td>0.062723</td>\n",
       "      <td>0.061458</td>\n",
       "      <td>123.50</td>\n",
       "      <td>0</td>\n",
       "    </tr>\n",
       "    <tr>\n",
       "      <th>4</th>\n",
       "      <td>2</td>\n",
       "      <td>-1.158233</td>\n",
       "      <td>0.877737</td>\n",
       "      <td>1.548718</td>\n",
       "      <td>0.403034</td>\n",
       "      <td>-0.407193</td>\n",
       "      <td>0.095921</td>\n",
       "      <td>0.592941</td>\n",
       "      <td>-0.270533</td>\n",
       "      <td>0.817739</td>\n",
       "      <td>...</td>\n",
       "      <td>-0.009431</td>\n",
       "      <td>0.798278</td>\n",
       "      <td>-0.137458</td>\n",
       "      <td>0.141267</td>\n",
       "      <td>-0.206010</td>\n",
       "      <td>0.502292</td>\n",
       "      <td>0.219422</td>\n",
       "      <td>0.215153</td>\n",
       "      <td>69.99</td>\n",
       "      <td>0</td>\n",
       "    </tr>\n",
       "    <tr>\n",
       "      <th>...</th>\n",
       "      <td>...</td>\n",
       "      <td>...</td>\n",
       "      <td>...</td>\n",
       "      <td>...</td>\n",
       "      <td>...</td>\n",
       "      <td>...</td>\n",
       "      <td>...</td>\n",
       "      <td>...</td>\n",
       "      <td>...</td>\n",
       "      <td>...</td>\n",
       "      <td>...</td>\n",
       "      <td>...</td>\n",
       "      <td>...</td>\n",
       "      <td>...</td>\n",
       "      <td>...</td>\n",
       "      <td>...</td>\n",
       "      <td>...</td>\n",
       "      <td>...</td>\n",
       "      <td>...</td>\n",
       "      <td>...</td>\n",
       "      <td>...</td>\n",
       "    </tr>\n",
       "    <tr>\n",
       "      <th>5006</th>\n",
       "      <td>56650</td>\n",
       "      <td>-8.762083</td>\n",
       "      <td>2.791030</td>\n",
       "      <td>-7.682767</td>\n",
       "      <td>6.991214</td>\n",
       "      <td>-5.230695</td>\n",
       "      <td>-0.357388</td>\n",
       "      <td>-9.685621</td>\n",
       "      <td>1.749335</td>\n",
       "      <td>-4.495679</td>\n",
       "      <td>...</td>\n",
       "      <td>-0.090527</td>\n",
       "      <td>0.348590</td>\n",
       "      <td>0.051132</td>\n",
       "      <td>-0.415430</td>\n",
       "      <td>0.219665</td>\n",
       "      <td>0.330020</td>\n",
       "      <td>-0.028252</td>\n",
       "      <td>-0.156270</td>\n",
       "      <td>7.52</td>\n",
       "      <td>1</td>\n",
       "    </tr>\n",
       "    <tr>\n",
       "      <th>5007</th>\n",
       "      <td>57007</td>\n",
       "      <td>-1.271244</td>\n",
       "      <td>2.462675</td>\n",
       "      <td>-2.851395</td>\n",
       "      <td>2.324480</td>\n",
       "      <td>-1.372245</td>\n",
       "      <td>-0.948196</td>\n",
       "      <td>-3.065234</td>\n",
       "      <td>1.166927</td>\n",
       "      <td>-2.268771</td>\n",
       "      <td>...</td>\n",
       "      <td>0.652941</td>\n",
       "      <td>0.081931</td>\n",
       "      <td>-0.221348</td>\n",
       "      <td>-0.523582</td>\n",
       "      <td>0.224228</td>\n",
       "      <td>0.756335</td>\n",
       "      <td>0.632800</td>\n",
       "      <td>0.250187</td>\n",
       "      <td>0.01</td>\n",
       "      <td>1</td>\n",
       "    </tr>\n",
       "    <tr>\n",
       "      <th>5008</th>\n",
       "      <td>57027</td>\n",
       "      <td>-2.335655</td>\n",
       "      <td>2.225380</td>\n",
       "      <td>-3.379450</td>\n",
       "      <td>2.178538</td>\n",
       "      <td>-3.568264</td>\n",
       "      <td>0.316814</td>\n",
       "      <td>-1.734948</td>\n",
       "      <td>1.449139</td>\n",
       "      <td>-1.980033</td>\n",
       "      <td>...</td>\n",
       "      <td>0.785540</td>\n",
       "      <td>0.297412</td>\n",
       "      <td>0.308536</td>\n",
       "      <td>-0.598416</td>\n",
       "      <td>-0.121850</td>\n",
       "      <td>-0.491018</td>\n",
       "      <td>0.701606</td>\n",
       "      <td>0.206966</td>\n",
       "      <td>444.17</td>\n",
       "      <td>1</td>\n",
       "    </tr>\n",
       "    <tr>\n",
       "      <th>5009</th>\n",
       "      <td>57163</td>\n",
       "      <td>-10.363049</td>\n",
       "      <td>4.543672</td>\n",
       "      <td>-9.795898</td>\n",
       "      <td>5.508003</td>\n",
       "      <td>-6.037156</td>\n",
       "      <td>-0.133493</td>\n",
       "      <td>-11.724346</td>\n",
       "      <td>-3.198346</td>\n",
       "      <td>-4.767842</td>\n",
       "      <td>...</td>\n",
       "      <td>-2.457145</td>\n",
       "      <td>1.687257</td>\n",
       "      <td>0.977178</td>\n",
       "      <td>-0.543369</td>\n",
       "      <td>-0.289125</td>\n",
       "      <td>-0.107586</td>\n",
       "      <td>0.330642</td>\n",
       "      <td>0.163577</td>\n",
       "      <td>1.00</td>\n",
       "      <td>1</td>\n",
       "    </tr>\n",
       "    <tr>\n",
       "      <th>5010</th>\n",
       "      <td>58217</td>\n",
       "      <td>-0.443794</td>\n",
       "      <td>1.271395</td>\n",
       "      <td>1.206178</td>\n",
       "      <td>0.790371</td>\n",
       "      <td>0.418935</td>\n",
       "      <td>-0.848376</td>\n",
       "      <td>0.917691</td>\n",
       "      <td>-0.235511</td>\n",
       "      <td>-0.285692</td>\n",
       "      <td>...</td>\n",
       "      <td>0.119279</td>\n",
       "      <td>0.513479</td>\n",
       "      <td>-0.264243</td>\n",
       "      <td>0.443311</td>\n",
       "      <td>0.029516</td>\n",
       "      <td>-0.335141</td>\n",
       "      <td>-0.188815</td>\n",
       "      <td>-0.123391</td>\n",
       "      <td>5.09</td>\n",
       "      <td>1</td>\n",
       "    </tr>\n",
       "  </tbody>\n",
       "</table>\n",
       "<p>5011 rows × 31 columns</p>\n",
       "</div>"
      ],
      "text/plain": [
       "       Time         V1        V2        V3        V4        V5        V6  \\\n",
       "0         0  -1.359807 -0.072781  2.536347  1.378155 -0.338321  0.462388   \n",
       "1         0   1.191857  0.266151  0.166480  0.448154  0.060018 -0.082361   \n",
       "2         1  -1.358354 -1.340163  1.773209  0.379780 -0.503198  1.800499   \n",
       "3         1  -0.966272 -0.185226  1.792993 -0.863291 -0.010309  1.247203   \n",
       "4         2  -1.158233  0.877737  1.548718  0.403034 -0.407193  0.095921   \n",
       "...     ...        ...       ...       ...       ...       ...       ...   \n",
       "5006  56650  -8.762083  2.791030 -7.682767  6.991214 -5.230695 -0.357388   \n",
       "5007  57007  -1.271244  2.462675 -2.851395  2.324480 -1.372245 -0.948196   \n",
       "5008  57027  -2.335655  2.225380 -3.379450  2.178538 -3.568264  0.316814   \n",
       "5009  57163 -10.363049  4.543672 -9.795898  5.508003 -6.037156 -0.133493   \n",
       "5010  58217  -0.443794  1.271395  1.206178  0.790371  0.418935 -0.848376   \n",
       "\n",
       "             V7        V8        V9  ...       V21       V22       V23  \\\n",
       "0      0.239599  0.098698  0.363787  ... -0.018307  0.277838 -0.110474   \n",
       "1     -0.078803  0.085102 -0.255425  ... -0.225775 -0.638672  0.101288   \n",
       "2      0.791461  0.247676 -1.514654  ...  0.247998  0.771679  0.909412   \n",
       "3      0.237609  0.377436 -1.387024  ... -0.108300  0.005274 -0.190321   \n",
       "4      0.592941 -0.270533  0.817739  ... -0.009431  0.798278 -0.137458   \n",
       "...         ...       ...       ...  ...       ...       ...       ...   \n",
       "5006  -9.685621  1.749335 -4.495679  ... -0.090527  0.348590  0.051132   \n",
       "5007  -3.065234  1.166927 -2.268771  ...  0.652941  0.081931 -0.221348   \n",
       "5008  -1.734948  1.449139 -1.980033  ...  0.785540  0.297412  0.308536   \n",
       "5009 -11.724346 -3.198346 -4.767842  ... -2.457145  1.687257  0.977178   \n",
       "5010   0.917691 -0.235511 -0.285692  ...  0.119279  0.513479 -0.264243   \n",
       "\n",
       "           V24       V25       V26       V27       V28  Amount  Class  \n",
       "0     0.066928  0.128539 -0.189115  0.133558 -0.021053  149.62      0  \n",
       "1    -0.339846  0.167170  0.125895 -0.008983  0.014724    2.69      0  \n",
       "2    -0.689281 -0.327642 -0.139097 -0.055353 -0.059752  378.66      0  \n",
       "3    -1.175575  0.647376 -0.221929  0.062723  0.061458  123.50      0  \n",
       "4     0.141267 -0.206010  0.502292  0.219422  0.215153   69.99      0  \n",
       "...        ...       ...       ...       ...       ...     ...    ...  \n",
       "5006 -0.415430  0.219665  0.330020 -0.028252 -0.156270    7.52      1  \n",
       "5007 -0.523582  0.224228  0.756335  0.632800  0.250187    0.01      1  \n",
       "5008 -0.598416 -0.121850 -0.491018  0.701606  0.206966  444.17      1  \n",
       "5009 -0.543369 -0.289125 -0.107586  0.330642  0.163577    1.00      1  \n",
       "5010  0.443311  0.029516 -0.335141 -0.188815 -0.123391    5.09      1  \n",
       "\n",
       "[5011 rows x 31 columns]"
      ]
     },
     "execution_count": 3,
     "metadata": {},
     "output_type": "execute_result"
    }
   ],
   "source": [
    "file"
   ]
  },
  {
   "cell_type": "code",
   "execution_count": 4,
   "metadata": {},
   "outputs": [
    {
     "data": {
      "text/plain": [
       "0    4996\n",
       "1      15\n",
       "Name: Class, dtype: int64"
      ]
     },
     "execution_count": 4,
     "metadata": {},
     "output_type": "execute_result"
    }
   ],
   "source": [
    "file['Class'].value_counts()"
   ]
  },
  {
   "cell_type": "markdown",
   "metadata": {},
   "source": [
    "### Testando a qualidade do classificador"
   ]
  },
  {
   "cell_type": "code",
   "execution_count": 5,
   "metadata": {},
   "outputs": [],
   "source": [
    "X = file[['V1','V2','V3','V4','V5']]\n",
    "y = file[['Class']]"
   ]
  },
  {
   "cell_type": "code",
   "execution_count": 6,
   "metadata": {},
   "outputs": [],
   "source": [
    "X_train, X_test, y_train, y_test = train_test_split(X, y, test_size=0.33, random_state=42)"
   ]
  },
  {
   "cell_type": "code",
   "execution_count": 7,
   "metadata": {
    "scrolled": true
   },
   "outputs": [
    {
     "name": "stdout",
     "output_type": "stream",
     "text": [
      "TREINAMENTO:\n",
      "X: (3357, 5) y: (3357, 1)\n",
      "TESTE:\n",
      "X: (1654, 5) y: (1654, 1)\n"
     ]
    }
   ],
   "source": [
    "print(\"TREINAMENTO:\")\n",
    "print(\"X:\", X_train.shape, \"y:\", y_train.shape)\n",
    "print(\"TESTE:\")\n",
    "print(\"X:\", X_test.shape, \"y:\", y_test.shape)"
   ]
  },
  {
   "cell_type": "code",
   "execution_count": 8,
   "metadata": {
    "scrolled": true
   },
   "outputs": [
    {
     "data": {
      "text/plain": [
       "Class\n",
       "0        3348\n",
       "1           9\n",
       "dtype: int64"
      ]
     },
     "execution_count": 8,
     "metadata": {},
     "output_type": "execute_result"
    }
   ],
   "source": [
    "y_train.value_counts()"
   ]
  },
  {
   "cell_type": "code",
   "execution_count": 9,
   "metadata": {},
   "outputs": [
    {
     "data": {
      "text/plain": [
       "Class\n",
       "0        1648\n",
       "1           6\n",
       "dtype: int64"
      ]
     },
     "execution_count": 9,
     "metadata": {},
     "output_type": "execute_result"
    }
   ],
   "source": [
    "y_test.value_counts()"
   ]
  },
  {
   "cell_type": "code",
   "execution_count": 10,
   "metadata": {},
   "outputs": [
    {
     "data": {
      "text/plain": [
       "GridSearchCV(cv=5,\n",
       "             estimator=Pipeline(steps=[('nor', MinMaxScaler()),\n",
       "                                       ('LR', LogisticRegression())]),\n",
       "             param_grid={'LR__random_state': [0]}, scoring='accuracy')"
      ]
     },
     "execution_count": 10,
     "metadata": {},
     "output_type": "execute_result"
    }
   ],
   "source": [
    "model = Pipeline([('nor', MinMaxScaler()), ('LR', LogisticRegression())])\n",
    "params = {'LR__random_state': [0]}\n",
    "\n",
    "gs = GridSearchCV(model, params, cv=5, scoring='accuracy', refit=True)\n",
    "gs.fit(X_train, y_train.values.ravel())"
   ]
  },
  {
   "cell_type": "code",
   "execution_count": 11,
   "metadata": {},
   "outputs": [
    {
     "data": {
      "text/plain": [
       "{'mean_fit_time': array([0.01838808]),\n",
       " 'std_fit_time': array([0.00286883]),\n",
       " 'mean_score_time': array([0.00239897]),\n",
       " 'std_score_time': array([0.00049027]),\n",
       " 'param_LR__random_state': masked_array(data=[0],\n",
       "              mask=[False],\n",
       "        fill_value='?',\n",
       "             dtype=object),\n",
       " 'params': [{'LR__random_state': 0}],\n",
       " 'split0_test_score': array([0.99702381]),\n",
       " 'split1_test_score': array([0.99702381]),\n",
       " 'split2_test_score': array([0.99850969]),\n",
       " 'split3_test_score': array([0.99701937]),\n",
       " 'split4_test_score': array([0.99701937]),\n",
       " 'mean_test_score': array([0.99731921]),\n",
       " 'std_test_score': array([0.00059524]),\n",
       " 'rank_test_score': array([1])}"
      ]
     },
     "execution_count": 11,
     "metadata": {},
     "output_type": "execute_result"
    }
   ],
   "source": [
    "gs.cv_results_"
   ]
  },
  {
   "cell_type": "code",
   "execution_count": 12,
   "metadata": {},
   "outputs": [],
   "source": [
    "y_pred = gs.predict(X_test)"
   ]
  },
  {
   "cell_type": "code",
   "execution_count": 13,
   "metadata": {},
   "outputs": [
    {
     "name": "stdout",
     "output_type": "stream",
     "text": [
      "Accuracy\n"
     ]
    },
    {
     "data": {
      "text/plain": [
       "0.9957678355501813"
      ]
     },
     "execution_count": 13,
     "metadata": {},
     "output_type": "execute_result"
    }
   ],
   "source": [
    "print(\"Accuracy\")\n",
    "accuracy_score(y_test, y_pred)"
   ]
  },
  {
   "cell_type": "code",
   "execution_count": 14,
   "metadata": {},
   "outputs": [
    {
     "name": "stdout",
     "output_type": "stream",
     "text": [
      "confusion matrix\n"
     ]
    },
    {
     "data": {
      "text/plain": [
       "array([[1647,    1],\n",
       "       [   6,    0]], dtype=int64)"
      ]
     },
     "execution_count": 14,
     "metadata": {},
     "output_type": "execute_result"
    }
   ],
   "source": [
    "print(\"confusion matrix\")\n",
    "confusion_matrix(y_test,y_pred)"
   ]
  },
  {
   "cell_type": "code",
   "execution_count": 15,
   "metadata": {
    "scrolled": true
   },
   "outputs": [
    {
     "name": "stdout",
     "output_type": "stream",
     "text": [
      "ROC_AUC\n"
     ]
    },
    {
     "data": {
      "text/plain": [
       "0.4996966019417476"
      ]
     },
     "execution_count": 15,
     "metadata": {},
     "output_type": "execute_result"
    }
   ],
   "source": [
    "print(\"ROC_AUC\")\n",
    "roc_auc_score(y_test,y_pred)"
   ]
  },
  {
   "cell_type": "code",
   "execution_count": 16,
   "metadata": {},
   "outputs": [
    {
     "name": "stdout",
     "output_type": "stream",
     "text": [
      "F1 Score\n"
     ]
    },
    {
     "data": {
      "text/plain": [
       "0.9978794304756134"
      ]
     },
     "execution_count": 16,
     "metadata": {},
     "output_type": "execute_result"
    }
   ],
   "source": [
    "print(\"F1 Score\")\n",
    "f1_score(y_test,y_pred, pos_label=0)"
   ]
  },
  {
   "cell_type": "code",
   "execution_count": 17,
   "metadata": {
    "scrolled": true
   },
   "outputs": [
    {
     "name": "stdout",
     "output_type": "stream",
     "text": [
      "F1 Score\n"
     ]
    },
    {
     "data": {
      "text/plain": [
       "0.0"
      ]
     },
     "execution_count": 17,
     "metadata": {},
     "output_type": "execute_result"
    }
   ],
   "source": [
    "print(\"F1 Score\")\n",
    "f1_score(y_test,y_pred, pos_label=1)"
   ]
  },
  {
   "cell_type": "code",
   "execution_count": 18,
   "metadata": {},
   "outputs": [
    {
     "name": "stdout",
     "output_type": "stream",
     "text": [
      "F1 Score\n"
     ]
    },
    {
     "data": {
      "text/plain": [
       "0.4989397152378067"
      ]
     },
     "execution_count": 18,
     "metadata": {},
     "output_type": "execute_result"
    }
   ],
   "source": [
    "print(\"F1 Score\")\n",
    "f1_score(y_test,y_pred, average='macro')"
   ]
  },
  {
   "cell_type": "markdown",
   "metadata": {},
   "source": [
    "# Técnicas de Balanceamento de Dados"
   ]
  },
  {
   "cell_type": "markdown",
   "metadata": {},
   "source": [
    "## Undersampling"
   ]
  },
  {
   "cell_type": "code",
   "execution_count": 19,
   "metadata": {},
   "outputs": [],
   "source": [
    "from imblearn.under_sampling import RandomUnderSampler, EditedNearestNeighbours"
   ]
  },
  {
   "cell_type": "markdown",
   "metadata": {},
   "source": [
    "### Random UnderSampling"
   ]
  },
  {
   "cell_type": "code",
   "execution_count": 20,
   "metadata": {},
   "outputs": [
    {
     "name": "stdout",
     "output_type": "stream",
     "text": [
      "TREINAMENTO:\n",
      "X: (3357, 5) y: (3357, 1)\n",
      "TESTE:\n",
      "X: (1654, 5) y: (1654, 1)\n"
     ]
    }
   ],
   "source": [
    "print(\"TREINAMENTO:\")\n",
    "print(\"X:\", X_train.shape, \"y:\", y_train.shape)\n",
    "print(\"TESTE:\")\n",
    "print(\"X:\", X_test.shape, \"y:\", y_test.shape)"
   ]
  },
  {
   "cell_type": "code",
   "execution_count": 21,
   "metadata": {
    "scrolled": true
   },
   "outputs": [
    {
     "data": {
      "text/plain": [
       "Class\n",
       "0        3348\n",
       "1           9\n",
       "dtype: int64"
      ]
     },
     "execution_count": 21,
     "metadata": {},
     "output_type": "execute_result"
    }
   ],
   "source": [
    "y_train.value_counts()"
   ]
  },
  {
   "cell_type": "code",
   "execution_count": 26,
   "metadata": {},
   "outputs": [
    {
     "name": "stdout",
     "output_type": "stream",
     "text": [
      "Reamostragem de dados usando Random UnderSampling (RUS)...\n",
      "... Feito!\n",
      "X e Y RUS: 18 18\n"
     ]
    }
   ],
   "source": [
    "print(\"Reamostragem de dados usando Random UnderSampling (RUS)...\")\n",
    "X_RUS, y_RUS = RandomUnderSampler(random_state=42).fit_sample(X_train, y_train.values.ravel())\n",
    "print(\"... Feito!\")\n",
    "\n",
    "print(\"X e Y RUS:\", len(X_RUS), len(y_RUS))"
   ]
  },
  {
   "cell_type": "code",
   "execution_count": 27,
   "metadata": {},
   "outputs": [
    {
     "data": {
      "text/plain": [
       "GridSearchCV(cv=5,\n",
       "             estimator=Pipeline(steps=[('nor', MinMaxScaler()),\n",
       "                                       ('LR', LogisticRegression())]),\n",
       "             param_grid={'LR__random_state': [0]}, scoring='accuracy')"
      ]
     },
     "execution_count": 27,
     "metadata": {},
     "output_type": "execute_result"
    }
   ],
   "source": [
    "model = Pipeline([('nor', MinMaxScaler()), ('LR', LogisticRegression())])\n",
    "params = {'LR__random_state': [0]}\n",
    "\n",
    "gs = GridSearchCV(model, params, cv=5, scoring='accuracy', refit=True)\n",
    "gs.fit(X_RUS, y_RUS)"
   ]
  },
  {
   "cell_type": "code",
   "execution_count": 28,
   "metadata": {
    "scrolled": false
   },
   "outputs": [
    {
     "data": {
      "text/plain": [
       "{'mean_fit_time': array([0.00899239]),\n",
       " 'std_fit_time': array([0.00063265]),\n",
       " 'mean_score_time': array([0.00299807]),\n",
       " 'std_score_time': array([0.00063188]),\n",
       " 'param_LR__random_state': masked_array(data=[0],\n",
       "              mask=[False],\n",
       "        fill_value='?',\n",
       "             dtype=object),\n",
       " 'params': [{'LR__random_state': 0}],\n",
       " 'split0_test_score': array([0.75]),\n",
       " 'split1_test_score': array([1.]),\n",
       " 'split2_test_score': array([0.75]),\n",
       " 'split3_test_score': array([1.]),\n",
       " 'split4_test_score': array([0.66666667]),\n",
       " 'mean_test_score': array([0.83333333]),\n",
       " 'std_test_score': array([0.13944334]),\n",
       " 'rank_test_score': array([1])}"
      ]
     },
     "execution_count": 28,
     "metadata": {},
     "output_type": "execute_result"
    }
   ],
   "source": [
    "gs.cv_results_"
   ]
  },
  {
   "cell_type": "code",
   "execution_count": 29,
   "metadata": {},
   "outputs": [],
   "source": [
    "y_pred = gs.predict(X_test)"
   ]
  },
  {
   "cell_type": "code",
   "execution_count": 30,
   "metadata": {},
   "outputs": [
    {
     "name": "stdout",
     "output_type": "stream",
     "text": [
      "Accuracy\n",
      "0.9879081015719468\n",
      "confusion matrix\n",
      "[[1630   18]\n",
      " [   2    4]]\n",
      "ROC_AUC\n",
      "0.8278721682847896\n"
     ]
    }
   ],
   "source": [
    "print(\"Accuracy\")\n",
    "print(accuracy_score(y_test, y_pred))\n",
    "print(\"confusion matrix\")\n",
    "print(confusion_matrix(y_test,y_pred))\n",
    "print(\"ROC_AUC\")\n",
    "print(roc_auc_score(y_test,y_pred))"
   ]
  },
  {
   "cell_type": "markdown",
   "metadata": {},
   "source": [
    "### Edited Nearest Neighbor"
   ]
  },
  {
   "cell_type": "code",
   "execution_count": 31,
   "metadata": {},
   "outputs": [
    {
     "name": "stdout",
     "output_type": "stream",
     "text": [
      "TREINAMENTO:\n",
      "X: (3357, 5) y: (3357, 1)\n",
      "TESTE:\n",
      "X: (1654, 5) y: (1654, 1)\n"
     ]
    }
   ],
   "source": [
    "print(\"TREINAMENTO:\")\n",
    "print(\"X:\", X_train.shape, \"y:\", y_train.shape)\n",
    "print(\"TESTE:\")\n",
    "print(\"X:\", X_test.shape, \"y:\", y_test.shape)"
   ]
  },
  {
   "cell_type": "code",
   "execution_count": 32,
   "metadata": {},
   "outputs": [
    {
     "data": {
      "text/plain": [
       "Class\n",
       "0        3348\n",
       "1           9\n",
       "dtype: int64"
      ]
     },
     "execution_count": 32,
     "metadata": {},
     "output_type": "execute_result"
    }
   ],
   "source": [
    "y_train.value_counts()"
   ]
  },
  {
   "cell_type": "code",
   "execution_count": 33,
   "metadata": {},
   "outputs": [
    {
     "name": "stdout",
     "output_type": "stream",
     "text": [
      "Reamostragem de dados usando Edited Nearest Neighbour (ENN)...\n",
      "... Feito!\n",
      "X e Y ENN: 3350 3350\n"
     ]
    }
   ],
   "source": [
    "print(\"Reamostragem de dados usando Edited Nearest Neighbour (ENN)...\")\n",
    "X_ENN, y_ENN = EditedNearestNeighbours().fit_sample(X_train, y_train.values.ravel())\n",
    "print(\"... Feito!\")\n",
    "print(\"X e Y ENN:\", len(X_ENN), len(y_ENN))"
   ]
  },
  {
   "cell_type": "code",
   "execution_count": 34,
   "metadata": {},
   "outputs": [
    {
     "data": {
      "text/plain": [
       "GridSearchCV(cv=5,\n",
       "             estimator=Pipeline(steps=[('nor', MinMaxScaler()),\n",
       "                                       ('LR', LogisticRegression())]),\n",
       "             param_grid={'LR__random_state': [0]}, scoring='accuracy')"
      ]
     },
     "execution_count": 34,
     "metadata": {},
     "output_type": "execute_result"
    }
   ],
   "source": [
    "model = Pipeline([('nor', MinMaxScaler()), ('LR', LogisticRegression())])\n",
    "params = {'LR__random_state': [0]}\n",
    "\n",
    "gs = GridSearchCV(model, params, cv=5, scoring='accuracy', refit=True)\n",
    "gs.fit(X_ENN, y_ENN)"
   ]
  },
  {
   "cell_type": "code",
   "execution_count": 35,
   "metadata": {},
   "outputs": [
    {
     "data": {
      "text/plain": [
       "{'mean_fit_time': array([0.01818795]),\n",
       " 'std_fit_time': array([0.00248016]),\n",
       " 'mean_score_time': array([0.00299845]),\n",
       " 'std_score_time': array([0.00199945]),\n",
       " 'param_LR__random_state': masked_array(data=[0],\n",
       "              mask=[False],\n",
       "        fill_value='?',\n",
       "             dtype=object),\n",
       " 'params': [{'LR__random_state': 0}],\n",
       " 'split0_test_score': array([0.99850746]),\n",
       " 'split1_test_score': array([0.99701493]),\n",
       " 'split2_test_score': array([0.99701493]),\n",
       " 'split3_test_score': array([0.99701493]),\n",
       " 'split4_test_score': array([0.99701493]),\n",
       " 'mean_test_score': array([0.99731343]),\n",
       " 'std_test_score': array([0.00059701]),\n",
       " 'rank_test_score': array([1])}"
      ]
     },
     "execution_count": 35,
     "metadata": {},
     "output_type": "execute_result"
    }
   ],
   "source": [
    "gs.cv_results_"
   ]
  },
  {
   "cell_type": "code",
   "execution_count": 36,
   "metadata": {},
   "outputs": [],
   "source": [
    "y_pred = gs.predict(X_test)"
   ]
  },
  {
   "cell_type": "code",
   "execution_count": 37,
   "metadata": {},
   "outputs": [
    {
     "name": "stdout",
     "output_type": "stream",
     "text": [
      "Accuracy\n",
      "0.9957678355501813\n",
      "confusion matrix\n",
      "[[1647    1]\n",
      " [   6    0]]\n",
      "ROC_AUC\n",
      "0.4996966019417476\n"
     ]
    }
   ],
   "source": [
    "print(\"Accuracy\")\n",
    "print(accuracy_score(y_test, y_pred))\n",
    "print(\"confusion matrix\")\n",
    "print(confusion_matrix(y_test,y_pred))\n",
    "print(\"ROC_AUC\")\n",
    "print(roc_auc_score(y_test,y_pred))"
   ]
  },
  {
   "cell_type": "markdown",
   "metadata": {},
   "source": [
    "## Oversampling"
   ]
  },
  {
   "cell_type": "code",
   "execution_count": 38,
   "metadata": {},
   "outputs": [],
   "source": [
    "from imblearn.over_sampling import SMOTE, ADASYN, RandomOverSampler"
   ]
  },
  {
   "cell_type": "markdown",
   "metadata": {},
   "source": [
    "### Random OverSampling"
   ]
  },
  {
   "cell_type": "code",
   "execution_count": 39,
   "metadata": {},
   "outputs": [
    {
     "name": "stdout",
     "output_type": "stream",
     "text": [
      "TREINAMENTO:\n",
      "X: (3357, 5) y: (3357, 1)\n",
      "TESTE:\n",
      "X: (1654, 5) y: (1654, 1)\n"
     ]
    }
   ],
   "source": [
    "print(\"TREINAMENTO:\")\n",
    "print(\"X:\", X_train.shape, \"y:\", y_train.shape)\n",
    "print(\"TESTE:\")\n",
    "print(\"X:\", X_test.shape, \"y:\", y_test.shape)"
   ]
  },
  {
   "cell_type": "code",
   "execution_count": 40,
   "metadata": {},
   "outputs": [
    {
     "data": {
      "text/plain": [
       "Class\n",
       "0        3348\n",
       "1           9\n",
       "dtype: int64"
      ]
     },
     "execution_count": 40,
     "metadata": {},
     "output_type": "execute_result"
    }
   ],
   "source": [
    "y_train.value_counts()"
   ]
  },
  {
   "cell_type": "code",
   "execution_count": 41,
   "metadata": {},
   "outputs": [
    {
     "name": "stdout",
     "output_type": "stream",
     "text": [
      "Reamostragem de dados usando Random OverSampling (ROS)...\n",
      "... Feito!\n",
      "X e Y ROS: 6696 6696\n"
     ]
    }
   ],
   "source": [
    "print(\"Reamostragem de dados usando Random OverSampling (ROS)...\")\n",
    "ros = RandomOverSampler(random_state=42)\n",
    "X_ROS, y_ROS = ros.fit_resample(X_train, y_train)\n",
    "print(\"... Feito!\")\n",
    "print(\"X e Y ROS:\", len(X_ROS), len(y_ROS))"
   ]
  },
  {
   "cell_type": "code",
   "execution_count": 42,
   "metadata": {},
   "outputs": [
    {
     "data": {
      "text/plain": [
       "Class\n",
       "1        3348\n",
       "0        3348\n",
       "dtype: int64"
      ]
     },
     "execution_count": 42,
     "metadata": {},
     "output_type": "execute_result"
    }
   ],
   "source": [
    "y_ROS.value_counts()"
   ]
  },
  {
   "cell_type": "code",
   "execution_count": 43,
   "metadata": {
    "scrolled": false
   },
   "outputs": [
    {
     "data": {
      "text/plain": [
       "GridSearchCV(cv=5,\n",
       "             estimator=Pipeline(steps=[('nor', MinMaxScaler()),\n",
       "                                       ('LR', LogisticRegression())]),\n",
       "             param_grid={'LR__random_state': [0]}, scoring='roc_auc')"
      ]
     },
     "execution_count": 43,
     "metadata": {},
     "output_type": "execute_result"
    }
   ],
   "source": [
    "model = Pipeline([('nor', MinMaxScaler()), ('LR', LogisticRegression())])\n",
    "params = {'LR__random_state': [0]}\n",
    "\n",
    "gs = GridSearchCV(model, params, cv=5, scoring='roc_auc', refit=True)\n",
    "gs.fit(X_ROS, y_ROS.values.ravel())"
   ]
  },
  {
   "cell_type": "code",
   "execution_count": 44,
   "metadata": {
    "scrolled": true
   },
   "outputs": [
    {
     "data": {
      "text/plain": [
       "{'mean_fit_time': array([0.03217907]),\n",
       " 'std_fit_time': array([0.00522712]),\n",
       " 'mean_score_time': array([0.00399766]),\n",
       " 'std_score_time': array([0.00109545]),\n",
       " 'param_LR__random_state': masked_array(data=[0],\n",
       "              mask=[False],\n",
       "        fill_value='?',\n",
       "             dtype=object),\n",
       " 'params': [{'LR__random_state': 0}],\n",
       " 'split0_test_score': array([0.99451771]),\n",
       " 'split1_test_score': array([0.98658278]),\n",
       " 'split2_test_score': array([0.99294782]),\n",
       " 'split3_test_score': array([0.99307052]),\n",
       " 'split4_test_score': array([0.99187917]),\n",
       " 'mean_test_score': array([0.9917996]),\n",
       " 'std_test_score': array([0.00274019]),\n",
       " 'rank_test_score': array([1])}"
      ]
     },
     "execution_count": 44,
     "metadata": {},
     "output_type": "execute_result"
    }
   ],
   "source": [
    "gs.cv_results_"
   ]
  },
  {
   "cell_type": "code",
   "execution_count": 45,
   "metadata": {},
   "outputs": [],
   "source": [
    "y_pred = gs.predict(X_test)"
   ]
  },
  {
   "cell_type": "code",
   "execution_count": 46,
   "metadata": {
    "scrolled": true
   },
   "outputs": [
    {
     "name": "stdout",
     "output_type": "stream",
     "text": [
      "Accuracy\n",
      "0.9474002418379686\n",
      "confusion matrix\n",
      "[[1562   86]\n",
      " [   1    5]]\n",
      "ROC_AUC\n",
      "0.890574433656958\n"
     ]
    }
   ],
   "source": [
    "print(\"Accuracy\")\n",
    "print(accuracy_score(y_test, y_pred))\n",
    "print(\"confusion matrix\")\n",
    "print(confusion_matrix(y_test,y_pred))\n",
    "print(\"ROC_AUC\")\n",
    "print(roc_auc_score(y_test,y_pred))"
   ]
  },
  {
   "cell_type": "markdown",
   "metadata": {},
   "source": [
    "### SMOTE"
   ]
  },
  {
   "cell_type": "code",
   "execution_count": 47,
   "metadata": {},
   "outputs": [
    {
     "name": "stdout",
     "output_type": "stream",
     "text": [
      "TREINAMENTO:\n",
      "X: (3357, 5) y: (3357, 1)\n",
      "TESTE:\n",
      "X: (1654, 5) y: (1654, 1)\n"
     ]
    }
   ],
   "source": [
    "print(\"TREINAMENTO:\")\n",
    "print(\"X:\", X_train.shape, \"y:\", y_train.shape)\n",
    "print(\"TESTE:\")\n",
    "print(\"X:\", X_test.shape, \"y:\", y_test.shape)"
   ]
  },
  {
   "cell_type": "code",
   "execution_count": 48,
   "metadata": {},
   "outputs": [
    {
     "name": "stdout",
     "output_type": "stream",
     "text": [
      "Reamostragem de dados usando SMOTE (SMO)...\n",
      "... Feito!\n",
      "X e Y SMO: 6696 6696\n"
     ]
    }
   ],
   "source": [
    "print(\"Reamostragem de dados usando SMOTE (SMO)...\")\n",
    "sm = SMOTE(random_state=42)\n",
    "X_SMO, y_SMO = sm.fit_resample(X_train, y_train)\n",
    "print(\"... Feito!\")\n",
    "print(\"X e Y SMO:\", len(X_SMO), len(y_SMO))"
   ]
  },
  {
   "cell_type": "code",
   "execution_count": 49,
   "metadata": {},
   "outputs": [
    {
     "data": {
      "text/plain": [
       "Class\n",
       "1        3348\n",
       "0        3348\n",
       "dtype: int64"
      ]
     },
     "execution_count": 49,
     "metadata": {},
     "output_type": "execute_result"
    }
   ],
   "source": [
    "y_SMO.value_counts()"
   ]
  },
  {
   "cell_type": "code",
   "execution_count": 50,
   "metadata": {},
   "outputs": [
    {
     "data": {
      "text/plain": [
       "GridSearchCV(cv=5,\n",
       "             estimator=Pipeline(steps=[('nor', MinMaxScaler()),\n",
       "                                       ('LR', LogisticRegression())]),\n",
       "             param_grid={'LR__random_state': [0]}, scoring='roc_auc')"
      ]
     },
     "execution_count": 50,
     "metadata": {},
     "output_type": "execute_result"
    }
   ],
   "source": [
    "model = Pipeline([('nor', MinMaxScaler()), ('LR', LogisticRegression())])\n",
    "params = {'LR__random_state': [0]}\n",
    "\n",
    "gs = GridSearchCV(model, params, cv=5, scoring='roc_auc', refit=True)\n",
    "gs.fit(X_SMO, y_SMO.values.ravel())"
   ]
  },
  {
   "cell_type": "code",
   "execution_count": 51,
   "metadata": {},
   "outputs": [
    {
     "data": {
      "text/plain": [
       "{'mean_fit_time': array([0.03077946]),\n",
       " 'std_fit_time': array([0.00466159]),\n",
       " 'mean_score_time': array([0.00379891]),\n",
       " 'std_score_time': array([0.00074946]),\n",
       " 'param_LR__random_state': masked_array(data=[0],\n",
       "              mask=[False],\n",
       "        fill_value='?',\n",
       "             dtype=object),\n",
       " 'params': [{'LR__random_state': 0}],\n",
       " 'split0_test_score': array([0.99617732]),\n",
       " 'split1_test_score': array([0.99119871]),\n",
       " 'split2_test_score': array([0.99577226]),\n",
       " 'split3_test_score': array([0.99538184]),\n",
       " 'split4_test_score': array([0.99514089]),\n",
       " 'mean_test_score': array([0.9947342]),\n",
       " 'std_test_score': array([0.00180248]),\n",
       " 'rank_test_score': array([1])}"
      ]
     },
     "execution_count": 51,
     "metadata": {},
     "output_type": "execute_result"
    }
   ],
   "source": [
    "gs.cv_results_"
   ]
  },
  {
   "cell_type": "code",
   "execution_count": 52,
   "metadata": {},
   "outputs": [],
   "source": [
    "y_pred = gs.predict(X_test)"
   ]
  },
  {
   "cell_type": "code",
   "execution_count": 53,
   "metadata": {
    "scrolled": true
   },
   "outputs": [
    {
     "name": "stdout",
     "output_type": "stream",
     "text": [
      "Accuracy\n",
      "0.9637243047158404\n",
      "confusion matrix\n",
      "[[1589   59]\n",
      " [   1    5]]\n",
      "ROC_AUC\n",
      "0.8987661812297736\n"
     ]
    }
   ],
   "source": [
    "print(\"Accuracy\")\n",
    "print(accuracy_score(y_test, y_pred))\n",
    "print(\"confusion matrix\")\n",
    "print(confusion_matrix(y_test,y_pred))\n",
    "print(\"ROC_AUC\")\n",
    "print(roc_auc_score(y_test,y_pred))"
   ]
  },
  {
   "cell_type": "markdown",
   "metadata": {},
   "source": [
    "### ADASYN"
   ]
  },
  {
   "cell_type": "code",
   "execution_count": 54,
   "metadata": {},
   "outputs": [
    {
     "name": "stdout",
     "output_type": "stream",
     "text": [
      "TREINAMENTO:\n",
      "X: (3357, 5) y: (3357, 1)\n",
      "TESTE:\n",
      "X: (1654, 5) y: (1654, 1)\n"
     ]
    }
   ],
   "source": [
    "print(\"TREINAMENTO:\")\n",
    "print(\"X:\", X_train.shape, \"y:\", y_train.shape)\n",
    "print(\"TESTE:\")\n",
    "print(\"X:\", X_test.shape, \"y:\", y_test.shape)"
   ]
  },
  {
   "cell_type": "code",
   "execution_count": 55,
   "metadata": {
    "scrolled": true
   },
   "outputs": [
    {
     "name": "stdout",
     "output_type": "stream",
     "text": [
      "Reamostragem de dados usando ADASYN (ADA)...\n",
      "... Feito!\n",
      "X e Y ADA: 6694 6694\n"
     ]
    }
   ],
   "source": [
    "print(\"Reamostragem de dados usando ADASYN (ADA)...\")\n",
    "ada = ADASYN(random_state=42)\n",
    "X_ADA, y_ADA = ada.fit_resample(X_train, y_train)\n",
    "print(\"... Feito!\")\n",
    "print(\"X e Y ADA:\", len(X_ADA), len(y_ADA))"
   ]
  },
  {
   "cell_type": "code",
   "execution_count": 56,
   "metadata": {
    "scrolled": true
   },
   "outputs": [
    {
     "data": {
      "text/plain": [
       "Class\n",
       "0        3348\n",
       "1        3346\n",
       "dtype: int64"
      ]
     },
     "execution_count": 56,
     "metadata": {},
     "output_type": "execute_result"
    }
   ],
   "source": [
    "y_ADA.value_counts()"
   ]
  },
  {
   "cell_type": "code",
   "execution_count": 57,
   "metadata": {},
   "outputs": [
    {
     "data": {
      "text/plain": [
       "GridSearchCV(cv=5,\n",
       "             estimator=Pipeline(steps=[('nor', MinMaxScaler()),\n",
       "                                       ('LR', LogisticRegression())]),\n",
       "             param_grid={'LR__random_state': [0]}, scoring='roc_auc')"
      ]
     },
     "execution_count": 57,
     "metadata": {},
     "output_type": "execute_result"
    }
   ],
   "source": [
    "model = Pipeline([('nor', MinMaxScaler()), ('LR', LogisticRegression())])\n",
    "params = {'LR__random_state': [0]}\n",
    "\n",
    "gs = GridSearchCV(model, params, cv=5, scoring='roc_auc', refit=True)\n",
    "gs.fit(X_ADA, y_ADA.values.ravel())"
   ]
  },
  {
   "cell_type": "code",
   "execution_count": 58,
   "metadata": {},
   "outputs": [
    {
     "data": {
      "text/plain": [
       "{'mean_fit_time': array([0.02678285]),\n",
       " 'std_fit_time': array([0.00518877]),\n",
       " 'mean_score_time': array([0.00459766]),\n",
       " 'std_score_time': array([0.00119877]),\n",
       " 'param_LR__random_state': masked_array(data=[0],\n",
       "              mask=[False],\n",
       "        fill_value='?',\n",
       "             dtype=object),\n",
       " 'params': [{'LR__random_state': 0}],\n",
       " 'split0_test_score': array([0.99203311]),\n",
       " 'split1_test_score': array([0.99273364]),\n",
       " 'split2_test_score': array([0.99317761]),\n",
       " 'split3_test_score': array([0.99242799]),\n",
       " 'split4_test_score': array([0.99277193]),\n",
       " 'mean_test_score': array([0.99262886]),\n",
       " 'std_test_score': array([0.00038153]),\n",
       " 'rank_test_score': array([1])}"
      ]
     },
     "execution_count": 58,
     "metadata": {},
     "output_type": "execute_result"
    }
   ],
   "source": [
    "gs.cv_results_"
   ]
  },
  {
   "cell_type": "code",
   "execution_count": 59,
   "metadata": {},
   "outputs": [],
   "source": [
    "y_pred = gs.predict(X_test)"
   ]
  },
  {
   "cell_type": "code",
   "execution_count": 60,
   "metadata": {
    "scrolled": true
   },
   "outputs": [
    {
     "name": "stdout",
     "output_type": "stream",
     "text": [
      "Accuracy\n",
      "0.9540507859733979\n",
      "confusion matrix\n",
      "[[1573   75]\n",
      " [   1    5]]\n",
      "ROC_AUC\n",
      "0.8939118122977346\n"
     ]
    }
   ],
   "source": [
    "print(\"Accuracy\")\n",
    "print(accuracy_score(y_test, y_pred))\n",
    "print(\"confusion matrix\")\n",
    "print(confusion_matrix(y_test,y_pred))\n",
    "print(\"ROC_AUC\")\n",
    "print(roc_auc_score(y_test,y_pred))"
   ]
  },
  {
   "cell_type": "markdown",
   "metadata": {},
   "source": [
    "#### Nota: Ao utilizar uma técnica de Oversampling você deveria garantir que os dados utilizados na validação sejam dados originais e não sintéticos. É complicado assegurar isso utilizando o pipeline do ScikitLearn. Então, você implementar sua própria solução."
   ]
  },
  {
   "cell_type": "code",
   "execution_count": null,
   "metadata": {},
   "outputs": [],
   "source": []
  }
 ],
 "metadata": {
  "kernelspec": {
   "display_name": "Python 3",
   "language": "python",
   "name": "python3"
  },
  "language_info": {
   "codemirror_mode": {
    "name": "ipython",
    "version": 3
   },
   "file_extension": ".py",
   "mimetype": "text/x-python",
   "name": "python",
   "nbconvert_exporter": "python",
   "pygments_lexer": "ipython3",
   "version": "3.8.5"
  }
 },
 "nbformat": 4,
 "nbformat_minor": 4
}
