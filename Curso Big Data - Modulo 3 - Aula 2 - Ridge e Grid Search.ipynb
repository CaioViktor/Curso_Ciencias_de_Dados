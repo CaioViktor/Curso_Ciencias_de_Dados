{
 "cells": [
  {
   "cell_type": "code",
   "execution_count": 3,
   "metadata": {},
   "outputs": [
    {
     "output_type": "error",
     "ename": "ModuleNotFoundError",
     "evalue": "No module named 'plotnine'",
     "traceback": [
      "\u001b[0;31m---------------------------------------------------------------------------\u001b[0m",
      "\u001b[0;31mModuleNotFoundError\u001b[0m                       Traceback (most recent call last)",
      "\u001b[0;32m<ipython-input-3-831e0427a524>\u001b[0m in \u001b[0;36m<module>\u001b[0;34m\u001b[0m\n\u001b[1;32m      1\u001b[0m \u001b[0;32mimport\u001b[0m \u001b[0mnumpy\u001b[0m \u001b[0;32mas\u001b[0m \u001b[0mnp\u001b[0m\u001b[0;34m\u001b[0m\u001b[0;34m\u001b[0m\u001b[0m\n\u001b[1;32m      2\u001b[0m \u001b[0;32mimport\u001b[0m \u001b[0mpandas\u001b[0m \u001b[0;32mas\u001b[0m \u001b[0mpd\u001b[0m\u001b[0;34m\u001b[0m\u001b[0;34m\u001b[0m\u001b[0m\n\u001b[0;32m----> 3\u001b[0;31m \u001b[0;32mfrom\u001b[0m \u001b[0mplotnine\u001b[0m \u001b[0;32mimport\u001b[0m \u001b[0;34m*\u001b[0m\u001b[0;34m\u001b[0m\u001b[0;34m\u001b[0m\u001b[0m\n\u001b[0m\u001b[1;32m      4\u001b[0m \u001b[0;32mimport\u001b[0m \u001b[0mmatplotlib\u001b[0m \u001b[0;32mas\u001b[0m \u001b[0mplt\u001b[0m\u001b[0;34m\u001b[0m\u001b[0;34m\u001b[0m\u001b[0m\n\u001b[1;32m      5\u001b[0m \u001b[0;34m\u001b[0m\u001b[0m\n",
      "\u001b[0;31mModuleNotFoundError\u001b[0m: No module named 'plotnine'"
     ]
    }
   ],
   "source": [
    "import numpy as np\n",
    "import pandas as pd\n",
    "from plotnine import *\n",
    "import matplotlib as plt\n",
    "\n",
    "from sklearn.model_selection import train_test_split\n",
    "from sklearn import datasets, linear_model\n",
    "from sklearn.metrics import mean_squared_error, r2_score\n",
    "\n",
    "from sklearn.model_selection import GridSearchCV\n",
    "\n",
    "from sklearn.linear_model import Ridge, Lasso, ElasticNet\n",
    "from sklearn.linear_model import RidgeCV, LassoCV, ElasticNetCV\n",
    "\n",
    "from sklearn.pipeline import make_pipeline, Pipeline\n",
    "from sklearn.preprocessing import StandardScaler\n",
    "from sklearn.preprocessing import PolynomialFeatures"
   ]
  },
  {
   "cell_type": "markdown",
   "metadata": {},
   "source": [
    "## Regularização e Grid Search"
   ]
  },
  {
   "cell_type": "code",
   "execution_count": 2,
   "metadata": {},
   "outputs": [],
   "source": [
    "# Usaremos o dataset no qual mediremos o comprimento de um cateter (em cm) de acordo com a altura (em metros) do paciente\n",
    "df = pd.DataFrame(data=[[1.087, 37], [1.613, 50], [0.953, 34], [1.003, 36], [1.156,43], [0.978, 28], [1.092, 37], [0.572, 20], [0.940, 34], [0.597, 30], [0.838, 38], [1.473, 47]], columns=['Altura','Comprimento'])"
   ]
  },
  {
   "cell_type": "code",
   "execution_count": 3,
   "metadata": {},
   "outputs": [
    {
     "data": {
      "text/html": [
       "<div>\n",
       "<style scoped>\n",
       "    .dataframe tbody tr th:only-of-type {\n",
       "        vertical-align: middle;\n",
       "    }\n",
       "\n",
       "    .dataframe tbody tr th {\n",
       "        vertical-align: top;\n",
       "    }\n",
       "\n",
       "    .dataframe thead th {\n",
       "        text-align: right;\n",
       "    }\n",
       "</style>\n",
       "<table border=\"1\" class=\"dataframe\">\n",
       "  <thead>\n",
       "    <tr style=\"text-align: right;\">\n",
       "      <th></th>\n",
       "      <th>Altura</th>\n",
       "      <th>Comprimento</th>\n",
       "    </tr>\n",
       "  </thead>\n",
       "  <tbody>\n",
       "    <tr>\n",
       "      <th>0</th>\n",
       "      <td>1.087</td>\n",
       "      <td>37</td>\n",
       "    </tr>\n",
       "    <tr>\n",
       "      <th>1</th>\n",
       "      <td>1.613</td>\n",
       "      <td>50</td>\n",
       "    </tr>\n",
       "    <tr>\n",
       "      <th>2</th>\n",
       "      <td>0.953</td>\n",
       "      <td>34</td>\n",
       "    </tr>\n",
       "    <tr>\n",
       "      <th>3</th>\n",
       "      <td>1.003</td>\n",
       "      <td>36</td>\n",
       "    </tr>\n",
       "    <tr>\n",
       "      <th>4</th>\n",
       "      <td>1.156</td>\n",
       "      <td>43</td>\n",
       "    </tr>\n",
       "    <tr>\n",
       "      <th>5</th>\n",
       "      <td>0.978</td>\n",
       "      <td>28</td>\n",
       "    </tr>\n",
       "    <tr>\n",
       "      <th>6</th>\n",
       "      <td>1.092</td>\n",
       "      <td>37</td>\n",
       "    </tr>\n",
       "    <tr>\n",
       "      <th>7</th>\n",
       "      <td>0.572</td>\n",
       "      <td>20</td>\n",
       "    </tr>\n",
       "    <tr>\n",
       "      <th>8</th>\n",
       "      <td>0.940</td>\n",
       "      <td>34</td>\n",
       "    </tr>\n",
       "    <tr>\n",
       "      <th>9</th>\n",
       "      <td>0.597</td>\n",
       "      <td>30</td>\n",
       "    </tr>\n",
       "    <tr>\n",
       "      <th>10</th>\n",
       "      <td>0.838</td>\n",
       "      <td>38</td>\n",
       "    </tr>\n",
       "    <tr>\n",
       "      <th>11</th>\n",
       "      <td>1.473</td>\n",
       "      <td>47</td>\n",
       "    </tr>\n",
       "  </tbody>\n",
       "</table>\n",
       "</div>"
      ],
      "text/plain": [
       "    Altura  Comprimento\n",
       "0    1.087           37\n",
       "1    1.613           50\n",
       "2    0.953           34\n",
       "3    1.003           36\n",
       "4    1.156           43\n",
       "5    0.978           28\n",
       "6    1.092           37\n",
       "7    0.572           20\n",
       "8    0.940           34\n",
       "9    0.597           30\n",
       "10   0.838           38\n",
       "11   1.473           47"
      ]
     },
     "execution_count": 3,
     "metadata": {},
     "output_type": "execute_result"
    }
   ],
   "source": [
    "df"
   ]
  },
  {
   "cell_type": "markdown",
   "metadata": {},
   "source": [
    "## Gerando mais instâncias para o dataset do cateter"
   ]
  },
  {
   "cell_type": "code",
   "execution_count": 4,
   "metadata": {},
   "outputs": [],
   "source": [
    "import random\n",
    "import math\n",
    "\n",
    "add_instances_into_dataset = 200\n",
    "\n",
    "random.seed(add_instances_into_dataset)\n",
    "\n",
    "size_df = len(df)\n",
    "\n",
    "for i in range(add_instances_into_dataset):\n",
    "    rand_altura = random.randrange(800, 1600)\n",
    "    rand_altura /= 1000\n",
    "    \n",
    "    rand_comprimento = rand_altura*25 + random.randrange(10, 15)\n",
    "    rand_comprimento = math.floor(rand_comprimento)\n",
    "\n",
    "    new_row = {'Altura': rand_altura, 'Comprimento': rand_comprimento}\n",
    "    df = df.append(new_row, ignore_index=True)\n",
    "    "
   ]
  },
  {
   "cell_type": "code",
   "execution_count": 7,
   "metadata": {},
   "outputs": [
    {
     "data": {
      "text/html": [
       "<div>\n",
       "<style scoped>\n",
       "    .dataframe tbody tr th:only-of-type {\n",
       "        vertical-align: middle;\n",
       "    }\n",
       "\n",
       "    .dataframe tbody tr th {\n",
       "        vertical-align: top;\n",
       "    }\n",
       "\n",
       "    .dataframe thead th {\n",
       "        text-align: right;\n",
       "    }\n",
       "</style>\n",
       "<table border=\"1\" class=\"dataframe\">\n",
       "  <thead>\n",
       "    <tr style=\"text-align: right;\">\n",
       "      <th></th>\n",
       "      <th>Altura</th>\n",
       "      <th>Comprimento</th>\n",
       "    </tr>\n",
       "  </thead>\n",
       "  <tbody>\n",
       "    <tr>\n",
       "      <th>0</th>\n",
       "      <td>1.087</td>\n",
       "      <td>37.0</td>\n",
       "    </tr>\n",
       "    <tr>\n",
       "      <th>1</th>\n",
       "      <td>1.613</td>\n",
       "      <td>50.0</td>\n",
       "    </tr>\n",
       "    <tr>\n",
       "      <th>2</th>\n",
       "      <td>0.953</td>\n",
       "      <td>34.0</td>\n",
       "    </tr>\n",
       "    <tr>\n",
       "      <th>3</th>\n",
       "      <td>1.003</td>\n",
       "      <td>36.0</td>\n",
       "    </tr>\n",
       "    <tr>\n",
       "      <th>4</th>\n",
       "      <td>1.156</td>\n",
       "      <td>43.0</td>\n",
       "    </tr>\n",
       "    <tr>\n",
       "      <th>...</th>\n",
       "      <td>...</td>\n",
       "      <td>...</td>\n",
       "    </tr>\n",
       "    <tr>\n",
       "      <th>207</th>\n",
       "      <td>0.926</td>\n",
       "      <td>36.0</td>\n",
       "    </tr>\n",
       "    <tr>\n",
       "      <th>208</th>\n",
       "      <td>1.348</td>\n",
       "      <td>44.0</td>\n",
       "    </tr>\n",
       "    <tr>\n",
       "      <th>209</th>\n",
       "      <td>1.529</td>\n",
       "      <td>48.0</td>\n",
       "    </tr>\n",
       "    <tr>\n",
       "      <th>210</th>\n",
       "      <td>1.344</td>\n",
       "      <td>46.0</td>\n",
       "    </tr>\n",
       "    <tr>\n",
       "      <th>211</th>\n",
       "      <td>0.949</td>\n",
       "      <td>34.0</td>\n",
       "    </tr>\n",
       "  </tbody>\n",
       "</table>\n",
       "<p>212 rows × 2 columns</p>\n",
       "</div>"
      ],
      "text/plain": [
       "     Altura  Comprimento\n",
       "0     1.087         37.0\n",
       "1     1.613         50.0\n",
       "2     0.953         34.0\n",
       "3     1.003         36.0\n",
       "4     1.156         43.0\n",
       "..      ...          ...\n",
       "207   0.926         36.0\n",
       "208   1.348         44.0\n",
       "209   1.529         48.0\n",
       "210   1.344         46.0\n",
       "211   0.949         34.0\n",
       "\n",
       "[212 rows x 2 columns]"
      ]
     },
     "execution_count": 7,
     "metadata": {},
     "output_type": "execute_result"
    }
   ],
   "source": [
    "df"
   ]
  },
  {
   "cell_type": "code",
   "execution_count": 9,
   "metadata": {},
   "outputs": [],
   "source": [
    "X = df[['Altura']]\n",
    "y = df[['Comprimento']]"
   ]
  },
  {
   "cell_type": "code",
   "execution_count": 10,
   "metadata": {},
   "outputs": [],
   "source": [
    "X_train, X_test, y_train, y_test = train_test_split(X, y, test_size=0.33, random_state=42)"
   ]
  },
  {
   "cell_type": "code",
   "execution_count": 11,
   "metadata": {
    "scrolled": true
   },
   "outputs": [
    {
     "name": "stdout",
     "output_type": "stream",
     "text": [
      "TREINAMENTO:\n",
      "X: (142, 1) y: (142, 1)\n",
      "TESTE:\n",
      "X: (70, 1) y: (70, 1)\n"
     ]
    }
   ],
   "source": [
    "print(\"TREINAMENTO:\")\n",
    "print(\"X:\", X_train.shape, \"y:\", y_train.shape)\n",
    "print(\"TESTE:\")\n",
    "print(\"X:\", X_test.shape, \"y:\", y_test.shape)"
   ]
  },
  {
   "cell_type": "markdown",
   "metadata": {},
   "source": [
    "## Linear Regression w/o Ridge"
   ]
  },
  {
   "cell_type": "code",
   "execution_count": 8,
   "metadata": {},
   "outputs": [
    {
     "data": {
      "text/plain": [
       "LinearRegression()"
      ]
     },
     "execution_count": 8,
     "metadata": {},
     "output_type": "execute_result"
    }
   ],
   "source": [
    "from sklearn.linear_model import LinearRegression\n",
    "regr = linear_model.LinearRegression()\n",
    "regr"
   ]
  },
  {
   "cell_type": "code",
   "execution_count": 9,
   "metadata": {},
   "outputs": [
    {
     "data": {
      "text/plain": [
       "LinearRegression()"
      ]
     },
     "execution_count": 9,
     "metadata": {},
     "output_type": "execute_result"
    }
   ],
   "source": [
    "regr.fit(X_train, y_train)"
   ]
  },
  {
   "cell_type": "code",
   "execution_count": 10,
   "metadata": {},
   "outputs": [
    {
     "data": {
      "text/plain": [
       "(70, 1)"
      ]
     },
     "execution_count": 10,
     "metadata": {},
     "output_type": "execute_result"
    }
   ],
   "source": [
    "y_pred = regr.predict(X_test)\n",
    "y_pred.shape"
   ]
  },
  {
   "cell_type": "code",
   "execution_count": 11,
   "metadata": {
    "scrolled": true
   },
   "outputs": [
    {
     "name": "stdout",
     "output_type": "stream",
     "text": [
      "Coefficient(s): \n",
      " [[24.92705744]]\n",
      "Intercept(s): \n",
      " [11.38086511]\n",
      "Mean squared error: 2.93\n",
      "Coefficient of determination: 0.93\n"
     ]
    }
   ],
   "source": [
    "print('Coefficient(s): \\n', regr.coef_)\n",
    "print('Intercept(s): \\n', regr.intercept_)\n",
    "\n",
    "# The mean squared error\n",
    "print('Mean squared error: %.2f'\n",
    "      % mean_squared_error(y_pred, y_test))\n",
    "\n",
    "# The coefficient of determination: 1 is perfect prediction\n",
    "print('Coefficient of determination: %.2f'\n",
    "      % r2_score(y_test, y_pred))"
   ]
  },
  {
   "cell_type": "markdown",
   "metadata": {},
   "source": [
    "# Ridge"
   ]
  },
  {
   "cell_type": "raw",
   "metadata": {},
   "source": [
    "https://scikit-learn.org/stable/modules/generated/sklearn.linear_model.Ridge.html"
   ]
  },
  {
   "cell_type": "code",
   "execution_count": 1,
   "metadata": {},
   "outputs": [
    {
     "ename": "NameError",
     "evalue": "name 'Ridge' is not defined",
     "output_type": "error",
     "traceback": [
      "\u001b[0;31m---------------------------------------------------------------------------\u001b[0m",
      "\u001b[0;31mNameError\u001b[0m                                 Traceback (most recent call last)",
      "\u001b[0;32m<ipython-input-1-e709a36ba5d1>\u001b[0m in \u001b[0;36m<module>\u001b[0;34m\u001b[0m\n\u001b[0;32m----> 1\u001b[0;31m \u001b[0mridge_clf\u001b[0m \u001b[0;34m=\u001b[0m \u001b[0mRidge\u001b[0m\u001b[0;34m(\u001b[0m\u001b[0malpha\u001b[0m\u001b[0;34m=\u001b[0m\u001b[0;36m1.0\u001b[0m\u001b[0;34m)\u001b[0m \u001b[0;31m# Método dos Mínimos Quadrados com Ridge (OLS implemented)\u001b[0m\u001b[0;34m\u001b[0m\u001b[0;34m\u001b[0m\u001b[0m\n\u001b[0m",
      "\u001b[0;31mNameError\u001b[0m: name 'Ridge' is not defined"
     ]
    }
   ],
   "source": [
    "ridge_clf = Ridge(alpha=1.0) # Método dos Mínimos Quadrados com Ridge (OLS implemented)"
   ]
  },
  {
   "cell_type": "code",
   "execution_count": 13,
   "metadata": {},
   "outputs": [
    {
     "data": {
      "text/plain": [
       "Ridge()"
      ]
     },
     "execution_count": 13,
     "metadata": {},
     "output_type": "execute_result"
    }
   ],
   "source": [
    "ridge_clf.fit(X_train, y_train)"
   ]
  },
  {
   "cell_type": "code",
   "execution_count": 14,
   "metadata": {},
   "outputs": [],
   "source": [
    "y_pred = ridge_clf.predict(X_test)"
   ]
  },
  {
   "cell_type": "code",
   "execution_count": 15,
   "metadata": {},
   "outputs": [
    {
     "name": "stdout",
     "output_type": "stream",
     "text": [
      "Coefficients: \n",
      " [[22.18236233]] Independent term: [14.70190754]\n",
      "Mean squared error: 3.55\n",
      "Coefficient of determination: 0.91\n"
     ]
    }
   ],
   "source": [
    "print('Coefficients: \\n', ridge_clf.coef_, 'Independent term:', ridge_clf.intercept_)\n",
    "# The mean squared error\n",
    "print('Mean squared error: %.2f'\n",
    "      % mean_squared_error(y_test, y_pred))\n",
    "# The coefficient of determination: 1 is perfect prediction\n",
    "print('Coefficient of determination: %.2f'\n",
    "      % r2_score(y_test, y_pred))"
   ]
  },
  {
   "cell_type": "markdown",
   "metadata": {},
   "source": [
    "## Ridge com Grid Search"
   ]
  },
  {
   "cell_type": "raw",
   "metadata": {},
   "source": [
    "https://scikit-learn.org/stable/modules/grid_search.html"
   ]
  },
  {
   "cell_type": "code",
   "execution_count": 16,
   "metadata": {},
   "outputs": [],
   "source": [
    "parameters = {'alpha':[1,2,3]} #O hiperparâmetro Lambda é chamado de Alpha no ScikitLearn"
   ]
  },
  {
   "cell_type": "code",
   "execution_count": 17,
   "metadata": {},
   "outputs": [],
   "source": [
    "clf = GridSearchCV(Ridge(), parameters, scoring='r2', refit=True) "
   ]
  },
  {
   "cell_type": "code",
   "execution_count": 18,
   "metadata": {},
   "outputs": [
    {
     "data": {
      "text/plain": [
       "GridSearchCV(estimator=Ridge(), param_grid={'alpha': [1, 2, 3]}, scoring='r2')"
      ]
     },
     "execution_count": 18,
     "metadata": {},
     "output_type": "execute_result"
    }
   ],
   "source": [
    "clf.fit(X_train, y_train)"
   ]
  },
  {
   "cell_type": "code",
   "execution_count": 19,
   "metadata": {},
   "outputs": [
    {
     "data": {
      "text/plain": [
       "{'alpha': 1}"
      ]
     },
     "execution_count": 19,
     "metadata": {},
     "output_type": "execute_result"
    }
   ],
   "source": [
    "# Retorna o hiperparâmetro que apresentou melhor resultado\n",
    "clf.best_params_"
   ]
  },
  {
   "cell_type": "code",
   "execution_count": 20,
   "metadata": {},
   "outputs": [
    {
     "data": {
      "text/plain": [
       "0.9107275863855946"
      ]
     },
     "execution_count": 20,
     "metadata": {},
     "output_type": "execute_result"
    }
   ],
   "source": [
    "# Retorna o score do melhor hiperparâmetro obtido\n",
    "clf.best_score_"
   ]
  },
  {
   "cell_type": "code",
   "execution_count": 21,
   "metadata": {},
   "outputs": [
    {
     "data": {
      "text/plain": [
       "{'mean_fit_time': array([0.00539646, 0.00359721, 0.00328488]),\n",
       " 'std_fit_time': array([0.00257535, 0.00048916, 0.00057235]),\n",
       " 'mean_score_time': array([0.00359735, 0.00259895, 0.00259895]),\n",
       " 'std_score_time': array([0.00135514, 0.00048887, 0.00048868]),\n",
       " 'param_alpha': masked_array(data=[1, 2, 3],\n",
       "              mask=[False, False, False],\n",
       "        fill_value='?',\n",
       "             dtype=object),\n",
       " 'params': [{'alpha': 1}, {'alpha': 2}, {'alpha': 3}],\n",
       " 'split0_test_score': array([0.91286339, 0.8815138 , 0.84249387]),\n",
       " 'split1_test_score': array([0.87188018, 0.84544055, 0.81010292]),\n",
       " 'split2_test_score': array([0.89598408, 0.84483485, 0.79349809]),\n",
       " 'split3_test_score': array([0.94763079, 0.91554515, 0.87428563]),\n",
       " 'split4_test_score': array([0.9252795 , 0.89589719, 0.85725134]),\n",
       " 'mean_test_score': array([0.91072759, 0.87664631, 0.83552637]),\n",
       " 'std_test_score': array([0.02570859, 0.02790404, 0.02978432]),\n",
       " 'rank_test_score': array([1, 2, 3])}"
      ]
     },
     "execution_count": 21,
     "metadata": {},
     "output_type": "execute_result"
    }
   ],
   "source": [
    "# Mostra o relatório geral\n",
    "clf.cv_results_"
   ]
  },
  {
   "cell_type": "code",
   "execution_count": 22,
   "metadata": {},
   "outputs": [],
   "source": [
    "y_pred = clf.predict(X_test)"
   ]
  },
  {
   "cell_type": "code",
   "execution_count": 23,
   "metadata": {},
   "outputs": [
    {
     "name": "stdout",
     "output_type": "stream",
     "text": [
      "Mean squared error: 3.55\n",
      "Coefficient of determination: 0.91\n"
     ]
    }
   ],
   "source": [
    "print('Mean squared error: %.2f'\n",
    "      % mean_squared_error(y_test, y_pred))\n",
    "# The coefficient of determination: 1 is perfect prediction\n",
    "print('Coefficient of determination: %.2f'\n",
    "      % r2_score(y_test, y_pred))"
   ]
  },
  {
   "cell_type": "markdown",
   "metadata": {},
   "source": [
    "### Train-Valid-Test K-fold Generalized"
   ]
  },
  {
   "cell_type": "raw",
   "metadata": {},
   "source": [
    "Estratégia para variar o conjunto de teste (o que acaba variando o conjunto de treino também). Outer-cross validation."
   ]
  },
  {
   "cell_type": "code",
   "execution_count": 24,
   "metadata": {},
   "outputs": [
    {
     "data": {
      "text/plain": [
       "(212, 1)"
      ]
     },
     "execution_count": 24,
     "metadata": {},
     "output_type": "execute_result"
    }
   ],
   "source": [
    "X.shape"
   ]
  },
  {
   "cell_type": "code",
   "execution_count": 25,
   "metadata": {},
   "outputs": [
    {
     "data": {
      "text/plain": [
       "(212, 1)"
      ]
     },
     "execution_count": 25,
     "metadata": {},
     "output_type": "execute_result"
    }
   ],
   "source": [
    "y.shape"
   ]
  },
  {
   "cell_type": "code",
   "execution_count": 26,
   "metadata": {},
   "outputs": [
    {
     "name": "stdout",
     "output_type": "stream",
     "text": [
      "---------SUMMARY---------\n",
      "{'mean_fit_time': array([0.00379844, 0.00359788, 0.00319953]), 'std_fit_time': array([0.00074883, 0.00048961, 0.00040307]), 'mean_score_time': array([0.00259924, 0.0023984 , 0.00279675]), 'std_score_time': array([0.00048833, 0.00048938, 0.00040298]), 'param_alpha': masked_array(data=[1, 2, 3],\n",
      "             mask=[False, False, False],\n",
      "       fill_value='?',\n",
      "            dtype=object), 'params': [{'alpha': 1}, {'alpha': 2}, {'alpha': 3}], 'split0_test_score': array([0.91286339, 0.8815138 , 0.84249387]), 'split1_test_score': array([0.87188018, 0.84544055, 0.81010292]), 'split2_test_score': array([0.89598408, 0.84483485, 0.79349809]), 'split3_test_score': array([0.94763079, 0.91554515, 0.87428563]), 'split4_test_score': array([0.9252795 , 0.89589719, 0.85725134]), 'mean_test_score': array([0.91072759, 0.87664631, 0.83552637]), 'std_test_score': array([0.02570859, 0.02790404, 0.02978432]), 'rank_test_score': array([1, 2, 3])}\n",
      "-------BEST PARAMS-------\n",
      "{'alpha': 1}\n",
      "---------RESULTS---------\n",
      "Mean squared error: 3.55\n",
      "Coefficient of determination: 0.91\n",
      "-------------------------\n",
      "\n",
      "---------SUMMARY---------\n",
      "{'mean_fit_time': array([0.0039979 , 0.00319815, 0.00319757]), 'std_fit_time': array([4.90933902e-07, 3.99828000e-04, 3.99041215e-04]), 'mean_score_time': array([0.00259752, 0.00279822, 0.00259886]), 'std_score_time': array([0.00048936, 0.0003999 , 0.00048996]), 'param_alpha': masked_array(data=[1, 2, 3],\n",
      "             mask=[False, False, False],\n",
      "       fill_value='?',\n",
      "            dtype=object), 'params': [{'alpha': 1}, {'alpha': 2}, {'alpha': 3}], 'split0_test_score': array([0.91618533, 0.87291051, 0.82261372]), 'split1_test_score': array([0.88895152, 0.84991091, 0.80528318]), 'split2_test_score': array([0.9339904 , 0.93132223, 0.9057573 ]), 'split3_test_score': array([0.87838919, 0.82900599, 0.77871083]), 'split4_test_score': array([0.92394544, 0.87578241, 0.82482708]), 'mean_test_score': array([0.90829238, 0.87178641, 0.82743842]), 'std_test_score': array([0.02114699, 0.03426499, 0.04249512]), 'rank_test_score': array([1, 2, 3])}\n",
      "-------BEST PARAMS-------\n",
      "{'alpha': 1}\n",
      "---------RESULTS---------\n",
      "Mean squared error: 2.78\n",
      "Coefficient of determination: 0.93\n",
      "-------------------------\n",
      "\n",
      "---------SUMMARY---------\n",
      "{'mean_fit_time': array([0.00266805, 0.0031251 , 0.0031249 ]), 'std_fit_time': array([0.00143251, 0.00625019, 0.00624981]), 'mean_score_time': array([0.00179892, 0.00312486, 0.00312486]), 'std_score_time': array([0.00146881, 0.00624971, 0.00624971]), 'param_alpha': masked_array(data=[1, 2, 3],\n",
      "             mask=[False, False, False],\n",
      "       fill_value='?',\n",
      "            dtype=object), 'params': [{'alpha': 1}, {'alpha': 2}, {'alpha': 3}], 'split0_test_score': array([0.91528001, 0.87546593, 0.83101767]), 'split1_test_score': array([0.86061006, 0.82189251, 0.77876092]), 'split2_test_score': array([0.89356286, 0.8496027 , 0.80066417]), 'split3_test_score': array([0.92849016, 0.89779389, 0.85614787]), 'split4_test_score': array([0.91982512, 0.88115371, 0.83414229]), 'mean_test_score': array([0.90355364, 0.86518175, 0.82014658]), 'std_test_score': array([0.02436418, 0.02661234, 0.02721209]), 'rank_test_score': array([1, 2, 3])}\n",
      "-------BEST PARAMS-------\n",
      "{'alpha': 1}\n",
      "---------RESULTS---------\n",
      "Mean squared error: 3.72\n",
      "Coefficient of determination: 0.91\n",
      "-------------------------\n",
      "\n",
      "---------SUMMARY---------\n",
      "{'mean_fit_time': array([0.00379815, 0.00299811, 0.00101361]), 'std_fit_time': array([3.99899863e-04, 1.50789149e-07, 1.27567766e-03]), 'mean_score_time': array([0.00299764, 0.00279827, 0.00352483]), 'std_score_time': array([5.00111031e-07, 3.99923339e-04, 6.09964129e-03]), 'param_alpha': masked_array(data=[1, 2, 3],\n",
      "             mask=[False, False, False],\n",
      "       fill_value='?',\n",
      "            dtype=object), 'params': [{'alpha': 1}, {'alpha': 2}, {'alpha': 3}], 'split0_test_score': array([0.93603978, 0.88902199, 0.83443884]), 'split1_test_score': array([0.94060398, 0.92405812, 0.89345906]), 'split2_test_score': array([0.86822657, 0.81920059, 0.7675615 ]), 'split3_test_score': array([0.92703321, 0.89358721, 0.85177711]), 'split4_test_score': array([0.91468673, 0.87711665, 0.83589164]), 'mean_test_score': array([0.91731805, 0.88059691, 0.83662563]), 'std_test_score': array([0.02609222, 0.03438089, 0.04058271]), 'rank_test_score': array([1, 2, 3])}\n",
      "-------BEST PARAMS-------\n",
      "{'alpha': 1}\n",
      "---------RESULTS---------\n",
      "Mean squared error: 2.68\n",
      "Coefficient of determination: 0.92\n",
      "-------------------------\n",
      "\n"
     ]
    }
   ],
   "source": [
    "for i in range(42,46):\n",
    "    \n",
    "    X_train, X_test, y_train, y_test = train_test_split(X, y, test_size=0.33, random_state=i)\n",
    "    \n",
    "    parameters = {'alpha':[1,2,3]}\n",
    "    \n",
    "    clf = GridSearchCV(Ridge(), parameters, scoring='r2', refit=True) \n",
    "    clf.fit(X_train, y_train)\n",
    "    \n",
    "    print(\"---------SUMMARY---------\")\n",
    "    print(clf.cv_results_)\n",
    "    print(\"-------BEST PARAMS-------\")\n",
    "    print(clf.best_params_)\n",
    "    print(\"---------RESULTS---------\")\n",
    "    y_pred = clf.predict(X_test)\n",
    "    print('Mean squared error: %.2f'\n",
    "      % mean_squared_error(y_test, y_pred))\n",
    "    # The coefficient of determination: 1 is perfect prediction\n",
    "    print('Coefficient of determination: %.2f'\n",
    "      % r2_score(y_test, y_pred))\n",
    "    print(\"-------------------------\\n\")"
   ]
  },
  {
   "cell_type": "markdown",
   "metadata": {},
   "source": [
    "# LASSO"
   ]
  },
  {
   "cell_type": "code",
   "execution_count": 27,
   "metadata": {},
   "outputs": [
    {
     "name": "stdout",
     "output_type": "stream",
     "text": [
      "---------SUMMARY---------\n",
      "{'mean_fit_time': array([0.00379753, 0.00259848, 0.00624995]), 'std_fit_time': array([0.00039959, 0.00135573, 0.0076546 ]), 'mean_score_time': array([0.00259852, 0.00201464, 0.        ]), 'std_score_time': array([0.0004891 , 0.00125182, 0.        ]), 'param_alpha': masked_array(data=[0.1, 0.2, 0.3],\n",
      "             mask=[False, False, False],\n",
      "       fill_value='?',\n",
      "            dtype=object), 'params': [{'alpha': 0.1}, {'alpha': 0.2}, {'alpha': 0.3}], 'split0_test_score': array([0.92230334, 0.91174478, 0.89202015]), 'split1_test_score': array([0.87825069, 0.87117329, 0.85516641]), 'split2_test_score': array([0.918821  , 0.89037395, 0.85344408]), 'split3_test_score': array([0.95599459, 0.94620627, 0.92534554]), 'split4_test_score': array([0.93245986, 0.92410511, 0.90536634]), 'mean_test_score': array([0.9215659 , 0.90872068, 0.8862685 ]), 'std_test_score': array([0.02525193, 0.02606685, 0.02817661]), 'rank_test_score': array([1, 2, 3])}\n",
      "-------BEST PARAMS-------\n",
      "{'alpha': 0.1}\n",
      "---------RESULTS---------\n",
      "Mean squared error: 3.22\n",
      "Coefficient of determination: 0.92\n",
      "-------------------------\n",
      "\n",
      "---------SUMMARY---------\n",
      "{'mean_fit_time': array([0.0031249, 0.0031249, 0.0031249]), 'std_fit_time': array([0.00624981, 0.00624981, 0.00624981]), 'mean_score_time': array([0.0031249 , 0.00312486, 0.00312486]), 'std_score_time': array([0.00624981, 0.00624971, 0.00624971]), 'param_alpha': masked_array(data=[0.1, 0.2, 0.3],\n",
      "             mask=[False, False, False],\n",
      "       fill_value='?',\n",
      "            dtype=object), 'params': [{'alpha': 0.1}, {'alpha': 0.2}, {'alpha': 0.3}], 'split0_test_score': array([0.93155534, 0.91540246, 0.88832373]), 'split1_test_score': array([0.90327516, 0.88804618, 0.86320017]), 'split2_test_score': array([0.91704995, 0.93381268, 0.93613979]), 'split3_test_score': array([0.90093008, 0.87576745, 0.84263036]), 'split4_test_score': array([0.94437191, 0.92150393, 0.88902172]), 'mean_test_score': array([0.91943649, 0.90690654, 0.88386315]), 'std_test_score': array([0.01660128, 0.02160815, 0.03132557]), 'rank_test_score': array([1, 2, 3])}\n",
      "-------BEST PARAMS-------\n",
      "{'alpha': 0.1}\n",
      "---------RESULTS---------\n",
      "Mean squared error: 2.70\n",
      "Coefficient of determination: 0.93\n",
      "-------------------------\n",
      "\n",
      "---------SUMMARY---------\n",
      "{'mean_fit_time': array([0.00312481, 0.00312495, 0.00312452]), 'std_fit_time': array([0.00624962, 0.0062499 , 0.00624905]), 'mean_score_time': array([0.00312486, 0.0031249 , 0.00312519]), 'std_score_time': array([0.00624971, 0.00624981, 0.00625038]), 'param_alpha': masked_array(data=[0.1, 0.2, 0.3],\n",
      "             mask=[False, False, False],\n",
      "       fill_value='?',\n",
      "            dtype=object), 'params': [{'alpha': 0.1}, {'alpha': 0.2}, {'alpha': 0.3}], 'split0_test_score': array([0.93056821, 0.91259828, 0.88577066]), 'split1_test_score': array([0.87524941, 0.85766422, 0.83081966]), 'split2_test_score': array([0.91029992, 0.89006003, 0.85968754]), 'split3_test_score': array([0.93448004, 0.9268566 , 0.90600084]), 'split4_test_score': array([0.93168781, 0.91721141, 0.89071734]), 'mean_test_score': array([0.91645708, 0.90087811, 0.87459921]), 'std_test_score': array([0.02232447, 0.02475275, 0.02649402]), 'rank_test_score': array([1, 2, 3])}\n",
      "-------BEST PARAMS-------\n",
      "{'alpha': 0.1}\n",
      "---------RESULTS---------\n",
      "Mean squared error: 3.25\n",
      "Coefficient of determination: 0.93\n",
      "-------------------------\n",
      "\n",
      "---------SUMMARY---------\n",
      "{'mean_fit_time': array([0.00379744, 0.00319796, 0.00312514]), 'std_fit_time': array([0.0004005 , 0.0003998 , 0.00625029]), 'mean_score_time': array([0.00279865, 0.00261087, 0.00312481]), 'std_score_time': array([0.00039904, 0.00047468, 0.00624962]), 'param_alpha': masked_array(data=[0.1, 0.2, 0.3],\n",
      "             mask=[False, False, False],\n",
      "       fill_value='?',\n",
      "            dtype=object), 'params': [{'alpha': 0.1}, {'alpha': 0.2}, {'alpha': 0.3}], 'split0_test_score': array([0.95319364, 0.93536779, 0.90656879]), 'split1_test_score': array([0.93803182, 0.9406738 , 0.9331535 ]), 'split2_test_score': array([0.88914718, 0.86546014, 0.83220083]), 'split3_test_score': array([0.9371685 , 0.92665033, 0.90680727]), 'split4_test_score': array([0.93049594, 0.9140297 , 0.89110749]), 'mean_test_score': array([0.92960742, 0.91643635, 0.89396758]), 'std_test_score': array([0.0215512 , 0.02703533, 0.033712  ]), 'rank_test_score': array([1, 2, 3])}\n",
      "-------BEST PARAMS-------\n",
      "{'alpha': 0.1}\n",
      "---------RESULTS---------\n",
      "Mean squared error: 2.65\n",
      "Coefficient of determination: 0.92\n",
      "-------------------------\n",
      "\n"
     ]
    }
   ],
   "source": [
    "for i in range(42,46):\n",
    "    \n",
    "    X_train, X_test, y_train, y_test = train_test_split(X, y, test_size=0.33, random_state=i)\n",
    "    \n",
    "    parameters = {'alpha':[0.1, 0.2, 0.3]}\n",
    "    \n",
    "    lasso = GridSearchCV(Lasso(), parameters, scoring='r2', refit=True) \n",
    "    lasso.fit(X_train, y_train)\n",
    "    \n",
    "    print(\"---------SUMMARY---------\")\n",
    "    print(lasso.cv_results_)\n",
    "    print(\"-------BEST PARAMS-------\")\n",
    "    print(lasso.best_params_)\n",
    "    print(\"---------RESULTS---------\")\n",
    "    y_pred = lasso.predict(X_test)\n",
    "    print('Mean squared error: %.2f'\n",
    "      % mean_squared_error(y_test, y_pred))\n",
    "    # The coefficient of determination: 1 is perfect prediction\n",
    "    print('Coefficient of determination: %.2f'\n",
    "      % r2_score(y_test, y_pred))\n",
    "    print(\"-------------------------\\n\")"
   ]
  },
  {
   "cell_type": "markdown",
   "metadata": {},
   "source": [
    "# ELASTIC NET"
   ]
  },
  {
   "cell_type": "code",
   "execution_count": 28,
   "metadata": {
    "scrolled": false
   },
   "outputs": [
    {
     "name": "stdout",
     "output_type": "stream",
     "text": [
      "---------SUMMARY 1 ---------\n",
      "\n",
      "{'mean_fit_time': array([0.00399675, 0.00340452, 0.00312471, 0.00312495, 0.0031249 ,\n",
      "       0.00312481, 0.00465145, 0.00339799, 0.00339775, 0.00319791,\n",
      "       0.0031981 , 0.003198  , 0.00359778, 0.00319815, 0.00359778]), 'std_fit_time': array([0.00063188, 0.00333189, 0.00624943, 0.0062499 , 0.00624981,\n",
      "       0.00624962, 0.00644578, 0.00048965, 0.00048965, 0.00039983,\n",
      "       0.00039973, 0.00039978, 0.00048953, 0.00039971, 0.00048953]), 'mean_score_time': array([0.00259914, 0.00744963, 0.00312467, 0.00312505, 0.0031249 ,\n",
      "       0.0031249 , 0.00159874, 0.00239849, 0.00239863, 0.00239863,\n",
      "       0.00259824, 0.00259838, 0.00259838, 0.00279818, 0.0021986 ]), 'std_score_time': array([0.0004901 , 0.00676493, 0.00624933, 0.0062501 , 0.00624981,\n",
      "       0.00624981, 0.00135536, 0.00048959, 0.00048967, 0.00048957,\n",
      "       0.00048955, 0.00048967, 0.00048967, 0.00039964, 0.00039988]), 'param_alpha': masked_array(data=[0.1, 0.1, 0.1, 0.1, 0.1, 0.2, 0.2, 0.2, 0.2, 0.2, 0.3,\n",
      "                   0.3, 0.3, 0.3, 0.3],\n",
      "             mask=[False, False, False, False, False, False, False, False,\n",
      "                   False, False, False, False, False, False, False],\n",
      "       fill_value='?',\n",
      "            dtype=object), 'param_l1_ratio': masked_array(data=[0.1, 0.3, 0.5, 0.7, 0.9, 0.1, 0.3, 0.5, 0.7, 0.9, 0.1,\n",
      "                   0.3, 0.5, 0.7, 0.9],\n",
      "             mask=[False, False, False, False, False, False, False, False,\n",
      "                   False, False, False, False, False, False, False],\n",
      "       fill_value='?',\n",
      "            dtype=object), 'params': [{'alpha': 0.1, 'l1_ratio': 0.1}, {'alpha': 0.1, 'l1_ratio': 0.3}, {'alpha': 0.1, 'l1_ratio': 0.5}, {'alpha': 0.1, 'l1_ratio': 0.7}, {'alpha': 0.1, 'l1_ratio': 0.9}, {'alpha': 0.2, 'l1_ratio': 0.1}, {'alpha': 0.2, 'l1_ratio': 0.3}, {'alpha': 0.2, 'l1_ratio': 0.5}, {'alpha': 0.2, 'l1_ratio': 0.7}, {'alpha': 0.2, 'l1_ratio': 0.9}, {'alpha': 0.3, 'l1_ratio': 0.1}, {'alpha': 0.3, 'l1_ratio': 0.3}, {'alpha': 0.3, 'l1_ratio': 0.5}, {'alpha': 0.3, 'l1_ratio': 0.7}, {'alpha': 0.3, 'l1_ratio': 0.9}], 'split0_test_score': array([0.58786431, 0.64780791, 0.72032383, 0.80601693, 0.89424931,\n",
      "       0.39422932, 0.45135877, 0.53118599, 0.64838296, 0.82194706,\n",
      "       0.29231129, 0.33879574, 0.40843153, 0.52315009, 0.7364588 ]), 'split1_test_score': array([0.56464938, 0.62380592, 0.69450913, 0.77636359, 0.85667932,\n",
      "       0.37094533, 0.42878446, 0.50896326, 0.62506951, 0.79170623,\n",
      "       0.26752917, 0.31518245, 0.38614108, 0.50179007, 0.71138502]), 'split2_test_score': array([0.52147161, 0.57966287, 0.65318525, 0.74683507, 0.86147751,\n",
      "       0.34191595, 0.39256249, 0.46524305, 0.57712886, 0.76275027,\n",
      "       0.25192337, 0.29137346, 0.35162429, 0.45444947, 0.66339348]), 'split3_test_score': array([0.60232033, 0.66516216, 0.7418972 , 0.83354426, 0.92817286,\n",
      "       0.40151378, 0.45978385, 0.54199301, 0.66447132, 0.84998956,\n",
      "       0.29750226, 0.34408724, 0.41446054, 0.5320318 , 0.75673384]), 'split4_test_score': array([0.59569192, 0.65691171, 0.73115177, 0.81888456, 0.90767228,\n",
      "       0.39856365, 0.45626503, 0.53724415, 0.65684265, 0.83483192,\n",
      "       0.29551786, 0.34206481, 0.41208572, 0.52821273, 0.7465495 ]), 'mean_test_score': array([0.57439951, 0.63467011, 0.70821344, 0.79632888, 0.88965025,\n",
      "       0.38143361, 0.43775092, 0.51692589, 0.63437906, 0.81224501,\n",
      "       0.28095679, 0.32630074, 0.39454863, 0.50792683, 0.72290413]), 'std_test_score': array([0.02936211, 0.03079248, 0.03169648, 0.03109936, 0.02724233,\n",
      "       0.02250347, 0.02504311, 0.02821015, 0.03152941, 0.03130661,\n",
      "       0.01809941, 0.02032005, 0.02370635, 0.02871168, 0.03335113]), 'rank_test_score': array([ 8,  6,  5,  3,  1, 13, 11,  9,  7,  2, 15, 14, 12, 10,  4])}\n",
      "-------BEST PARAMS-------\n",
      "{'alpha': 0.1, 'l1_ratio': 0.9}\n",
      "---------RESULTS---------\n",
      "Mean squared error: 4.80\n",
      "Coefficient of determination: 0.89\n",
      "-------------------------\n",
      "\n",
      "---------SUMMARY 2 ---------\n",
      "\n",
      "{'mean_fit_time': array([0.00359783, 0.00319805, 0.0031981 , 0.00299807, 0.00339789,\n",
      "       0.00359788, 0.00359807, 0.00339804, 0.00339756, 0.00359793,\n",
      "       0.00339823, 0.00319805, 0.0031981 , 0.0031991 , 0.00339785]), 'std_fit_time': array([4.89570468e-04, 3.99756442e-04, 3.99851838e-04, 9.53674316e-08,\n",
      "       4.89628886e-04, 4.89609410e-04, 4.89766072e-04, 4.89609433e-04,\n",
      "       4.89317750e-04, 4.89161846e-04, 4.90038344e-04, 3.99756471e-04,\n",
      "       3.99851952e-04, 4.01377943e-04, 4.89570468e-04]), 'mean_score_time': array([0.00279813, 0.00279827, 0.00259824, 0.00259843, 0.00259843,\n",
      "       0.00239801, 0.00279799, 0.0023984 , 0.00259867, 0.00279837,\n",
      "       0.00279794, 0.00259829, 0.00259838, 0.00259752, 0.00239863]), 'std_score_time': array([0.00039985, 0.0003998 , 0.00048955, 0.00048961, 0.00048971,\n",
      "       0.0004892 , 0.00039942, 0.00048957, 0.0004899 , 0.00039973,\n",
      "       0.00039964, 0.00048969, 0.00048967, 0.00049053, 0.00048957]), 'param_alpha': masked_array(data=[0.1, 0.1, 0.1, 0.1, 0.1, 0.2, 0.2, 0.2, 0.2, 0.2, 0.3,\n",
      "                   0.3, 0.3, 0.3, 0.3],\n",
      "             mask=[False, False, False, False, False, False, False, False,\n",
      "                   False, False, False, False, False, False, False],\n",
      "       fill_value='?',\n",
      "            dtype=object), 'param_l1_ratio': masked_array(data=[0.1, 0.3, 0.5, 0.7, 0.9, 0.1, 0.3, 0.5, 0.7, 0.9, 0.1,\n",
      "                   0.3, 0.5, 0.7, 0.9],\n",
      "             mask=[False, False, False, False, False, False, False, False,\n",
      "                   False, False, False, False, False, False, False],\n",
      "       fill_value='?',\n",
      "            dtype=object), 'params': [{'alpha': 0.1, 'l1_ratio': 0.1}, {'alpha': 0.1, 'l1_ratio': 0.3}, {'alpha': 0.1, 'l1_ratio': 0.5}, {'alpha': 0.1, 'l1_ratio': 0.7}, {'alpha': 0.1, 'l1_ratio': 0.9}, {'alpha': 0.2, 'l1_ratio': 0.1}, {'alpha': 0.2, 'l1_ratio': 0.3}, {'alpha': 0.2, 'l1_ratio': 0.5}, {'alpha': 0.2, 'l1_ratio': 0.7}, {'alpha': 0.2, 'l1_ratio': 0.9}, {'alpha': 0.3, 'l1_ratio': 0.1}, {'alpha': 0.3, 'l1_ratio': 0.3}, {'alpha': 0.3, 'l1_ratio': 0.5}, {'alpha': 0.3, 'l1_ratio': 0.7}, {'alpha': 0.3, 'l1_ratio': 0.9}], 'split0_test_score': array([0.52166931, 0.58981046, 0.67411861, 0.77722376, 0.89033051,\n",
      "       0.30798864, 0.3696888 , 0.45737691, 0.58975859, 0.79703149,\n",
      "       0.19890791, 0.24782663, 0.32209629, 0.44732568, 0.6923854 ]), 'split1_test_score': array([0.54334143, 0.60210015, 0.67514294, 0.76514463, 0.86538909,\n",
      "       0.35997708, 0.41260667, 0.48765637, 0.6016079 , 0.78222813,\n",
      "       0.26692404, 0.30840597, 0.37155024, 0.47851753, 0.69012568]), 'split2_test_score': array([0.63757447, 0.70631573, 0.78663433, 0.87378923, 0.93604957,\n",
      "       0.40888128, 0.47729047, 0.57207272, 0.7080545 , 0.88952717,\n",
      "       0.28633741, 0.34246719, 0.42634873, 0.56340168, 0.8067249 ]), 'split3_test_score': array([0.50802509, 0.56663025, 0.64041929, 0.73382171, 0.84646798,\n",
      "       0.32760486, 0.37912145, 0.45289278, 0.56600092, 0.75166091,\n",
      "       0.23690589, 0.27733826, 0.33898937, 0.44387685, 0.65515986]), 'split4_test_score': array([0.54391363, 0.60478039, 0.6814965 , 0.77839266, 0.89306153,\n",
      "       0.35666331, 0.40969244, 0.4859093 , 0.60331407, 0.79637195,\n",
      "       0.26302285, 0.30429093, 0.36745492, 0.47555849, 0.695318  ]), 'mean_test_score': array([0.55090479, 0.6139274 , 0.69156233, 0.7856744 , 0.88625974,\n",
      "       0.35222304, 0.40967997, 0.49118162, 0.6137472 , 0.80336393,\n",
      "       0.25041962, 0.2960658 , 0.36528791, 0.48173605, 0.70794277]), 'std_test_score': array([0.04541166, 0.04812027, 0.04965782, 0.04690167, 0.03020209,\n",
      "       0.03421325, 0.037717  , 0.04287747, 0.04900049, 0.04611511,\n",
      "       0.03019074, 0.03178289, 0.03557939, 0.04320923, 0.05150303]), 'rank_test_score': array([ 8,  6,  5,  3,  1, 13, 11,  9,  7,  2, 15, 14, 12, 10,  4])}\n",
      "-------BEST PARAMS-------\n",
      "{'alpha': 0.1, 'l1_ratio': 0.9}\n",
      "---------RESULTS---------\n",
      "Mean squared error: 3.55\n",
      "Coefficient of determination: 0.91\n",
      "-------------------------\n",
      "\n",
      "---------SUMMARY 3 ---------\n",
      "\n",
      "{'mean_fit_time': array([0.00359764, 0.00359735, 0.00359836, 0.00319815, 0.00339785,\n",
      "       0.00319791, 0.003198  , 0.00359988, 0.00339861, 0.00320082,\n",
      "       0.00439734, 0.00359778, 0.003198  , 0.003198  , 0.00319805]), 'std_fit_time': array([0.00048951, 0.00048908, 0.0004901 , 0.00039971, 0.00048957,\n",
      "       0.00039971, 0.00039978, 0.00049145, 0.00049051, 0.00040255,\n",
      "       0.00079896, 0.00048885, 0.00039966, 0.00039966, 0.00039976]), 'mean_score_time': array([0.00279846, 0.0027987 , 0.00239792, 0.00279818, 0.00239849,\n",
      "       0.00279832, 0.00259862, 0.00299602, 0.00259771, 0.00259557,\n",
      "       0.00279803, 0.00259833, 0.00259867, 0.00239863, 0.00259848]), 'std_score_time': array([0.00040014, 0.00039978, 0.00049006, 0.00039976, 0.00048949,\n",
      "       0.00039971, 0.00048967, 0.00063422, 0.00049058, 0.00049311,\n",
      "       0.00039957, 0.00048953, 0.00048932, 0.00048977, 0.00048955]), 'param_alpha': masked_array(data=[0.1, 0.1, 0.1, 0.1, 0.1, 0.2, 0.2, 0.2, 0.2, 0.2, 0.3,\n",
      "                   0.3, 0.3, 0.3, 0.3],\n",
      "             mask=[False, False, False, False, False, False, False, False,\n",
      "                   False, False, False, False, False, False, False],\n",
      "       fill_value='?',\n",
      "            dtype=object), 'param_l1_ratio': masked_array(data=[0.1, 0.3, 0.5, 0.7, 0.9, 0.1, 0.3, 0.5, 0.7, 0.9, 0.1,\n",
      "                   0.3, 0.5, 0.7, 0.9],\n",
      "             mask=[False, False, False, False, False, False, False, False,\n",
      "                   False, False, False, False, False, False, False],\n",
      "       fill_value='?',\n",
      "            dtype=object), 'params': [{'alpha': 0.1, 'l1_ratio': 0.1}, {'alpha': 0.1, 'l1_ratio': 0.3}, {'alpha': 0.1, 'l1_ratio': 0.5}, {'alpha': 0.1, 'l1_ratio': 0.7}, {'alpha': 0.1, 'l1_ratio': 0.9}, {'alpha': 0.2, 'l1_ratio': 0.1}, {'alpha': 0.2, 'l1_ratio': 0.3}, {'alpha': 0.2, 'l1_ratio': 0.5}, {'alpha': 0.2, 'l1_ratio': 0.7}, {'alpha': 0.2, 'l1_ratio': 0.9}, {'alpha': 0.3, 'l1_ratio': 0.1}, {'alpha': 0.3, 'l1_ratio': 0.3}, {'alpha': 0.3, 'l1_ratio': 0.5}, {'alpha': 0.3, 'l1_ratio': 0.7}, {'alpha': 0.3, 'l1_ratio': 0.9}], 'split0_test_score': array([0.56683994, 0.62699931, 0.70088262, 0.79068395, 0.89026777,\n",
      "       0.37531566, 0.4310201 , 0.50948195, 0.62642483, 0.80679201,\n",
      "       0.27598589, 0.32073492, 0.38813559, 0.500326  , 0.71499197]), 'split1_test_score': array([0.52783518, 0.58396658, 0.65359839, 0.73936988, 0.83604374,\n",
      "       0.35105236, 0.4016271 , 0.47351537, 0.58220914, 0.75411505,\n",
      "       0.26077124, 0.30072054, 0.36135548, 0.46361067, 0.66462398]), 'split2_test_score': array([0.50999007, 0.57520404, 0.65576335, 0.75446697, 0.86513823,\n",
      "       0.30372545, 0.36319271, 0.44738241, 0.57388134, 0.77184747,\n",
      "       0.19768163, 0.24501931, 0.31662221, 0.43667338, 0.66988277]), 'split3_test_score': array([0.57946207, 0.64260375, 0.72031041, 0.813856  , 0.90991045,\n",
      "       0.37911194, 0.43619454, 0.51743364, 0.64008159, 0.82952133,\n",
      "       0.27676598, 0.32159583, 0.38984117, 0.50534708, 0.73183856]), 'split4_test_score': array([0.53742278, 0.60487571, 0.68781619, 0.78816855, 0.89550097,\n",
      "       0.32302516, 0.38468875, 0.47202295, 0.60308042, 0.80546852,\n",
      "       0.21272352, 0.26166479, 0.33579965, 0.46029675, 0.70162583]), 'mean_test_score': array([0.54431001, 0.60672988, 0.68367419, 0.77730907, 0.87937223,\n",
      "       0.34644611, 0.40334464, 0.48396727, 0.60513546, 0.79354887,\n",
      "       0.24478565, 0.28994708, 0.35835082, 0.47325078, 0.69659262]), 'std_test_score': array([0.02545575, 0.02535062, 0.02584209, 0.02680909, 0.0260438 ,\n",
      "       0.0293098 , 0.02759789, 0.0259282 , 0.02522351, 0.02697204,\n",
      "       0.03316174, 0.03125378, 0.02876677, 0.02593023, 0.02585172]), 'rank_test_score': array([ 8,  6,  5,  3,  1, 13, 11,  9,  7,  2, 15, 14, 12, 10,  4])}\n",
      "-------BEST PARAMS-------\n",
      "{'alpha': 0.1, 'l1_ratio': 0.9}\n",
      "---------RESULTS---------\n",
      "Mean squared error: 5.39\n",
      "Coefficient of determination: 0.88\n",
      "-------------------------\n",
      "\n"
     ]
    },
    {
     "name": "stdout",
     "output_type": "stream",
     "text": [
      "---------SUMMARY 4 ---------\n",
      "\n",
      "{'mean_fit_time': array([0.00319805, 0.00339661, 0.0031981 , 0.0033987 , 0.00319872,\n",
      "       0.00359774, 0.00340118, 0.00319815, 0.0034009 , 0.0033978 ,\n",
      "       0.00339789, 0.00319972, 0.00339856, 0.00339794, 0.00319805]), 'std_fit_time': array([0.00039976, 0.00049059, 0.00039973, 0.00049072, 0.00039942,\n",
      "       0.00048969, 0.00049027, 0.00039971, 0.00049321, 0.00048961,\n",
      "       0.00048963, 0.00040321, 0.00049064, 0.00048959, 0.00039999]), 'mean_score_time': array([0.0029985 , 0.00239978, 0.00279813, 0.00239768, 0.00259762,\n",
      "       0.00239859, 0.0023952 , 0.00279813, 0.00239549, 0.00259809,\n",
      "       0.00239892, 0.00259676, 0.00259771, 0.00259838, 0.00259833]), 'std_score_time': array([7.62939453e-07, 4.90975134e-04, 3.99732604e-04, 4.90351373e-04,\n",
      "       4.90408655e-04, 4.89609386e-04, 4.92286100e-04, 3.99732661e-04,\n",
      "       4.91953698e-04, 4.89142509e-04, 4.89239883e-04, 4.91563158e-04,\n",
      "       4.90584395e-04, 4.89570445e-04, 4.89531566e-04]), 'param_alpha': masked_array(data=[0.1, 0.1, 0.1, 0.1, 0.1, 0.2, 0.2, 0.2, 0.2, 0.2, 0.3,\n",
      "                   0.3, 0.3, 0.3, 0.3],\n",
      "             mask=[False, False, False, False, False, False, False, False,\n",
      "                   False, False, False, False, False, False, False],\n",
      "       fill_value='?',\n",
      "            dtype=object), 'param_l1_ratio': masked_array(data=[0.1, 0.3, 0.5, 0.7, 0.9, 0.1, 0.3, 0.5, 0.7, 0.9, 0.1,\n",
      "                   0.3, 0.5, 0.7, 0.9],\n",
      "             mask=[False, False, False, False, False, False, False, False,\n",
      "                   False, False, False, False, False, False, False],\n",
      "       fill_value='?',\n",
      "            dtype=object), 'params': [{'alpha': 0.1, 'l1_ratio': 0.1}, {'alpha': 0.1, 'l1_ratio': 0.3}, {'alpha': 0.1, 'l1_ratio': 0.5}, {'alpha': 0.1, 'l1_ratio': 0.7}, {'alpha': 0.1, 'l1_ratio': 0.9}, {'alpha': 0.2, 'l1_ratio': 0.1}, {'alpha': 0.2, 'l1_ratio': 0.3}, {'alpha': 0.2, 'l1_ratio': 0.5}, {'alpha': 0.2, 'l1_ratio': 0.7}, {'alpha': 0.2, 'l1_ratio': 0.9}, {'alpha': 0.3, 'l1_ratio': 0.1}, {'alpha': 0.3, 'l1_ratio': 0.3}, {'alpha': 0.3, 'l1_ratio': 0.5}, {'alpha': 0.3, 'l1_ratio': 0.7}, {'alpha': 0.3, 'l1_ratio': 0.9}], 'split0_test_score': array([0.50076267, 0.57769101, 0.67186752, 0.78544749, 0.90810411,\n",
      "       0.25658743, 0.32825521, 0.42912994, 0.57912203, 0.80788076,\n",
      "       0.12987773, 0.18768454, 0.27473751, 0.41950434, 0.69483334]), 'split1_test_score': array([0.64442978, 0.70680198, 0.78022292, 0.86228409, 0.93288545,\n",
      "       0.4380371 , 0.50036491, 0.58636131, 0.7094664 , 0.87823064,\n",
      "       0.32688984, 0.37860285, 0.45544717, 0.58001679, 0.80048108]), 'split2_test_score': array([0.48299264, 0.54472829, 0.62244881, 0.72050487, 0.83663697,\n",
      "       0.2926978 , 0.34667345, 0.42414666, 0.54325101, 0.73859245,\n",
      "       0.19731586, 0.2394125 , 0.3037683 , 0.41369618, 0.63635676]), 'split3_test_score': array([0.5746775 , 0.63989922, 0.71875983, 0.81184317, 0.90731731,\n",
      "       0.36483408, 0.42716391, 0.5142189 , 0.64190444, 0.83039516,\n",
      "       0.25440624, 0.30529121, 0.38148501, 0.50688949, 0.73934517]), 'split4_test_score': array([0.58515916, 0.64336788, 0.7140046 , 0.79865464, 0.891619  ,\n",
      "       0.39844344, 0.45442486, 0.53228223, 0.6460988 , 0.81628613,\n",
      "       0.29965203, 0.34584442, 0.41463746, 0.52700131, 0.73408257]), 'mean_test_score': array([0.55760435, 0.62249768, 0.70146074, 0.79574685, 0.89531257,\n",
      "       0.35011997, 0.41137647, 0.49722781, 0.62396854, 0.81427703,\n",
      "       0.24162834, 0.2913671 , 0.36601509, 0.48942162, 0.72101978]), 'std_test_score': array([0.05896999, 0.05639381, 0.0524952 , 0.04574316, 0.0321743 ,\n",
      "       0.06682324, 0.06498765, 0.06235457, 0.05770244, 0.04499547,\n",
      "       0.07106524, 0.06960041, 0.06753934, 0.06410556, 0.054174  ]), 'rank_test_score': array([ 8,  7,  5,  3,  1, 13, 11,  9,  6,  2, 15, 14, 12, 10,  4])}\n",
      "-------BEST PARAMS-------\n",
      "{'alpha': 0.1, 'l1_ratio': 0.9}\n",
      "---------RESULTS---------\n",
      "Mean squared error: 3.21\n",
      "Coefficient of determination: 0.91\n",
      "-------------------------\n",
      "\n"
     ]
    }
   ],
   "source": [
    "iteration = 1\n",
    "for i in range(42,46):\n",
    "    X_train, X_test, y_train, y_test = train_test_split(X, y, test_size=0.33, random_state=i)\n",
    "    \n",
    "    parameters = {'alpha':[0.1, 0.2, 0.3], 'l1_ratio':[0.1, 0.3, 0.5, 0.7, 0.9]}\n",
    "    \n",
    "    EN = GridSearchCV(ElasticNet(), parameters, scoring='r2', refit=True) \n",
    "    EN.fit(X_train, y_train)\n",
    "    \n",
    "    print(\"---------SUMMARY\", iteration, \"---------\\n\")\n",
    "    print(EN.cv_results_)\n",
    "    print(\"-------BEST PARAMS-------\")\n",
    "    print(EN.best_params_)\n",
    "    print(\"---------RESULTS---------\")\n",
    "    y_pred = EN.predict(X_test)\n",
    "    print('Mean squared error: %.2f'\n",
    "      % mean_squared_error(y_test, y_pred))\n",
    "    # The coefficient of determination: 1 is perfect prediction\n",
    "    print('Coefficient of determination: %.2f'\n",
    "      % r2_score(y_test, y_pred))\n",
    "    print(\"-------------------------\\n\")\n",
    "    \n",
    "    iteration+=1"
   ]
  },
  {
   "cell_type": "markdown",
   "metadata": {},
   "source": [
    "# (Curiosidades do Scikit-Learn)"
   ]
  },
  {
   "cell_type": "raw",
   "metadata": {},
   "source": [
    "Bibliotecas de Regularização com Cross-Validation implementadas, entretanto, são limitadas."
   ]
  },
  {
   "cell_type": "code",
   "execution_count": 29,
   "metadata": {},
   "outputs": [],
   "source": [
    "X_train, X_test, y_train, y_test = train_test_split(X, y, test_size=0.33, random_state=42)"
   ]
  },
  {
   "cell_type": "code",
   "execution_count": 30,
   "metadata": {},
   "outputs": [
    {
     "name": "stdout",
     "output_type": "stream",
     "text": [
      "TREINAMENTO:\n",
      "X: (142, 1) y: (142, 1)\n",
      "TESTE:\n",
      "X: (70, 1) y: (70, 1)\n"
     ]
    }
   ],
   "source": [
    "print(\"TREINAMENTO:\")\n",
    "print(\"X:\", X_train.shape, \"y:\", y_train.shape)\n",
    "print(\"TESTE:\")\n",
    "print(\"X:\", X_test.shape, \"y:\", y_test.shape)"
   ]
  },
  {
   "cell_type": "code",
   "execution_count": 31,
   "metadata": {
    "scrolled": true
   },
   "outputs": [
    {
     "data": {
      "text/plain": [
       "0.9310983931624341"
      ]
     },
     "execution_count": 31,
     "metadata": {},
     "output_type": "execute_result"
    }
   ],
   "source": [
    "RCV = RidgeCV(alphas=[1e-3, 1e-2, 1e-1, 1], cv=5, normalize=False, scoring='r2').fit(X_train, y_train)\n",
    "RCV.score(X, y)"
   ]
  },
  {
   "cell_type": "code",
   "execution_count": 32,
   "metadata": {},
   "outputs": [
    {
     "name": "stdout",
     "output_type": "stream",
     "text": [
      "---------RESULTS---------\n",
      "Mean squared error: 2.95\n",
      "Coefficient of determination: 0.93\n"
     ]
    }
   ],
   "source": [
    "print(\"---------RESULTS---------\")\n",
    "y_pred = RCV.predict(X_test)\n",
    "print('Mean squared error: %.2f'\n",
    "  % mean_squared_error(y_test, y_pred))\n",
    "# The coefficient of determination: 1 is perfect prediction\n",
    "print('Coefficient of determination: %.2f'\n",
    "  % r2_score(y_test, y_pred))"
   ]
  },
  {
   "cell_type": "markdown",
   "metadata": {},
   "source": [
    "### Função Generalizadora"
   ]
  },
  {
   "cell_type": "code",
   "execution_count": 33,
   "metadata": {},
   "outputs": [],
   "source": [
    "def treinamento(X, y, model, hyperparameters, outter_cv=5):\n",
    "\n",
    "    \n",
    "    for i in range(outter_cv):\n",
    "    \n",
    "        X_train, X_test, y_train, y_test = train_test_split(X, y, test_size=0.33, random_state=i)\n",
    "\n",
    "        m = GridSearchCV(model, hyperparameters, scoring='r2', refit=True) \n",
    "        m.fit(X_train, y_train)\n",
    "\n",
    "        print(\"---------SUMMARY\", i+1, \"---------\")\n",
    "        print(m.cv_results_)\n",
    "        print(\"-------BEST PARAMS-------\")\n",
    "        print(m.best_params_)\n",
    "        print(\"---------RESULTS---------\")\n",
    "        y_pred = m.predict(X_test)\n",
    "        print('Mean squared error: %.2f'\n",
    "          % mean_squared_error(y_test, y_pred))\n",
    "        # The coefficient of determination: 1 is perfect prediction\n",
    "        print('Coefficient of determination: %.2f'\n",
    "          % r2_score(y_test, y_pred))\n",
    "        print(\"-------------------------\\n\")"
   ]
  },
  {
   "cell_type": "code",
   "execution_count": 34,
   "metadata": {
    "scrolled": true
   },
   "outputs": [
    {
     "name": "stdout",
     "output_type": "stream",
     "text": [
      "---------SUMMARY 1 ---------\n",
      "{'mean_fit_time': array([0.00339799, 0.00299768, 0.0031981 ]), 'std_fit_time': array([4.89746801e-04, 6.46813391e-07, 3.99375086e-04]), 'mean_score_time': array([0.00279846, 0.00219884, 0.00279827]), 'std_score_time': array([0.0003993 , 0.00039952, 0.00039945]), 'param_alpha': masked_array(data=[1, 2, 3],\n",
      "             mask=[False, False, False],\n",
      "       fill_value='?',\n",
      "            dtype=object), 'params': [{'alpha': 1}, {'alpha': 2}, {'alpha': 3}], 'split0_test_score': array([0.90922999, 0.88029042, 0.84304284]), 'split1_test_score': array([0.90394583, 0.87165787, 0.83210588]), 'split2_test_score': array([0.95010612, 0.92958779, 0.89610156]), 'split3_test_score': array([0.90622809, 0.85566357, 0.80234572]), 'split4_test_score': array([0.90381459, 0.84867103, 0.78840611]), 'mean_test_score': array([0.91466492, 0.87717414, 0.83240042]), 'std_test_score': array([0.01782934, 0.02850426, 0.0374432 ]), 'rank_test_score': array([1, 2, 3])}\n",
      "-------BEST PARAMS-------\n",
      "{'alpha': 1}\n",
      "---------RESULTS---------\n",
      "Mean squared error: 4.66\n",
      "Coefficient of determination: 0.89\n",
      "-------------------------\n",
      "\n",
      "---------SUMMARY 2 ---------\n",
      "{'mean_fit_time': array([0.00359559, 0.00379772, 0.003198  ]), 'std_fit_time': array([0.00049302, 0.00074781, 0.00039978]), 'mean_score_time': array([0.00300059, 0.00279799, 0.00279827]), 'std_score_time': array([4.52518212e-06, 3.99542267e-04, 3.99804154e-04]), 'param_alpha': masked_array(data=[1, 2, 3],\n",
      "             mask=[False, False, False],\n",
      "       fill_value='?',\n",
      "            dtype=object), 'params': [{'alpha': 1}, {'alpha': 2}, {'alpha': 3}], 'split0_test_score': array([0.87419696, 0.82688259, 0.77605899]), 'split1_test_score': array([0.92082223, 0.89179483, 0.85420445]), 'split2_test_score': array([0.87646109, 0.85650433, 0.819354  ]), 'split3_test_score': array([0.93154532, 0.8942941 , 0.8502665 ]), 'split4_test_score': array([0.89775205, 0.85355952, 0.80653929]), 'mean_test_score': array([0.90015553, 0.86460707, 0.82128465]), 'std_test_score': array([0.02303685, 0.02542177, 0.02894883]), 'rank_test_score': array([1, 2, 3])}\n",
      "-------BEST PARAMS-------\n",
      "{'alpha': 1}\n",
      "---------RESULTS---------\n",
      "Mean squared error: 2.53\n",
      "Coefficient of determination: 0.93\n",
      "-------------------------\n",
      "\n",
      "---------SUMMARY 3 ---------\n",
      "{'mean_fit_time': array([0.00319815, 0.00299821, 0.00359764]), 'std_fit_time': array([3.99827971e-04, 1.90734863e-07, 4.89706714e-04]), 'mean_score_time': array([0.00239849, 0.00299807, 0.00199885]), 'std_score_time': array([4.89492586e-04, 1.78416128e-07, 9.53674316e-08]), 'param_alpha': masked_array(data=[1, 2, 3],\n",
      "             mask=[False, False, False],\n",
      "       fill_value='?',\n",
      "            dtype=object), 'params': [{'alpha': 1}, {'alpha': 2}, {'alpha': 3}], 'split0_test_score': array([0.93649721, 0.90918915, 0.87173457]), 'split1_test_score': array([0.92372101, 0.88487251, 0.84108368]), 'split2_test_score': array([0.92146831, 0.86873777, 0.8141691 ]), 'split3_test_score': array([0.93070633, 0.90648426, 0.87120218]), 'split4_test_score': array([0.89143936, 0.8495736 , 0.80048353]), 'mean_test_score': array([0.92076645, 0.88377146, 0.83973461]), 'std_test_score': array([0.01559204, 0.02262144, 0.02901816]), 'rank_test_score': array([1, 2, 3])}\n",
      "-------BEST PARAMS-------\n",
      "{'alpha': 1}\n",
      "---------RESULTS---------\n",
      "Mean squared error: 3.33\n",
      "Coefficient of determination: 0.91\n",
      "-------------------------\n",
      "\n",
      "---------SUMMARY 4 ---------\n",
      "{'mean_fit_time': array([0.0039969 , 0.00379748, 0.00299797]), 'std_fit_time': array([6.31580625e-04, 3.99446559e-04, 3.23406696e-07]), 'mean_score_time': array([0.00319853, 0.00239863, 0.00259862]), 'std_score_time': array([0.0007481 , 0.00048947, 0.00048967]), 'param_alpha': masked_array(data=[1, 2, 3],\n",
      "             mask=[False, False, False],\n",
      "       fill_value='?',\n",
      "            dtype=object), 'params': [{'alpha': 1}, {'alpha': 2}, {'alpha': 3}], 'split0_test_score': array([0.86996673, 0.83522842, 0.79682908]), 'split1_test_score': array([0.92550915, 0.90049473, 0.86612932]), 'split2_test_score': array([0.90636932, 0.90083345, 0.87950948]), 'split3_test_score': array([0.9242571 , 0.88809902, 0.84630675]), 'split4_test_score': array([0.92344965, 0.88273164, 0.84016844]), 'mean_test_score': array([0.90991039, 0.88147745, 0.84578862]), 'std_test_score': array([0.02116836, 0.024169  , 0.02821252]), 'rank_test_score': array([1, 2, 3])}\n",
      "-------BEST PARAMS-------\n",
      "{'alpha': 1}\n",
      "---------RESULTS---------\n",
      "Mean squared error: 2.56\n",
      "Coefficient of determination: 0.92\n",
      "-------------------------\n",
      "\n",
      "---------SUMMARY 5 ---------\n",
      "{'mean_fit_time': array([0.00299807, 0.00299807, 0.00299792]), 'std_fit_time': array([1.78416128e-07, 1.78416128e-07, 1.78416128e-07]), 'mean_score_time': array([0.00259848, 0.00299821, 0.00259848]), 'std_score_time': array([4.89648320e-04, 1.90734863e-07, 4.89453667e-04]), 'param_alpha': masked_array(data=[1, 2, 3],\n",
      "             mask=[False, False, False],\n",
      "       fill_value='?',\n",
      "            dtype=object), 'params': [{'alpha': 1}, {'alpha': 2}, {'alpha': 3}], 'split0_test_score': array([0.94159847, 0.90621366, 0.86360388]), 'split1_test_score': array([0.87637036, 0.8284922 , 0.77676522]), 'split2_test_score': array([0.89971892, 0.88726273, 0.86241649]), 'split3_test_score': array([0.91209523, 0.86351563, 0.8081176 ]), 'split4_test_score': array([0.94943408, 0.91179145, 0.86684989]), 'mean_test_score': array([0.91584341, 0.87945514, 0.83555062]), 'std_test_score': array([0.02692146, 0.03057418, 0.03659699]), 'rank_test_score': array([1, 2, 3])}\n",
      "-------BEST PARAMS-------\n",
      "{'alpha': 1}\n",
      "---------RESULTS---------\n",
      "Mean squared error: 3.00\n",
      "Coefficient of determination: 0.91\n",
      "-------------------------\n",
      "\n"
     ]
    }
   ],
   "source": [
    "hyperparameters = {'alpha':[1,2,3]}\n",
    "model = Ridge()\n",
    "treinamento(X, y, model, hyperparameters)"
   ]
  },
  {
   "cell_type": "markdown",
   "metadata": {},
   "source": [
    "# Polynomial"
   ]
  },
  {
   "cell_type": "code",
   "execution_count": 35,
   "metadata": {},
   "outputs": [
    {
     "data": {
      "text/html": [
       "<div>\n",
       "<style scoped>\n",
       "    .dataframe tbody tr th:only-of-type {\n",
       "        vertical-align: middle;\n",
       "    }\n",
       "\n",
       "    .dataframe tbody tr th {\n",
       "        vertical-align: top;\n",
       "    }\n",
       "\n",
       "    .dataframe thead th {\n",
       "        text-align: right;\n",
       "    }\n",
       "</style>\n",
       "<table border=\"1\" class=\"dataframe\">\n",
       "  <thead>\n",
       "    <tr style=\"text-align: right;\">\n",
       "      <th></th>\n",
       "      <th>Altura</th>\n",
       "      <th>Comprimento</th>\n",
       "    </tr>\n",
       "  </thead>\n",
       "  <tbody>\n",
       "    <tr>\n",
       "      <th>0</th>\n",
       "      <td>1.087</td>\n",
       "      <td>37</td>\n",
       "    </tr>\n",
       "    <tr>\n",
       "      <th>1</th>\n",
       "      <td>1.613</td>\n",
       "      <td>50</td>\n",
       "    </tr>\n",
       "    <tr>\n",
       "      <th>2</th>\n",
       "      <td>0.953</td>\n",
       "      <td>34</td>\n",
       "    </tr>\n",
       "    <tr>\n",
       "      <th>3</th>\n",
       "      <td>1.003</td>\n",
       "      <td>36</td>\n",
       "    </tr>\n",
       "    <tr>\n",
       "      <th>4</th>\n",
       "      <td>1.156</td>\n",
       "      <td>43</td>\n",
       "    </tr>\n",
       "    <tr>\n",
       "      <th>5</th>\n",
       "      <td>0.978</td>\n",
       "      <td>28</td>\n",
       "    </tr>\n",
       "    <tr>\n",
       "      <th>6</th>\n",
       "      <td>1.092</td>\n",
       "      <td>37</td>\n",
       "    </tr>\n",
       "    <tr>\n",
       "      <th>7</th>\n",
       "      <td>0.572</td>\n",
       "      <td>20</td>\n",
       "    </tr>\n",
       "    <tr>\n",
       "      <th>8</th>\n",
       "      <td>0.940</td>\n",
       "      <td>34</td>\n",
       "    </tr>\n",
       "    <tr>\n",
       "      <th>9</th>\n",
       "      <td>0.597</td>\n",
       "      <td>30</td>\n",
       "    </tr>\n",
       "    <tr>\n",
       "      <th>10</th>\n",
       "      <td>0.838</td>\n",
       "      <td>38</td>\n",
       "    </tr>\n",
       "    <tr>\n",
       "      <th>11</th>\n",
       "      <td>1.473</td>\n",
       "      <td>47</td>\n",
       "    </tr>\n",
       "  </tbody>\n",
       "</table>\n",
       "</div>"
      ],
      "text/plain": [
       "    Altura  Comprimento\n",
       "0    1.087           37\n",
       "1    1.613           50\n",
       "2    0.953           34\n",
       "3    1.003           36\n",
       "4    1.156           43\n",
       "5    0.978           28\n",
       "6    1.092           37\n",
       "7    0.572           20\n",
       "8    0.940           34\n",
       "9    0.597           30\n",
       "10   0.838           38\n",
       "11   1.473           47"
      ]
     },
     "execution_count": 35,
     "metadata": {},
     "output_type": "execute_result"
    }
   ],
   "source": [
    "df = pd.DataFrame(data=[[1.087, 37], [1.613, 50], [0.953, 34], [1.003, 36], [1.156,43], [0.978, 28], [1.092, 37], [0.572, 20], [0.940, 34], [0.597, 30], [0.838, 38], [1.473, 47]], columns=['Altura','Comprimento'])\n",
    "df"
   ]
  },
  {
   "cell_type": "code",
   "execution_count": 36,
   "metadata": {},
   "outputs": [],
   "source": [
    "import random\n",
    "import math\n",
    "\n",
    "\n",
    "add_instances_into_dataset = 100\n",
    "\n",
    "random.seed(1845)\n",
    "\n",
    "size_df = len(df)\n",
    "\n",
    "for i in range(add_instances_into_dataset):\n",
    "    rand_altura = random.randrange(500, 2200)\n",
    "    rand_altura /= 1000\n",
    "\n",
    "    rand_comprimento = rand_altura*25 + random.randrange(10, 50)\n",
    "    rand_comprimento = math.floor(rand_comprimento)\n",
    "\n",
    "    new_row = {'Altura': rand_altura, 'Comprimento': rand_comprimento}\n",
    "    df = df.append(new_row, ignore_index=True)"
   ]
  },
  {
   "cell_type": "code",
   "execution_count": 37,
   "metadata": {},
   "outputs": [
    {
     "data": {
      "text/plain": [
       "(112, 2)"
      ]
     },
     "execution_count": 37,
     "metadata": {},
     "output_type": "execute_result"
    }
   ],
   "source": [
    "df.shape"
   ]
  },
  {
   "cell_type": "code",
   "execution_count": 38,
   "metadata": {},
   "outputs": [],
   "source": [
    "X = df[['Altura']]\n",
    "y = df[['Comprimento']]"
   ]
  },
  {
   "cell_type": "code",
   "execution_count": 39,
   "metadata": {
    "scrolled": true
   },
   "outputs": [
    {
     "data": {
      "image/png": "[encoded data removed]",
      "text/plain": [
       "<Figure size 640x480 with 1 Axes>"
      ]
     },
     "metadata": {},
     "output_type": "display_data"
    },
    {
     "data": {
      "text/plain": [
       "<ggplot: (118187982990)>"
      ]
     },
     "execution_count": 39,
     "metadata": {},
     "output_type": "execute_result"
    }
   ],
   "source": [
    "(ggplot(df,aes('Altura','Comprimento'))\n",
    " + geom_point()\n",
    " + theme_light()\n",
    ")"
   ]
  },
  {
   "cell_type": "code",
   "execution_count": 40,
   "metadata": {},
   "outputs": [],
   "source": [
    "X_train, X_test, y_train, y_test = train_test_split(X, y, test_size=0.33, random_state=42)"
   ]
  },
  {
   "cell_type": "code",
   "execution_count": 41,
   "metadata": {},
   "outputs": [
    {
     "name": "stdout",
     "output_type": "stream",
     "text": [
      "TREINAMENTO:\n",
      "X: (75, 1) y: (75, 1)\n",
      "TESTE:\n",
      "X: (37, 1) y: (37, 1)\n"
     ]
    }
   ],
   "source": [
    "print(\"TREINAMENTO:\")\n",
    "print(\"X:\", X_train.shape, \"y:\", y_train.shape)\n",
    "print(\"TESTE:\")\n",
    "print(\"X:\", X_test.shape, \"y:\", y_test.shape)"
   ]
  },
  {
   "cell_type": "code",
   "execution_count": 42,
   "metadata": {},
   "outputs": [
    {
     "data": {
      "text/plain": [
       "GridSearchCV(cv=5,\n",
       "             estimator=Pipeline(steps=[('poly', PolynomialFeatures()),\n",
       "                                       ('ridge', Ridge())]),\n",
       "             param_grid=[{'poly__degree': [3, 4, 5, 6, 7, 8, 9, 10, 11, 12, 13],\n",
       "                          'ridge__alpha': [0, 1, 2]}],\n",
       "             scoring='r2')"
      ]
     },
     "execution_count": 42,
     "metadata": {},
     "output_type": "execute_result"
    }
   ],
   "source": [
    "param_grid = [\n",
    "    {'poly__degree': [3, 4, 5, 6, 7, 8, 9, 10, 11, 12, 13],\n",
    "    'ridge__alpha':[0,1,2]}\n",
    "  ]\n",
    "pipeline = Pipeline(steps=[('poly', PolynomialFeatures()), ('ridge', Ridge())])\n",
    "grid_search = GridSearchCV(pipeline, param_grid, cv=5,\n",
    "                           scoring='r2',\n",
    "                           refit=True)\n",
    "grid_search.fit(X_train, y_train)"
   ]
  },
  {
   "cell_type": "code",
   "execution_count": 43,
   "metadata": {
    "scrolled": true
   },
   "outputs": [
    {
     "data": {
      "text/plain": [
       "{'poly__degree': 6, 'ridge__alpha': 2}"
      ]
     },
     "execution_count": 43,
     "metadata": {},
     "output_type": "execute_result"
    }
   ],
   "source": [
    "grid_search.best_params_"
   ]
  },
  {
   "cell_type": "code",
   "execution_count": 44,
   "metadata": {
    "scrolled": false
   },
   "outputs": [
    {
     "data": {
      "text/plain": [
       "{'mean_fit_time': array([0.00519686, 0.0041985 , 0.00499873, 0.00459714, 0.00499883,\n",
       "        0.00459871, 0.00519671, 0.0049973 , 0.00439763, 0.0047965 ,\n",
       "        0.00419769, 0.00419698, 0.00479712, 0.00479712, 0.00479712,\n",
       "        0.00648465, 0.00459695, 0.00499682, 0.00479712, 0.0041975 ,\n",
       "        0.00439734, 0.00519767, 0.00579548, 0.00559659, 0.00559702,\n",
       "        0.0055963 , 0.00499721, 0.00479717, 0.00499697, 0.00479693,\n",
       "        0.004597  , 0.00499687, 0.00439687]),\n",
       " 'std_fit_time': array([3.99805946e-04, 4.01759187e-04, 3.31530443e-06, 4.89648320e-04,\n",
       "        2.96100134e-06, 4.91038274e-04, 3.99995117e-04, 4.62310777e-07,\n",
       "        4.89979451e-04, 3.99471194e-04, 4.00614749e-04, 3.99303436e-04,\n",
       "        3.99780273e-04, 3.99661416e-04, 3.99780472e-04, 6.94353040e-03,\n",
       "        4.89687246e-04, 9.53674316e-08, 3.99780302e-04, 3.99875641e-04,\n",
       "        4.89628863e-04, 4.00355772e-04, 7.48138127e-04, 7.98976672e-04,\n",
       "        4.89221507e-04, 4.89804163e-04, 7.44843452e-07, 3.99804126e-04,\n",
       "        6.32183529e-04, 3.99804126e-04, 4.89531519e-04, 1.16800773e-07,\n",
       "        4.89045440e-04]),\n",
       " 'mean_score_time': array([0.00279865, 0.00279722, 0.00259671, 0.00279822, 0.00259657,\n",
       "        0.00279655, 0.00279846, 0.00199857, 0.00299792, 0.00259848,\n",
       "        0.00299821, 0.00279827, 0.00259819, 0.00279813, 0.00239844,\n",
       "        0.00159912, 0.00279841, 0.00239854, 0.00279822, 0.00299811,\n",
       "        0.00299802, 0.00339622, 0.00319881, 0.00359793, 0.00319772,\n",
       "        0.00299797, 0.00279822, 0.00299802, 0.00299811, 0.00279832,\n",
       "        0.00279837, 0.00259843, 0.0027988 ]),\n",
       " 'std_score_time': array([3.99995486e-04, 4.01902238e-04, 4.91524210e-04, 3.99780302e-04,\n",
       "        4.91309795e-04, 3.98482420e-04, 3.99899920e-04, 1.16800773e-07,\n",
       "        9.53674316e-08, 4.89552652e-04, 1.16800773e-07, 4.00042545e-04,\n",
       "        4.89609386e-04, 3.99613391e-04, 4.89531542e-04, 1.35579161e-03,\n",
       "        3.99756442e-04, 4.89648320e-04, 3.99780302e-04, 0.00000000e+00,\n",
       "        1.16800773e-07, 4.88169697e-04, 4.00209697e-04, 4.89551328e-04,\n",
       "        3.99684963e-04, 5.35248383e-07, 3.99780302e-04, 1.16800773e-07,\n",
       "        1.50789149e-07, 3.99708759e-04, 3.99732604e-04, 4.89609386e-04,\n",
       "        3.99948485e-04]),\n",
       " 'param_poly__degree': masked_array(data=[3, 3, 3, 4, 4, 4, 5, 5, 5, 6, 6, 6, 7, 7, 7, 8, 8, 8,\n",
       "                    9, 9, 9, 10, 10, 10, 11, 11, 11, 12, 12, 12, 13, 13,\n",
       "                    13],\n",
       "              mask=[False, False, False, False, False, False, False, False,\n",
       "                    False, False, False, False, False, False, False, False,\n",
       "                    False, False, False, False, False, False, False, False,\n",
       "                    False, False, False, False, False, False, False, False,\n",
       "                    False],\n",
       "        fill_value='?',\n",
       "             dtype=object),\n",
       " 'param_ridge__alpha': masked_array(data=[0, 1, 2, 0, 1, 2, 0, 1, 2, 0, 1, 2, 0, 1, 2, 0, 1, 2,\n",
       "                    0, 1, 2, 0, 1, 2, 0, 1, 2, 0, 1, 2, 0, 1, 2],\n",
       "              mask=[False, False, False, False, False, False, False, False,\n",
       "                    False, False, False, False, False, False, False, False,\n",
       "                    False, False, False, False, False, False, False, False,\n",
       "                    False, False, False, False, False, False, False, False,\n",
       "                    False],\n",
       "        fill_value='?',\n",
       "             dtype=object),\n",
       " 'params': [{'poly__degree': 3, 'ridge__alpha': 0},\n",
       "  {'poly__degree': 3, 'ridge__alpha': 1},\n",
       "  {'poly__degree': 3, 'ridge__alpha': 2},\n",
       "  {'poly__degree': 4, 'ridge__alpha': 0},\n",
       "  {'poly__degree': 4, 'ridge__alpha': 1},\n",
       "  {'poly__degree': 4, 'ridge__alpha': 2},\n",
       "  {'poly__degree': 5, 'ridge__alpha': 0},\n",
       "  {'poly__degree': 5, 'ridge__alpha': 1},\n",
       "  {'poly__degree': 5, 'ridge__alpha': 2},\n",
       "  {'poly__degree': 6, 'ridge__alpha': 0},\n",
       "  {'poly__degree': 6, 'ridge__alpha': 1},\n",
       "  {'poly__degree': 6, 'ridge__alpha': 2},\n",
       "  {'poly__degree': 7, 'ridge__alpha': 0},\n",
       "  {'poly__degree': 7, 'ridge__alpha': 1},\n",
       "  {'poly__degree': 7, 'ridge__alpha': 2},\n",
       "  {'poly__degree': 8, 'ridge__alpha': 0},\n",
       "  {'poly__degree': 8, 'ridge__alpha': 1},\n",
       "  {'poly__degree': 8, 'ridge__alpha': 2},\n",
       "  {'poly__degree': 9, 'ridge__alpha': 0},\n",
       "  {'poly__degree': 9, 'ridge__alpha': 1},\n",
       "  {'poly__degree': 9, 'ridge__alpha': 2},\n",
       "  {'poly__degree': 10, 'ridge__alpha': 0},\n",
       "  {'poly__degree': 10, 'ridge__alpha': 1},\n",
       "  {'poly__degree': 10, 'ridge__alpha': 2},\n",
       "  {'poly__degree': 11, 'ridge__alpha': 0},\n",
       "  {'poly__degree': 11, 'ridge__alpha': 1},\n",
       "  {'poly__degree': 11, 'ridge__alpha': 2},\n",
       "  {'poly__degree': 12, 'ridge__alpha': 0},\n",
       "  {'poly__degree': 12, 'ridge__alpha': 1},\n",
       "  {'poly__degree': 12, 'ridge__alpha': 2},\n",
       "  {'poly__degree': 13, 'ridge__alpha': 0},\n",
       "  {'poly__degree': 13, 'ridge__alpha': 1},\n",
       "  {'poly__degree': 13, 'ridge__alpha': 2}],\n",
       " 'split0_test_score': array([0.24264142, 0.34462009, 0.34330783, 0.26515513, 0.32467878,\n",
       "        0.32893643, 0.19992612, 0.29350496, 0.30191924, 0.20134551,\n",
       "        0.26633039, 0.27336027, 0.20078934, 0.25543622, 0.25713634,\n",
       "        0.14643083, 0.25410613, 0.25396955, 0.14488121, 0.25549039,\n",
       "        0.2553525 , 0.0903758 , 0.25855917, 0.25771044, 0.13585155,\n",
       "        0.26305564, 0.26091883, 0.16773246, 0.2661771 , 0.26379739,\n",
       "        0.17060051, 0.26648152, 0.26459633]),\n",
       " 'split1_test_score': array([0.58738898, 0.58137583, 0.5869789 , 0.59992149, 0.57979119,\n",
       "        0.58154463, 0.59878822, 0.58985648, 0.58861668, 0.58410355,\n",
       "        0.59693063, 0.59661972, 0.55161796, 0.59835205, 0.59891737,\n",
       "        0.5220969 , 0.59837272, 0.59892293, 0.51115635, 0.5991697 ,\n",
       "        0.59944043, 0.50697606, 0.59785095, 0.59876695, 0.42104165,\n",
       "        0.58730907, 0.59171183, 0.49483732, 0.56431745, 0.57383175,\n",
       "        0.34817751, 0.5448763 , 0.55313474]),\n",
       " 'split2_test_score': array([ 0.48364534,  0.42977046,  0.41974209,  0.50242829,  0.46245831,\n",
       "         0.45289735,  0.48623234,  0.49331448,  0.48824752,  0.35679621,\n",
       "         0.50591318,  0.50504044,  0.33676902,  0.50978105,  0.50965151,\n",
       "         0.2339012 ,  0.50741942,  0.50910061,  0.31907062,  0.48847667,\n",
       "         0.49515574,  0.12859434,  0.4444695 ,  0.45672362,  0.26740418,\n",
       "         0.38046019,  0.39634454, -0.12557313,  0.32028483,  0.33453438,\n",
       "        -0.81525346,  0.28946787,  0.29561535]),\n",
       " 'split3_test_score': array([ 0.1902214 ,  0.1773372 ,  0.18833814,  0.12182499,  0.17359418,\n",
       "         0.18006972, -0.06561611,  0.18346059,  0.18406216, -0.18204744,\n",
       "         0.19286484,  0.193719  , -0.57155278,  0.1960089 ,  0.19833951,\n",
       "        -1.5377909 ,  0.19558506,  0.19778067, -2.3286661 ,  0.1960746 ,\n",
       "         0.19738531, -6.34466005,  0.199496  ,  0.19998559, -6.85083529,\n",
       "         0.20459745,  0.2045558 , -2.43571365,  0.20751617,  0.20799404,\n",
       "        -1.1225271 ,  0.20748225,  0.20850096]),\n",
       " 'split4_test_score': array([0.49912848, 0.43895902, 0.42858491, 0.52250168, 0.46931243,\n",
       "        0.45809732, 0.52148985, 0.50532442, 0.49813499, 0.55589557,\n",
       "        0.52231875, 0.52030975, 0.5041834 , 0.52406214, 0.52429794,\n",
       "        0.49866186, 0.52174109, 0.52268449, 0.48769561, 0.52161364,\n",
       "        0.52264984, 0.40456022, 0.5244527 , 0.52474311, 0.44966177,\n",
       "        0.52711411, 0.52632327, 0.48608021, 0.52394045, 0.52342839,\n",
       "        0.44566008, 0.51413212, 0.5144965 ]),\n",
       " 'mean_test_score': array([ 0.40060512,  0.39441252,  0.39339037,  0.40236632,  0.40196698,\n",
       "         0.40030909,  0.34816408,  0.41309218,  0.41219612,  0.30321868,\n",
       "         0.41687156,  0.41780984,  0.20436139,  0.41672807,  0.41766853,\n",
       "        -0.02734002,  0.41544488,  0.41649165, -0.17317246,  0.412165  ,\n",
       "         0.41399676, -1.04283073,  0.40496566,  0.40758594, -1.11537523,\n",
       "         0.39250729,  0.39597085, -0.28252736,  0.3764472 ,  0.38071719,\n",
       "        -0.19466849,  0.36448801,  0.36726877]),\n",
       " 'std_test_score': array([0.15537348, 0.13250723, 0.12958724, 0.17944542, 0.13995975,\n",
       "        0.13605202, 0.24702456, 0.1504791 , 0.14730894, 0.27981202,\n",
       "        0.15767716, 0.15567323, 0.40744759, 0.1599367 , 0.15909597,\n",
       "        0.76921571, 0.15974312, 0.15961356, 1.08578697, 0.15748982,\n",
       "        0.15803174, 2.65565922, 0.15277113, 0.15378626, 2.86995007,\n",
       "        0.14715957, 0.14844877, 1.10078455, 0.14205695, 0.14373315,\n",
       "        0.64562701, 0.13770795, 0.13935941]),\n",
       " 'rank_test_score': array([15, 18, 19, 13, 14, 16, 25,  8,  9, 26,  3,  1, 27,  4,  2, 28,  6,\n",
       "         5, 29, 10,  7, 32, 12, 11, 33, 20, 17, 31, 22, 21, 30, 24, 23])}"
      ]
     },
     "execution_count": 44,
     "metadata": {},
     "output_type": "execute_result"
    }
   ],
   "source": [
    "grid_search.cv_results_"
   ]
  },
  {
   "cell_type": "code",
   "execution_count": 45,
   "metadata": {},
   "outputs": [
    {
     "name": "stdout",
     "output_type": "stream",
     "text": [
      "-------BEST PARAMS-------\n",
      "---------RESULTS---------\n",
      "Mean squared error: 127.54\n",
      "Coefficient of determination: 0.61\n",
      "-------------------------\n",
      "\n"
     ]
    }
   ],
   "source": [
    "print(\"-------BEST PARAMS-------\")\n",
    "grid_search.best_params_\n",
    "print(\"---------RESULTS---------\")\n",
    "y_pred = grid_search.predict(X_test)\n",
    "print('Mean squared error: %.2f'\n",
    "  % mean_squared_error(y_test, y_pred))\n",
    "# The coefficient of determination: 1 is perfect prediction\n",
    "print('Coefficient of determination: %.2f'\n",
    "  % r2_score(y_test, y_pred))\n",
    "print(\"-------------------------\\n\")"
   ]
  },
  {
   "cell_type": "code",
   "execution_count": 46,
   "metadata": {},
   "outputs": [
    {
     "data": {
      "image/png": "[encoded data removed]",
      "text/plain": [
       "<Figure size 432x288 with 1 Axes>"
      ]
     },
     "metadata": {
      "needs_background": "light"
     },
     "output_type": "display_data"
    }
   ],
   "source": [
    "import matplotlib.pyplot as plt\n",
    "\n",
    "xp = np.linspace(X_test.min(), X_test.max(), 100)\n",
    "_ = plt.plot(X_test, y_test, '.')\n",
    "\n",
    "for count, degree in enumerate([6]):\n",
    "    model = make_pipeline(PolynomialFeatures(degree), Ridge(2))\n",
    "    model.fit(X_train, y_train)\n",
    "    _ = plt.plot(xp, model.predict(xp), '-',label=\"degree \"+str(degree))\n",
    "plt.legend(bbox_to_anchor=(1.05, 1.0), loc='upper left')\n",
    "plt.tight_layout()\n",
    "plt.show()"
   ]
  },
  {
   "cell_type": "markdown",
   "metadata": {},
   "source": [
    "## Polynomial + Outter CV"
   ]
  },
  {
   "cell_type": "code",
   "execution_count": 5,
   "metadata": {},
   "outputs": [],
   "source": [
    "import numpy as np\n",
    "import pandas as pd\n",
    "import matplotlib as plt\n",
    "\n",
    "from sklearn.model_selection import train_test_split\n",
    "from sklearn import datasets, linear_model\n",
    "from sklearn.metrics import mean_squared_error, r2_score\n",
    "\n",
    "from sklearn.model_selection import GridSearchCV\n",
    "\n",
    "from sklearn.linear_model import Ridge, Lasso, ElasticNet\n",
    "from sklearn.linear_model import RidgeCV, LassoCV, ElasticNetCV\n",
    "\n",
    "from sklearn.pipeline import make_pipeline, Pipeline\n",
    "from sklearn.preprocessing import StandardScaler\n",
    "from sklearn.preprocessing import PolynomialFeatures"
   ]
  },
  {
   "cell_type": "code",
   "execution_count": 8,
   "metadata": {},
   "outputs": [],
   "source": [
    "# Usaremos o dataset no qual mediremos o comprimento de um cateter (em cm) de acordo com a altura (em metros) do paciente\n",
    "df = pd.DataFrame(data=[[1.087, 37], [1.613, 50], [0.953, 34], [1.003, 36], [1.156,43], [0.978, 28], [1.092, 37], [0.572, 20], [0.940, 34], [0.597, 30], [0.838, 38], [1.473, 47]], columns=['Altura','Comprimento'])"
   ]
  },
  {
   "cell_type": "code",
   "execution_count": 9,
   "metadata": {},
   "outputs": [],
   "source": [
    "import random\n",
    "import math\n",
    "\n",
    "add_instances_into_dataset = 200\n",
    "\n",
    "random.seed(add_instances_into_dataset)\n",
    "\n",
    "size_df = len(df)\n",
    "\n",
    "for i in range(add_instances_into_dataset):\n",
    "    rand_altura = random.randrange(800, 1600)\n",
    "    rand_altura /= 1000\n",
    "    \n",
    "    rand_comprimento = rand_altura*25 + random.randrange(10, 15)\n",
    "    rand_comprimento = math.floor(rand_comprimento)\n",
    "\n",
    "    new_row = {'Altura': rand_altura, 'Comprimento': rand_comprimento}\n",
    "    df = df.append(new_row, ignore_index=True)\n",
    "    "
   ]
  },
  {
   "cell_type": "code",
   "execution_count": 10,
   "metadata": {},
   "outputs": [],
   "source": [
    "X = df[['Altura']]\n",
    "y = df[['Comprimento']]"
   ]
  },
  {
   "cell_type": "code",
   "execution_count": 25,
   "metadata": {
    "scrolled": true
   },
   "outputs": [
    {
     "output_type": "stream",
     "name": "stdout",
     "text": [
      "-------BEST PARAMS-------\n{'poly__degree': 4, 'ridge__alpha': 0}\n---------RESULTS---------\nMean squared error: 3.70\nCoefficient of determination: 0.91\n-------------------------\n\n"
     ]
    }
   ],
   "source": [
    "# iteration = 1\n",
    "# for i in range(42,46):\n",
    "i = 42\n",
    "X_train, X_test, y_train, y_test = train_test_split(X, y, test_size=0.33, random_state=i)\n",
    "\n",
    "param_grid = [\n",
    "{'poly__degree': [3, 4, 5, 6, 7, 8, 9, 10, 11, 12, 13],\n",
    "'ridge__alpha':[0,1,2]}\n",
    "  ]\n",
    "pipeline = Pipeline(steps=[('std',StandardScaler()),('poly', PolynomialFeatures()), ('ridge', Ridge())])\n",
    "grid_search = GridSearchCV(pipeline, param_grid, cv=5,\n",
    "                            scoring='r2',\n",
    "                            refit=True)\n",
    "grid_search.fit(X_train, y_train)\n",
    "\n",
    "\n",
    "print(\"-------BEST PARAMS-------\")\n",
    "print(grid_search.best_params_)\n",
    "print(\"---------RESULTS---------\")\n",
    "y_pred = grid_search.predict(X_test)\n",
    "print('Mean squared error: %.2f'\n",
    "  % mean_squared_error(y_test, y_pred))\n",
    "# The coefficient of determination: 1 is perfect prediction\n",
    "print('Coefficient of determination: %.2f'\n",
    "  % r2_score(y_test, y_pred))\n",
    "print(\"-------------------------\\n\")\n"
   ]
  },
  {
   "cell_type": "code",
   "execution_count": 26,
   "metadata": {},
   "outputs": [
    {
     "output_type": "execute_result",
     "data": {
      "text/plain": [
       "0.0"
      ]
     },
     "metadata": {},
     "execution_count": 26
    }
   ],
   "source": [
    "cl = grid_search.best_estimator_\n",
    "(grid_search.predict(X_test) - cl.predict(X_test)).sum()"
   ]
  },
  {
   "cell_type": "code",
   "execution_count": 29,
   "metadata": {},
   "outputs": [
    {
     "output_type": "execute_result",
     "data": {
      "text/plain": [
       "     Altura\n",
       "30    1.303\n",
       "173   1.309\n",
       "140   1.173\n",
       "75    1.028\n",
       "60    1.495\n",
       "..      ...\n",
       "65    0.870\n",
       "122   1.279\n",
       "180   1.543\n",
       "31    0.994\n",
       "12    0.846\n",
       "\n",
       "[70 rows x 1 columns]"
      ],
      "text/html": "<div>\n<style scoped>\n    .dataframe tbody tr th:only-of-type {\n        vertical-align: middle;\n    }\n\n    .dataframe tbody tr th {\n        vertical-align: top;\n    }\n\n    .dataframe thead th {\n        text-align: right;\n    }\n</style>\n<table border=\"1\" class=\"dataframe\">\n  <thead>\n    <tr style=\"text-align: right;\">\n      <th></th>\n      <th>Altura</th>\n    </tr>\n  </thead>\n  <tbody>\n    <tr>\n      <th>30</th>\n      <td>1.303</td>\n    </tr>\n    <tr>\n      <th>173</th>\n      <td>1.309</td>\n    </tr>\n    <tr>\n      <th>140</th>\n      <td>1.173</td>\n    </tr>\n    <tr>\n      <th>75</th>\n      <td>1.028</td>\n    </tr>\n    <tr>\n      <th>60</th>\n      <td>1.495</td>\n    </tr>\n    <tr>\n      <th>...</th>\n      <td>...</td>\n    </tr>\n    <tr>\n      <th>65</th>\n      <td>0.870</td>\n    </tr>\n    <tr>\n      <th>122</th>\n      <td>1.279</td>\n    </tr>\n    <tr>\n      <th>180</th>\n      <td>1.543</td>\n    </tr>\n    <tr>\n      <th>31</th>\n      <td>0.994</td>\n    </tr>\n    <tr>\n      <th>12</th>\n      <td>0.846</td>\n    </tr>\n  </tbody>\n</table>\n<p>70 rows × 1 columns</p>\n</div>"
     },
     "metadata": {},
     "execution_count": 29
    }
   ],
   "source": [
    "X_test"
   ]
  },
  {
   "cell_type": "code",
   "execution_count": 33,
   "metadata": {},
   "outputs": [
    {
     "output_type": "execute_result",
     "data": {
      "text/plain": [
       "array([[ 0.5181211 ],\n",
       "       [ 0.54261855],\n",
       "       [-0.01265702],\n",
       "       [-0.60467876],\n",
       "       [ 1.30203954],\n",
       "       [ 1.44085843],\n",
       "       [-0.4821915 ],\n",
       "       [-0.90681399],\n",
       "       [-2.36441235],\n",
       "       [-1.2906074 ],\n",
       "       [ 1.06931375],\n",
       "       [ 1.06523085],\n",
       "       [ 1.10197702],\n",
       "       [ 1.5674286 ],\n",
       "       [-0.42094787],\n",
       "       [-0.66183948],\n",
       "       [-0.89864818],\n",
       "       [ 1.46535589],\n",
       "       [ 0.68552035],\n",
       "       [ 0.17107387],\n",
       "       [-1.44984083],\n",
       "       [-1.4825041 ],\n",
       "       [-1.35593394],\n",
       "       [-1.02113543],\n",
       "       [ 0.99173849],\n",
       "       [-0.37603588],\n",
       "       [ 0.39971675],\n",
       "       [ 0.0445037 ],\n",
       "       [ 1.35511735],\n",
       "       [-0.17189045],\n",
       "       [-1.13137396],\n",
       "       [-0.82515582],\n",
       "       [-0.85373618],\n",
       "       [-1.4825041 ],\n",
       "       [-0.75574638],\n",
       "       [ 0.50995528],\n",
       "       [-0.02082283],\n",
       "       [ 0.04042079],\n",
       "       [-0.147393  ],\n",
       "       [ 0.37930221],\n",
       "       [ 0.70185198],\n",
       "       [ 1.26529337],\n",
       "       [ 0.59977927],\n",
       "       [ 0.21598586],\n",
       "       [ 0.46096038],\n",
       "       [ 1.06523085],\n",
       "       [-0.73533183],\n",
       "       [-1.46208956],\n",
       "       [ 0.51403819],\n",
       "       [ 0.88966578],\n",
       "       [-0.06981774],\n",
       "       [ 0.72226653],\n",
       "       [ 1.41227807],\n",
       "       [-0.99255507],\n",
       "       [ 0.29764403],\n",
       "       [-1.16403723],\n",
       "       [ 0.17923969],\n",
       "       [-1.37226557],\n",
       "       [ 1.5184337 ],\n",
       "       [-0.80882419],\n",
       "       [ 1.66541841],\n",
       "       [ 1.15913774],\n",
       "       [-1.36001684],\n",
       "       [ 0.99173849],\n",
       "       [-0.20455372],\n",
       "       [-1.24977831],\n",
       "       [ 0.42013129],\n",
       "       [ 1.49801915],\n",
       "       [-0.74349765],\n",
       "       [-1.34776812]])"
      ]
     },
     "metadata": {},
     "execution_count": 33
    }
   ],
   "source": [
    "scaler = StandardScaler()\n",
    "x_norm = scaler.fit_transform(X_test)\n",
    "x_norm"
   ]
  },
  {
   "cell_type": "code",
   "execution_count": 37,
   "metadata": {},
   "outputs": [
    {
     "output_type": "execute_result",
     "data": {
      "text/plain": [
       "array([[44.02278481],\n",
       "       [44.19172715],\n",
       "       [40.46295863],\n",
       "       [36.99236273],\n",
       "       [48.82876434],\n",
       "       [49.37396712],\n",
       "       [37.66722145],\n",
       "       [35.36664909],\n",
       "       [21.90594588],\n",
       "       [33.17959867],\n",
       "       [47.62628242],\n",
       "       [47.60265519],\n",
       "       [47.81258892],\n",
       "       [49.72406201],\n",
       "       [38.01158491],\n",
       "       [36.68237688],\n",
       "       [35.41066958],\n",
       "       [49.45357998],\n",
       "       [45.17185466],\n",
       "       [41.65851789],\n",
       "       [32.13804795],\n",
       "       [31.90891499],\n",
       "       [32.76608702],\n",
       "       [34.74405063],\n",
       "       [47.16554503],\n",
       "       [38.26755496],\n",
       "       [43.20704996],\n",
       "       [40.82918706],\n",
       "       [49.05502604],\n",
       "       [39.47253319],\n",
       "       [34.12570515],\n",
       "       [35.80541604],\n",
       "       [35.65214169],\n",
       "       [31.90891499],\n",
       "       [36.17733034],\n",
       "       [43.96645736],\n",
       "       [40.41108957],\n",
       "       [40.8028483 ],\n",
       "       [39.62198888],\n",
       "       [43.06693559],\n",
       "       [45.28277868],\n",
       "       [48.66041724],\n",
       "       [44.58528845],\n",
       "       [41.95827368],\n",
       "       [43.62856171],\n",
       "       [47.60265519],\n",
       "       [36.28682693],\n",
       "       [32.05281746],\n",
       "       [43.99462147],\n",
       "       [46.52647826],\n",
       "       [40.10229219],\n",
       "       [45.42096651],\n",
       "       [49.27442816],\n",
       "       [34.90106618],\n",
       "       [42.50943539],\n",
       "       [33.93756705],\n",
       "       [41.7128224 ],\n",
       "       [32.65988835],\n",
       "       [49.6070219 ],\n",
       "       [35.89293014],\n",
       "       [49.8804355 ],\n",
       "       [48.12618622],\n",
       "       [32.73964897],\n",
       "       [47.16554503],\n",
       "       [39.27491445],\n",
       "       [33.42974878],\n",
       "       [43.34738581],\n",
       "       [49.55117807],\n",
       "       [36.24301519],\n",
       "       [32.81874405]])"
      ]
     },
     "metadata": {},
     "execution_count": 37
    }
   ],
   "source": [
    "cl.predict(X_test)"
   ]
  },
  {
   "cell_type": "code",
   "execution_count": 38,
   "metadata": {},
   "outputs": [
    {
     "output_type": "stream",
     "name": "stdout",
     "text": [
      "Accuracy: 0.927 (0.019)\n"
     ]
    }
   ],
   "source": [
    "# automatic nested cross-validation for random forest on a classification dataset\n",
    "from numpy import mean\n",
    "from numpy import std\n",
    "from sklearn.datasets import make_classification\n",
    "from sklearn.model_selection import cross_val_score\n",
    "from sklearn.model_selection import KFold\n",
    "from sklearn.model_selection import GridSearchCV\n",
    "from sklearn.ensemble import RandomForestClassifier\n",
    "# create dataset\n",
    "X, y = make_classification(n_samples=1000, n_features=20, random_state=1, n_informative=10, n_redundant=10)\n",
    "# configure the cross-validation procedure\n",
    "cv_inner = KFold(n_splits=3, shuffle=True, random_state=1)\n",
    "# define the model\n",
    "model = RandomForestClassifier(random_state=1)\n",
    "# define search space\n",
    "space = dict()\n",
    "space['n_estimators'] = [10, 100, 500]\n",
    "space['max_features'] = [2, 4, 6]\n",
    "# define search\n",
    "search = GridSearchCV(model, space, scoring='accuracy', n_jobs=1, cv=cv_inner, refit=True)\n",
    "# configure the cross-validation procedure\n",
    "cv_outer = KFold(n_splits=10, shuffle=True, random_state=1)\n",
    "# execute the nested cross-validation\n",
    "scores = cross_val_score(search, X, y, scoring='accuracy', cv=cv_outer, n_jobs=-1)\n",
    "# report performance\n",
    "print('Accuracy: %.3f (%.3f)' % (mean(scores), std(scores)))"
   ]
  },
  {
   "cell_type": "code",
   "execution_count": 49,
   "metadata": {},
   "outputs": [],
   "source": [
    "fit = search.fit(X,y)"
   ]
  },
  {
   "cell_type": "code",
   "execution_count": 58,
   "metadata": {},
   "outputs": [
    {
     "output_type": "execute_result",
     "data": {
      "text/plain": [
       "{'mean_fit_time': array([0.05027278, 0.40639313, 2.10511843, 0.05061658, 0.4871513 ,\n",
       "        2.43676813, 0.05953225, 0.55232565, 2.78401128]),\n",
       " 'std_fit_time': array([0.00281413, 0.01067234, 0.00532028, 0.00065696, 0.00628293,\n",
       "        0.02407834, 0.00470686, 0.01198075, 0.01447388]),\n",
       " 'mean_score_time': array([0.00407656, 0.02650857, 0.13869627, 0.00395155, 0.02850795,\n",
       "        0.13843989, 0.00558543, 0.0283343 , 0.13450678]),\n",
       " 'std_score_time': array([0.00065543, 0.00235638, 0.00940483, 0.00033838, 0.00382413,\n",
       "        0.00636331, 0.00263025, 0.00041085, 0.0035916 ]),\n",
       " 'param_max_features': masked_array(data=[2, 2, 2, 4, 4, 4, 6, 6, 6],\n",
       "              mask=[False, False, False, False, False, False, False, False,\n",
       "                    False],\n",
       "        fill_value='?',\n",
       "             dtype=object),\n",
       " 'param_n_estimators': masked_array(data=[10, 100, 500, 10, 100, 500, 10, 100, 500],\n",
       "              mask=[False, False, False, False, False, False, False, False,\n",
       "                    False],\n",
       "        fill_value='?',\n",
       "             dtype=object),\n",
       " 'params': [{'max_features': 2, 'n_estimators': 10},\n",
       "  {'max_features': 2, 'n_estimators': 100},\n",
       "  {'max_features': 2, 'n_estimators': 500},\n",
       "  {'max_features': 4, 'n_estimators': 10},\n",
       "  {'max_features': 4, 'n_estimators': 100},\n",
       "  {'max_features': 4, 'n_estimators': 500},\n",
       "  {'max_features': 6, 'n_estimators': 10},\n",
       "  {'max_features': 6, 'n_estimators': 100},\n",
       "  {'max_features': 6, 'n_estimators': 500}],\n",
       " 'split0_test_score': array([0.88922156, 0.91616766, 0.92215569, 0.8742515 , 0.91916168,\n",
       "        0.91616766, 0.87125749, 0.92215569, 0.91017964]),\n",
       " 'split1_test_score': array([0.87987988, 0.92792793, 0.93093093, 0.90990991, 0.94294294,\n",
       "        0.93393393, 0.88588589, 0.91891892, 0.93093093]),\n",
       " 'split2_test_score': array([0.8978979 , 0.91891892, 0.92492492, 0.89189189, 0.91891892,\n",
       "        0.91891892, 0.90990991, 0.92792793, 0.92792793]),\n",
       " 'mean_test_score': array([0.88899978, 0.92100484, 0.92600385, 0.89201777, 0.92700785,\n",
       "        0.92300684, 0.88901776, 0.92300085, 0.92301283]),\n",
       " 'std_test_score': array([0.0073575 , 0.00502257, 0.00366281, 0.01455776, 0.01126825,\n",
       "        0.00780783, 0.01593443, 0.00372615, 0.00915688]),\n",
       " 'rank_test_score': array([9, 6, 2, 7, 1, 4, 8, 5, 3], dtype=int32)}"
      ]
     },
     "metadata": {},
     "execution_count": 58
    }
   ],
   "source": [
    "resul = fit.cv_results_\n",
    "resul"
   ]
  },
  {
   "cell_type": "raw",
   "metadata": {},
   "source": [
    "Dicas: \n",
    "1) Reduzir o intervalo dos graus do polinômio (1 a 8)\n",
    "2) Aumentar o intervalo de alfa (0 a 5)\n"
   ]
  },
  {
   "cell_type": "code",
   "execution_count": 81,
   "metadata": {},
   "outputs": [
    {
     "output_type": "execute_result",
     "data": {
      "text/plain": [
       "   max_features  n_estimators     score\n",
       "0             2            10  0.889000\n",
       "1             2           100  0.921005\n",
       "2             2           500  0.926004\n",
       "3             4            10  0.892018\n",
       "4             4           100  0.927008\n",
       "5             4           500  0.923007\n",
       "6             6            10  0.889018\n",
       "7             6           100  0.923001\n",
       "8             6           500  0.923013"
      ],
      "text/html": "<div>\n<style scoped>\n    .dataframe tbody tr th:only-of-type {\n        vertical-align: middle;\n    }\n\n    .dataframe tbody tr th {\n        vertical-align: top;\n    }\n\n    .dataframe thead th {\n        text-align: right;\n    }\n</style>\n<table border=\"1\" class=\"dataframe\">\n  <thead>\n    <tr style=\"text-align: right;\">\n      <th></th>\n      <th>max_features</th>\n      <th>n_estimators</th>\n      <th>score</th>\n    </tr>\n  </thead>\n  <tbody>\n    <tr>\n      <th>0</th>\n      <td>2</td>\n      <td>10</td>\n      <td>0.889000</td>\n    </tr>\n    <tr>\n      <th>1</th>\n      <td>2</td>\n      <td>100</td>\n      <td>0.921005</td>\n    </tr>\n    <tr>\n      <th>2</th>\n      <td>2</td>\n      <td>500</td>\n      <td>0.926004</td>\n    </tr>\n    <tr>\n      <th>3</th>\n      <td>4</td>\n      <td>10</td>\n      <td>0.892018</td>\n    </tr>\n    <tr>\n      <th>4</th>\n      <td>4</td>\n      <td>100</td>\n      <td>0.927008</td>\n    </tr>\n    <tr>\n      <th>5</th>\n      <td>4</td>\n      <td>500</td>\n      <td>0.923007</td>\n    </tr>\n    <tr>\n      <th>6</th>\n      <td>6</td>\n      <td>10</td>\n      <td>0.889018</td>\n    </tr>\n    <tr>\n      <th>7</th>\n      <td>6</td>\n      <td>100</td>\n      <td>0.923001</td>\n    </tr>\n    <tr>\n      <th>8</th>\n      <td>6</td>\n      <td>500</td>\n      <td>0.923013</td>\n    </tr>\n  </tbody>\n</table>\n</div>"
     },
     "metadata": {},
     "execution_count": 81
    }
   ],
   "source": [
    "ps = pd.DataFrame(resul['params'])\n",
    "ps = pd.concat([ps,pd.DataFrame(resul['mean_test_score'],columns=['score'])],axis=1)\n",
    "ps"
   ]
  },
  {
   "cell_type": "code",
   "execution_count": 87,
   "metadata": {},
   "outputs": [],
   "source": [
    "ps1 = ps.groupby(by='max_features')['score'].mean().reset_index(name='score')"
   ]
  },
  {
   "cell_type": "code",
   "execution_count": 82,
   "metadata": {},
   "outputs": [],
   "source": [
    "import matplotlib.pyplot as plt"
   ]
  },
  {
   "cell_type": "code",
   "execution_count": 96,
   "metadata": {},
   "outputs": [
    {
     "output_type": "display_data",
     "data": {
      "text/plain": "<Figure size 432x288 with 1 Axes>",
      "image/svg+xml": "<?xml version=\"1.0\" encoding=\"utf-8\" standalone=\"no\"?>\n<!DOCTYPE svg PUBLIC \"-//W3C//DTD SVG 1.1//EN\"\n  \"http://www.w3.org/Graphics/SVG/1.1/DTD/svg11.dtd\">\n<!-- Created with matplotlib (https://matplotlib.org/) -->\n<svg height=\"262.474375pt\" version=\"1.1\" viewBox=\"0 0 404.86875 262.474375\" width=\"404.86875pt\" xmlns=\"http://www.w3.org/2000/svg\" xmlns:xlink=\"http://www.w3.org/1999/xlink\">\n <metadata>\n  <rdf:RDF xmlns:cc=\"http://creativecommons.org/ns#\" xmlns:dc=\"http://purl.org/dc/elements/1.1/\" xmlns:rdf=\"http://www.w3.org/1999/02/22-rdf-syntax-ns#\">\n   <cc:Work>\n    <dc:type rdf:resource=\"http://purl.org/dc/dcmitype/StillImage\"/>\n    <dc:date>2021-07-28T12:23:24.349964</dc:date>\n    <dc:format>image/svg+xml</dc:format>\n    <dc:creator>\n     <cc:Agent>\n      <dc:title>Matplotlib v3.3.2, https://matplotlib.org/</dc:title>\n     </cc:Agent>\n    </dc:creator>\n   </cc:Work>\n  </rdf:RDF>\n </metadata>\n <defs>\n  <style type=\"text/css\">*{stroke-linecap:butt;stroke-linejoin:round;}</style>\n </defs>\n <g id=\"figure_1\">\n  <g id=\"patch_1\">\n   <path d=\"M 0 262.474375 \nL 404.86875 262.474375 \nL 404.86875 0 \nL 0 0 \nz\n\" style=\"fill:none;\"/>\n  </g>\n  <g id=\"axes_1\">\n   <g id=\"patch_2\">\n    <path d=\"M 62.86875 224.64 \nL 397.66875 224.64 \nL 397.66875 7.2 \nL 62.86875 7.2 \nz\n\" style=\"fill:#ffffff;\"/>\n   </g>\n   <g id=\"matplotlib.axis_1\">\n    <g id=\"xtick_1\">\n     <g id=\"line2d_1\">\n      <defs>\n       <path d=\"M 0 0 \nL 0 3.5 \n\" id=\"m576cb1c9c1\" style=\"stroke:#000000;stroke-width:0.8;\"/>\n      </defs>\n      <g>\n       <use style=\"stroke:#000000;stroke-width:0.8;\" x=\"78.086932\" xlink:href=\"#m576cb1c9c1\" y=\"224.64\"/>\n      </g>\n     </g>\n     <g id=\"text_1\">\n      <!-- 2.0 -->\n      <g transform=\"translate(70.135369 239.238438)scale(0.1 -0.1)\">\n       <defs>\n        <path d=\"M 19.1875 8.296875 \nL 53.609375 8.296875 \nL 53.609375 0 \nL 7.328125 0 \nL 7.328125 8.296875 \nQ 12.9375 14.109375 22.625 23.890625 \nQ 32.328125 33.6875 34.8125 36.53125 \nQ 39.546875 41.84375 41.421875 45.53125 \nQ 43.3125 49.21875 43.3125 52.78125 \nQ 43.3125 58.59375 39.234375 62.25 \nQ 35.15625 65.921875 28.609375 65.921875 \nQ 23.96875 65.921875 18.8125 64.3125 \nQ 13.671875 62.703125 7.8125 59.421875 \nL 7.8125 69.390625 \nQ 13.765625 71.78125 18.9375 73 \nQ 24.125 74.21875 28.421875 74.21875 \nQ 39.75 74.21875 46.484375 68.546875 \nQ 53.21875 62.890625 53.21875 53.421875 \nQ 53.21875 48.921875 51.53125 44.890625 \nQ 49.859375 40.875 45.40625 35.40625 \nQ 44.1875 33.984375 37.640625 27.21875 \nQ 31.109375 20.453125 19.1875 8.296875 \nz\n\" id=\"DejaVuSans-50\"/>\n        <path d=\"M 10.6875 12.40625 \nL 21 12.40625 \nL 21 0 \nL 10.6875 0 \nz\n\" id=\"DejaVuSans-46\"/>\n        <path d=\"M 31.78125 66.40625 \nQ 24.171875 66.40625 20.328125 58.90625 \nQ 16.5 51.421875 16.5 36.375 \nQ 16.5 21.390625 20.328125 13.890625 \nQ 24.171875 6.390625 31.78125 6.390625 \nQ 39.453125 6.390625 43.28125 13.890625 \nQ 47.125 21.390625 47.125 36.375 \nQ 47.125 51.421875 43.28125 58.90625 \nQ 39.453125 66.40625 31.78125 66.40625 \nz\nM 31.78125 74.21875 \nQ 44.046875 74.21875 50.515625 64.515625 \nQ 56.984375 54.828125 56.984375 36.375 \nQ 56.984375 17.96875 50.515625 8.265625 \nQ 44.046875 -1.421875 31.78125 -1.421875 \nQ 19.53125 -1.421875 13.0625 8.265625 \nQ 6.59375 17.96875 6.59375 36.375 \nQ 6.59375 54.828125 13.0625 64.515625 \nQ 19.53125 74.21875 31.78125 74.21875 \nz\n\" id=\"DejaVuSans-48\"/>\n       </defs>\n       <use xlink:href=\"#DejaVuSans-50\"/>\n       <use x=\"63.623047\" xlink:href=\"#DejaVuSans-46\"/>\n       <use x=\"95.410156\" xlink:href=\"#DejaVuSans-48\"/>\n      </g>\n     </g>\n    </g>\n    <g id=\"xtick_2\">\n     <g id=\"line2d_2\">\n      <g>\n       <use style=\"stroke:#000000;stroke-width:0.8;\" x=\"116.132386\" xlink:href=\"#m576cb1c9c1\" y=\"224.64\"/>\n      </g>\n     </g>\n     <g id=\"text_2\">\n      <!-- 2.5 -->\n      <g transform=\"translate(108.180824 239.238438)scale(0.1 -0.1)\">\n       <defs>\n        <path d=\"M 10.796875 72.90625 \nL 49.515625 72.90625 \nL 49.515625 64.59375 \nL 19.828125 64.59375 \nL 19.828125 46.734375 \nQ 21.96875 47.46875 24.109375 47.828125 \nQ 26.265625 48.1875 28.421875 48.1875 \nQ 40.625 48.1875 47.75 41.5 \nQ 54.890625 34.8125 54.890625 23.390625 \nQ 54.890625 11.625 47.5625 5.09375 \nQ 40.234375 -1.421875 26.90625 -1.421875 \nQ 22.3125 -1.421875 17.546875 -0.640625 \nQ 12.796875 0.140625 7.71875 1.703125 \nL 7.71875 11.625 \nQ 12.109375 9.234375 16.796875 8.0625 \nQ 21.484375 6.890625 26.703125 6.890625 \nQ 35.15625 6.890625 40.078125 11.328125 \nQ 45.015625 15.765625 45.015625 23.390625 \nQ 45.015625 31 40.078125 35.4375 \nQ 35.15625 39.890625 26.703125 39.890625 \nQ 22.75 39.890625 18.8125 39.015625 \nQ 14.890625 38.140625 10.796875 36.28125 \nz\n\" id=\"DejaVuSans-53\"/>\n       </defs>\n       <use xlink:href=\"#DejaVuSans-50\"/>\n       <use x=\"63.623047\" xlink:href=\"#DejaVuSans-46\"/>\n       <use x=\"95.410156\" xlink:href=\"#DejaVuSans-53\"/>\n      </g>\n     </g>\n    </g>\n    <g id=\"xtick_3\">\n     <g id=\"line2d_3\">\n      <g>\n       <use style=\"stroke:#000000;stroke-width:0.8;\" x=\"154.177841\" xlink:href=\"#m576cb1c9c1\" y=\"224.64\"/>\n      </g>\n     </g>\n     <g id=\"text_3\">\n      <!-- 3.0 -->\n      <g transform=\"translate(146.226278 239.238438)scale(0.1 -0.1)\">\n       <defs>\n        <path d=\"M 40.578125 39.3125 \nQ 47.65625 37.796875 51.625 33 \nQ 55.609375 28.21875 55.609375 21.1875 \nQ 55.609375 10.40625 48.1875 4.484375 \nQ 40.765625 -1.421875 27.09375 -1.421875 \nQ 22.515625 -1.421875 17.65625 -0.515625 \nQ 12.796875 0.390625 7.625 2.203125 \nL 7.625 11.71875 \nQ 11.71875 9.328125 16.59375 8.109375 \nQ 21.484375 6.890625 26.8125 6.890625 \nQ 36.078125 6.890625 40.9375 10.546875 \nQ 45.796875 14.203125 45.796875 21.1875 \nQ 45.796875 27.640625 41.28125 31.265625 \nQ 36.765625 34.90625 28.71875 34.90625 \nL 20.21875 34.90625 \nL 20.21875 43.015625 \nL 29.109375 43.015625 \nQ 36.375 43.015625 40.234375 45.921875 \nQ 44.09375 48.828125 44.09375 54.296875 \nQ 44.09375 59.90625 40.109375 62.90625 \nQ 36.140625 65.921875 28.71875 65.921875 \nQ 24.65625 65.921875 20.015625 65.03125 \nQ 15.375 64.15625 9.8125 62.3125 \nL 9.8125 71.09375 \nQ 15.4375 72.65625 20.34375 73.4375 \nQ 25.25 74.21875 29.59375 74.21875 \nQ 40.828125 74.21875 47.359375 69.109375 \nQ 53.90625 64.015625 53.90625 55.328125 \nQ 53.90625 49.265625 50.4375 45.09375 \nQ 46.96875 40.921875 40.578125 39.3125 \nz\n\" id=\"DejaVuSans-51\"/>\n       </defs>\n       <use xlink:href=\"#DejaVuSans-51\"/>\n       <use x=\"63.623047\" xlink:href=\"#DejaVuSans-46\"/>\n       <use x=\"95.410156\" xlink:href=\"#DejaVuSans-48\"/>\n      </g>\n     </g>\n    </g>\n    <g id=\"xtick_4\">\n     <g id=\"line2d_4\">\n      <g>\n       <use style=\"stroke:#000000;stroke-width:0.8;\" x=\"192.223295\" xlink:href=\"#m576cb1c9c1\" y=\"224.64\"/>\n      </g>\n     </g>\n     <g id=\"text_4\">\n      <!-- 3.5 -->\n      <g transform=\"translate(184.271733 239.238438)scale(0.1 -0.1)\">\n       <use xlink:href=\"#DejaVuSans-51\"/>\n       <use x=\"63.623047\" xlink:href=\"#DejaVuSans-46\"/>\n       <use x=\"95.410156\" xlink:href=\"#DejaVuSans-53\"/>\n      </g>\n     </g>\n    </g>\n    <g id=\"xtick_5\">\n     <g id=\"line2d_5\">\n      <g>\n       <use style=\"stroke:#000000;stroke-width:0.8;\" x=\"230.26875\" xlink:href=\"#m576cb1c9c1\" y=\"224.64\"/>\n      </g>\n     </g>\n     <g id=\"text_5\">\n      <!-- 4.0 -->\n      <g transform=\"translate(222.317187 239.238438)scale(0.1 -0.1)\">\n       <defs>\n        <path d=\"M 37.796875 64.3125 \nL 12.890625 25.390625 \nL 37.796875 25.390625 \nz\nM 35.203125 72.90625 \nL 47.609375 72.90625 \nL 47.609375 25.390625 \nL 58.015625 25.390625 \nL 58.015625 17.1875 \nL 47.609375 17.1875 \nL 47.609375 0 \nL 37.796875 0 \nL 37.796875 17.1875 \nL 4.890625 17.1875 \nL 4.890625 26.703125 \nz\n\" id=\"DejaVuSans-52\"/>\n       </defs>\n       <use xlink:href=\"#DejaVuSans-52\"/>\n       <use x=\"63.623047\" xlink:href=\"#DejaVuSans-46\"/>\n       <use x=\"95.410156\" xlink:href=\"#DejaVuSans-48\"/>\n      </g>\n     </g>\n    </g>\n    <g id=\"xtick_6\">\n     <g id=\"line2d_6\">\n      <g>\n       <use style=\"stroke:#000000;stroke-width:0.8;\" x=\"268.314205\" xlink:href=\"#m576cb1c9c1\" y=\"224.64\"/>\n      </g>\n     </g>\n     <g id=\"text_6\">\n      <!-- 4.5 -->\n      <g transform=\"translate(260.362642 239.238438)scale(0.1 -0.1)\">\n       <use xlink:href=\"#DejaVuSans-52\"/>\n       <use x=\"63.623047\" xlink:href=\"#DejaVuSans-46\"/>\n       <use x=\"95.410156\" xlink:href=\"#DejaVuSans-53\"/>\n      </g>\n     </g>\n    </g>\n    <g id=\"xtick_7\">\n     <g id=\"line2d_7\">\n      <g>\n       <use style=\"stroke:#000000;stroke-width:0.8;\" x=\"306.359659\" xlink:href=\"#m576cb1c9c1\" y=\"224.64\"/>\n      </g>\n     </g>\n     <g id=\"text_7\">\n      <!-- 5.0 -->\n      <g transform=\"translate(298.408097 239.238438)scale(0.1 -0.1)\">\n       <use xlink:href=\"#DejaVuSans-53\"/>\n       <use x=\"63.623047\" xlink:href=\"#DejaVuSans-46\"/>\n       <use x=\"95.410156\" xlink:href=\"#DejaVuSans-48\"/>\n      </g>\n     </g>\n    </g>\n    <g id=\"xtick_8\">\n     <g id=\"line2d_8\">\n      <g>\n       <use style=\"stroke:#000000;stroke-width:0.8;\" x=\"344.405114\" xlink:href=\"#m576cb1c9c1\" y=\"224.64\"/>\n      </g>\n     </g>\n     <g id=\"text_8\">\n      <!-- 5.5 -->\n      <g transform=\"translate(336.453551 239.238438)scale(0.1 -0.1)\">\n       <use xlink:href=\"#DejaVuSans-53\"/>\n       <use x=\"63.623047\" xlink:href=\"#DejaVuSans-46\"/>\n       <use x=\"95.410156\" xlink:href=\"#DejaVuSans-53\"/>\n      </g>\n     </g>\n    </g>\n    <g id=\"xtick_9\">\n     <g id=\"line2d_9\">\n      <g>\n       <use style=\"stroke:#000000;stroke-width:0.8;\" x=\"382.450568\" xlink:href=\"#m576cb1c9c1\" y=\"224.64\"/>\n      </g>\n     </g>\n     <g id=\"text_9\">\n      <!-- 6.0 -->\n      <g transform=\"translate(374.499006 239.238438)scale(0.1 -0.1)\">\n       <defs>\n        <path d=\"M 33.015625 40.375 \nQ 26.375 40.375 22.484375 35.828125 \nQ 18.609375 31.296875 18.609375 23.390625 \nQ 18.609375 15.53125 22.484375 10.953125 \nQ 26.375 6.390625 33.015625 6.390625 \nQ 39.65625 6.390625 43.53125 10.953125 \nQ 47.40625 15.53125 47.40625 23.390625 \nQ 47.40625 31.296875 43.53125 35.828125 \nQ 39.65625 40.375 33.015625 40.375 \nz\nM 52.59375 71.296875 \nL 52.59375 62.3125 \nQ 48.875 64.0625 45.09375 64.984375 \nQ 41.3125 65.921875 37.59375 65.921875 \nQ 27.828125 65.921875 22.671875 59.328125 \nQ 17.53125 52.734375 16.796875 39.40625 \nQ 19.671875 43.65625 24.015625 45.921875 \nQ 28.375 48.1875 33.59375 48.1875 \nQ 44.578125 48.1875 50.953125 41.515625 \nQ 57.328125 34.859375 57.328125 23.390625 \nQ 57.328125 12.15625 50.6875 5.359375 \nQ 44.046875 -1.421875 33.015625 -1.421875 \nQ 20.359375 -1.421875 13.671875 8.265625 \nQ 6.984375 17.96875 6.984375 36.375 \nQ 6.984375 53.65625 15.1875 63.9375 \nQ 23.390625 74.21875 37.203125 74.21875 \nQ 40.921875 74.21875 44.703125 73.484375 \nQ 48.484375 72.75 52.59375 71.296875 \nz\n\" id=\"DejaVuSans-54\"/>\n       </defs>\n       <use xlink:href=\"#DejaVuSans-54\"/>\n       <use x=\"63.623047\" xlink:href=\"#DejaVuSans-46\"/>\n       <use x=\"95.410156\" xlink:href=\"#DejaVuSans-48\"/>\n      </g>\n     </g>\n    </g>\n    <g id=\"text_10\">\n     <!-- max_features -->\n     <g transform=\"translate(196.221094 252.916562)scale(0.1 -0.1)\">\n      <defs>\n       <path d=\"M 52 44.1875 \nQ 55.375 50.25 60.0625 53.125 \nQ 64.75 56 71.09375 56 \nQ 79.640625 56 84.28125 50.015625 \nQ 88.921875 44.046875 88.921875 33.015625 \nL 88.921875 0 \nL 79.890625 0 \nL 79.890625 32.71875 \nQ 79.890625 40.578125 77.09375 44.375 \nQ 74.3125 48.1875 68.609375 48.1875 \nQ 61.625 48.1875 57.5625 43.546875 \nQ 53.515625 38.921875 53.515625 30.90625 \nL 53.515625 0 \nL 44.484375 0 \nL 44.484375 32.71875 \nQ 44.484375 40.625 41.703125 44.40625 \nQ 38.921875 48.1875 33.109375 48.1875 \nQ 26.21875 48.1875 22.15625 43.53125 \nQ 18.109375 38.875 18.109375 30.90625 \nL 18.109375 0 \nL 9.078125 0 \nL 9.078125 54.6875 \nL 18.109375 54.6875 \nL 18.109375 46.1875 \nQ 21.1875 51.21875 25.484375 53.609375 \nQ 29.78125 56 35.6875 56 \nQ 41.65625 56 45.828125 52.96875 \nQ 50 49.953125 52 44.1875 \nz\n\" id=\"DejaVuSans-109\"/>\n       <path d=\"M 34.28125 27.484375 \nQ 23.390625 27.484375 19.1875 25 \nQ 14.984375 22.515625 14.984375 16.5 \nQ 14.984375 11.71875 18.140625 8.90625 \nQ 21.296875 6.109375 26.703125 6.109375 \nQ 34.1875 6.109375 38.703125 11.40625 \nQ 43.21875 16.703125 43.21875 25.484375 \nL 43.21875 27.484375 \nz\nM 52.203125 31.203125 \nL 52.203125 0 \nL 43.21875 0 \nL 43.21875 8.296875 \nQ 40.140625 3.328125 35.546875 0.953125 \nQ 30.953125 -1.421875 24.3125 -1.421875 \nQ 15.921875 -1.421875 10.953125 3.296875 \nQ 6 8.015625 6 15.921875 \nQ 6 25.140625 12.171875 29.828125 \nQ 18.359375 34.515625 30.609375 34.515625 \nL 43.21875 34.515625 \nL 43.21875 35.40625 \nQ 43.21875 41.609375 39.140625 45 \nQ 35.0625 48.390625 27.6875 48.390625 \nQ 23 48.390625 18.546875 47.265625 \nQ 14.109375 46.140625 10.015625 43.890625 \nL 10.015625 52.203125 \nQ 14.9375 54.109375 19.578125 55.046875 \nQ 24.21875 56 28.609375 56 \nQ 40.484375 56 46.34375 49.84375 \nQ 52.203125 43.703125 52.203125 31.203125 \nz\n\" id=\"DejaVuSans-97\"/>\n       <path d=\"M 54.890625 54.6875 \nL 35.109375 28.078125 \nL 55.90625 0 \nL 45.3125 0 \nL 29.390625 21.484375 \nL 13.484375 0 \nL 2.875 0 \nL 24.125 28.609375 \nL 4.6875 54.6875 \nL 15.28125 54.6875 \nL 29.78125 35.203125 \nL 44.28125 54.6875 \nz\n\" id=\"DejaVuSans-120\"/>\n       <path d=\"M 50.984375 -16.609375 \nL 50.984375 -23.578125 \nL -0.984375 -23.578125 \nL -0.984375 -16.609375 \nz\n\" id=\"DejaVuSans-95\"/>\n       <path d=\"M 37.109375 75.984375 \nL 37.109375 68.5 \nL 28.515625 68.5 \nQ 23.6875 68.5 21.796875 66.546875 \nQ 19.921875 64.59375 19.921875 59.515625 \nL 19.921875 54.6875 \nL 34.71875 54.6875 \nL 34.71875 47.703125 \nL 19.921875 47.703125 \nL 19.921875 0 \nL 10.890625 0 \nL 10.890625 47.703125 \nL 2.296875 47.703125 \nL 2.296875 54.6875 \nL 10.890625 54.6875 \nL 10.890625 58.5 \nQ 10.890625 67.625 15.140625 71.796875 \nQ 19.390625 75.984375 28.609375 75.984375 \nz\n\" id=\"DejaVuSans-102\"/>\n       <path d=\"M 56.203125 29.59375 \nL 56.203125 25.203125 \nL 14.890625 25.203125 \nQ 15.484375 15.921875 20.484375 11.0625 \nQ 25.484375 6.203125 34.421875 6.203125 \nQ 39.59375 6.203125 44.453125 7.46875 \nQ 49.3125 8.734375 54.109375 11.28125 \nL 54.109375 2.78125 \nQ 49.265625 0.734375 44.1875 -0.34375 \nQ 39.109375 -1.421875 33.890625 -1.421875 \nQ 20.796875 -1.421875 13.15625 6.1875 \nQ 5.515625 13.8125 5.515625 26.8125 \nQ 5.515625 40.234375 12.765625 48.109375 \nQ 20.015625 56 32.328125 56 \nQ 43.359375 56 49.78125 48.890625 \nQ 56.203125 41.796875 56.203125 29.59375 \nz\nM 47.21875 32.234375 \nQ 47.125 39.59375 43.09375 43.984375 \nQ 39.0625 48.390625 32.421875 48.390625 \nQ 24.90625 48.390625 20.390625 44.140625 \nQ 15.875 39.890625 15.1875 32.171875 \nz\n\" id=\"DejaVuSans-101\"/>\n       <path d=\"M 18.3125 70.21875 \nL 18.3125 54.6875 \nL 36.8125 54.6875 \nL 36.8125 47.703125 \nL 18.3125 47.703125 \nL 18.3125 18.015625 \nQ 18.3125 11.328125 20.140625 9.421875 \nQ 21.96875 7.515625 27.59375 7.515625 \nL 36.8125 7.515625 \nL 36.8125 0 \nL 27.59375 0 \nQ 17.1875 0 13.234375 3.875 \nQ 9.28125 7.765625 9.28125 18.015625 \nL 9.28125 47.703125 \nL 2.6875 47.703125 \nL 2.6875 54.6875 \nL 9.28125 54.6875 \nL 9.28125 70.21875 \nz\n\" id=\"DejaVuSans-116\"/>\n       <path d=\"M 8.5 21.578125 \nL 8.5 54.6875 \nL 17.484375 54.6875 \nL 17.484375 21.921875 \nQ 17.484375 14.15625 20.5 10.265625 \nQ 23.53125 6.390625 29.59375 6.390625 \nQ 36.859375 6.390625 41.078125 11.03125 \nQ 45.3125 15.671875 45.3125 23.6875 \nL 45.3125 54.6875 \nL 54.296875 54.6875 \nL 54.296875 0 \nL 45.3125 0 \nL 45.3125 8.40625 \nQ 42.046875 3.421875 37.71875 1 \nQ 33.40625 -1.421875 27.6875 -1.421875 \nQ 18.265625 -1.421875 13.375 4.4375 \nQ 8.5 10.296875 8.5 21.578125 \nz\nM 31.109375 56 \nz\n\" id=\"DejaVuSans-117\"/>\n       <path d=\"M 41.109375 46.296875 \nQ 39.59375 47.171875 37.8125 47.578125 \nQ 36.03125 48 33.890625 48 \nQ 26.265625 48 22.1875 43.046875 \nQ 18.109375 38.09375 18.109375 28.8125 \nL 18.109375 0 \nL 9.078125 0 \nL 9.078125 54.6875 \nL 18.109375 54.6875 \nL 18.109375 46.1875 \nQ 20.953125 51.171875 25.484375 53.578125 \nQ 30.03125 56 36.53125 56 \nQ 37.453125 56 38.578125 55.875 \nQ 39.703125 55.765625 41.0625 55.515625 \nz\n\" id=\"DejaVuSans-114\"/>\n       <path d=\"M 44.28125 53.078125 \nL 44.28125 44.578125 \nQ 40.484375 46.53125 36.375 47.5 \nQ 32.28125 48.484375 27.875 48.484375 \nQ 21.1875 48.484375 17.84375 46.4375 \nQ 14.5 44.390625 14.5 40.28125 \nQ 14.5 37.15625 16.890625 35.375 \nQ 19.28125 33.59375 26.515625 31.984375 \nL 29.59375 31.296875 \nQ 39.15625 29.25 43.1875 25.515625 \nQ 47.21875 21.78125 47.21875 15.09375 \nQ 47.21875 7.46875 41.1875 3.015625 \nQ 35.15625 -1.421875 24.609375 -1.421875 \nQ 20.21875 -1.421875 15.453125 -0.5625 \nQ 10.6875 0.296875 5.421875 2 \nL 5.421875 11.28125 \nQ 10.40625 8.6875 15.234375 7.390625 \nQ 20.0625 6.109375 24.8125 6.109375 \nQ 31.15625 6.109375 34.5625 8.28125 \nQ 37.984375 10.453125 37.984375 14.40625 \nQ 37.984375 18.0625 35.515625 20.015625 \nQ 33.0625 21.96875 24.703125 23.78125 \nL 21.578125 24.515625 \nQ 13.234375 26.265625 9.515625 29.90625 \nQ 5.8125 33.546875 5.8125 39.890625 \nQ 5.8125 47.609375 11.28125 51.796875 \nQ 16.75 56 26.8125 56 \nQ 31.78125 56 36.171875 55.265625 \nQ 40.578125 54.546875 44.28125 53.078125 \nz\n\" id=\"DejaVuSans-115\"/>\n      </defs>\n      <use xlink:href=\"#DejaVuSans-109\"/>\n      <use x=\"97.412109\" xlink:href=\"#DejaVuSans-97\"/>\n      <use x=\"158.691406\" xlink:href=\"#DejaVuSans-120\"/>\n      <use x=\"217.871094\" xlink:href=\"#DejaVuSans-95\"/>\n      <use x=\"267.871094\" xlink:href=\"#DejaVuSans-102\"/>\n      <use x=\"303.076172\" xlink:href=\"#DejaVuSans-101\"/>\n      <use x=\"364.599609\" xlink:href=\"#DejaVuSans-97\"/>\n      <use x=\"425.878906\" xlink:href=\"#DejaVuSans-116\"/>\n      <use x=\"465.087891\" xlink:href=\"#DejaVuSans-117\"/>\n      <use x=\"528.466797\" xlink:href=\"#DejaVuSans-114\"/>\n      <use x=\"567.330078\" xlink:href=\"#DejaVuSans-101\"/>\n      <use x=\"628.853516\" xlink:href=\"#DejaVuSans-115\"/>\n     </g>\n    </g>\n   </g>\n   <g id=\"matplotlib.axis_2\">\n    <g id=\"ytick_1\">\n     <g id=\"line2d_10\">\n      <defs>\n       <path d=\"M 0 0 \nL -3.5 0 \n\" id=\"mcdfa5bc889\" style=\"stroke:#000000;stroke-width:0.8;\"/>\n      </defs>\n      <g>\n       <use style=\"stroke:#000000;stroke-width:0.8;\" x=\"62.86875\" xlink:href=\"#mcdfa5bc889\" y=\"187.409154\"/>\n      </g>\n     </g>\n     <g id=\"text_11\">\n      <!-- 0.9120 -->\n      <g transform=\"translate(20.878125 191.208373)scale(0.1 -0.1)\">\n       <defs>\n        <path d=\"M 10.984375 1.515625 \nL 10.984375 10.5 \nQ 14.703125 8.734375 18.5 7.8125 \nQ 22.3125 6.890625 25.984375 6.890625 \nQ 35.75 6.890625 40.890625 13.453125 \nQ 46.046875 20.015625 46.78125 33.40625 \nQ 43.953125 29.203125 39.59375 26.953125 \nQ 35.25 24.703125 29.984375 24.703125 \nQ 19.046875 24.703125 12.671875 31.3125 \nQ 6.296875 37.9375 6.296875 49.421875 \nQ 6.296875 60.640625 12.9375 67.421875 \nQ 19.578125 74.21875 30.609375 74.21875 \nQ 43.265625 74.21875 49.921875 64.515625 \nQ 56.59375 54.828125 56.59375 36.375 \nQ 56.59375 19.140625 48.40625 8.859375 \nQ 40.234375 -1.421875 26.421875 -1.421875 \nQ 22.703125 -1.421875 18.890625 -0.6875 \nQ 15.09375 0.046875 10.984375 1.515625 \nz\nM 30.609375 32.421875 \nQ 37.25 32.421875 41.125 36.953125 \nQ 45.015625 41.5 45.015625 49.421875 \nQ 45.015625 57.28125 41.125 61.84375 \nQ 37.25 66.40625 30.609375 66.40625 \nQ 23.96875 66.40625 20.09375 61.84375 \nQ 16.21875 57.28125 16.21875 49.421875 \nQ 16.21875 41.5 20.09375 36.953125 \nQ 23.96875 32.421875 30.609375 32.421875 \nz\n\" id=\"DejaVuSans-57\"/>\n        <path d=\"M 12.40625 8.296875 \nL 28.515625 8.296875 \nL 28.515625 63.921875 \nL 10.984375 60.40625 \nL 10.984375 69.390625 \nL 28.421875 72.90625 \nL 38.28125 72.90625 \nL 38.28125 8.296875 \nL 54.390625 8.296875 \nL 54.390625 0 \nL 12.40625 0 \nz\n\" id=\"DejaVuSans-49\"/>\n       </defs>\n       <use xlink:href=\"#DejaVuSans-48\"/>\n       <use x=\"63.623047\" xlink:href=\"#DejaVuSans-46\"/>\n       <use x=\"95.410156\" xlink:href=\"#DejaVuSans-57\"/>\n       <use x=\"159.033203\" xlink:href=\"#DejaVuSans-49\"/>\n       <use x=\"222.65625\" xlink:href=\"#DejaVuSans-50\"/>\n       <use x=\"286.279297\" xlink:href=\"#DejaVuSans-48\"/>\n      </g>\n     </g>\n    </g>\n    <g id=\"ytick_2\">\n     <g id=\"line2d_11\">\n      <g>\n       <use style=\"stroke:#000000;stroke-width:0.8;\" x=\"62.86875\" xlink:href=\"#mcdfa5bc889\" y=\"145.056842\"/>\n      </g>\n     </g>\n     <g id=\"text_12\">\n      <!-- 0.9125 -->\n      <g transform=\"translate(20.878125 148.85606)scale(0.1 -0.1)\">\n       <use xlink:href=\"#DejaVuSans-48\"/>\n       <use x=\"63.623047\" xlink:href=\"#DejaVuSans-46\"/>\n       <use x=\"95.410156\" xlink:href=\"#DejaVuSans-57\"/>\n       <use x=\"159.033203\" xlink:href=\"#DejaVuSans-49\"/>\n       <use x=\"222.65625\" xlink:href=\"#DejaVuSans-50\"/>\n       <use x=\"286.279297\" xlink:href=\"#DejaVuSans-53\"/>\n      </g>\n     </g>\n    </g>\n    <g id=\"ytick_3\">\n     <g id=\"line2d_12\">\n      <g>\n       <use style=\"stroke:#000000;stroke-width:0.8;\" x=\"62.86875\" xlink:href=\"#mcdfa5bc889\" y=\"102.704529\"/>\n      </g>\n     </g>\n     <g id=\"text_13\">\n      <!-- 0.9130 -->\n      <g transform=\"translate(20.878125 106.503748)scale(0.1 -0.1)\">\n       <use xlink:href=\"#DejaVuSans-48\"/>\n       <use x=\"63.623047\" xlink:href=\"#DejaVuSans-46\"/>\n       <use x=\"95.410156\" xlink:href=\"#DejaVuSans-57\"/>\n       <use x=\"159.033203\" xlink:href=\"#DejaVuSans-49\"/>\n       <use x=\"222.65625\" xlink:href=\"#DejaVuSans-51\"/>\n       <use x=\"286.279297\" xlink:href=\"#DejaVuSans-48\"/>\n      </g>\n     </g>\n    </g>\n    <g id=\"ytick_4\">\n     <g id=\"line2d_13\">\n      <g>\n       <use style=\"stroke:#000000;stroke-width:0.8;\" x=\"62.86875\" xlink:href=\"#mcdfa5bc889\" y=\"60.352216\"/>\n      </g>\n     </g>\n     <g id=\"text_14\">\n      <!-- 0.9135 -->\n      <g transform=\"translate(20.878125 64.151435)scale(0.1 -0.1)\">\n       <use xlink:href=\"#DejaVuSans-48\"/>\n       <use x=\"63.623047\" xlink:href=\"#DejaVuSans-46\"/>\n       <use x=\"95.410156\" xlink:href=\"#DejaVuSans-57\"/>\n       <use x=\"159.033203\" xlink:href=\"#DejaVuSans-49\"/>\n       <use x=\"222.65625\" xlink:href=\"#DejaVuSans-51\"/>\n       <use x=\"286.279297\" xlink:href=\"#DejaVuSans-53\"/>\n      </g>\n     </g>\n    </g>\n    <g id=\"ytick_5\">\n     <g id=\"line2d_14\">\n      <g>\n       <use style=\"stroke:#000000;stroke-width:0.8;\" x=\"62.86875\" xlink:href=\"#mcdfa5bc889\" y=\"17.999904\"/>\n      </g>\n     </g>\n     <g id=\"text_15\">\n      <!-- 0.9140 -->\n      <g transform=\"translate(20.878125 21.799122)scale(0.1 -0.1)\">\n       <use xlink:href=\"#DejaVuSans-48\"/>\n       <use x=\"63.623047\" xlink:href=\"#DejaVuSans-46\"/>\n       <use x=\"95.410156\" xlink:href=\"#DejaVuSans-57\"/>\n       <use x=\"159.033203\" xlink:href=\"#DejaVuSans-49\"/>\n       <use x=\"222.65625\" xlink:href=\"#DejaVuSans-52\"/>\n       <use x=\"286.279297\" xlink:href=\"#DejaVuSans-48\"/>\n      </g>\n     </g>\n    </g>\n    <g id=\"text_16\">\n     <!-- score -->\n     <g transform=\"translate(14.798438 129.352813)rotate(-90)scale(0.1 -0.1)\">\n      <defs>\n       <path d=\"M 48.78125 52.59375 \nL 48.78125 44.1875 \nQ 44.96875 46.296875 41.140625 47.34375 \nQ 37.3125 48.390625 33.40625 48.390625 \nQ 24.65625 48.390625 19.8125 42.84375 \nQ 14.984375 37.3125 14.984375 27.296875 \nQ 14.984375 17.28125 19.8125 11.734375 \nQ 24.65625 6.203125 33.40625 6.203125 \nQ 37.3125 6.203125 41.140625 7.25 \nQ 44.96875 8.296875 48.78125 10.40625 \nL 48.78125 2.09375 \nQ 45.015625 0.34375 40.984375 -0.53125 \nQ 36.96875 -1.421875 32.421875 -1.421875 \nQ 20.0625 -1.421875 12.78125 6.34375 \nQ 5.515625 14.109375 5.515625 27.296875 \nQ 5.515625 40.671875 12.859375 48.328125 \nQ 20.21875 56 33.015625 56 \nQ 37.15625 56 41.109375 55.140625 \nQ 45.0625 54.296875 48.78125 52.59375 \nz\n\" id=\"DejaVuSans-99\"/>\n       <path d=\"M 30.609375 48.390625 \nQ 23.390625 48.390625 19.1875 42.75 \nQ 14.984375 37.109375 14.984375 27.296875 \nQ 14.984375 17.484375 19.15625 11.84375 \nQ 23.34375 6.203125 30.609375 6.203125 \nQ 37.796875 6.203125 41.984375 11.859375 \nQ 46.1875 17.53125 46.1875 27.296875 \nQ 46.1875 37.015625 41.984375 42.703125 \nQ 37.796875 48.390625 30.609375 48.390625 \nz\nM 30.609375 56 \nQ 42.328125 56 49.015625 48.375 \nQ 55.71875 40.765625 55.71875 27.296875 \nQ 55.71875 13.875 49.015625 6.21875 \nQ 42.328125 -1.421875 30.609375 -1.421875 \nQ 18.84375 -1.421875 12.171875 6.21875 \nQ 5.515625 13.875 5.515625 27.296875 \nQ 5.515625 40.765625 12.171875 48.375 \nQ 18.84375 56 30.609375 56 \nz\n\" id=\"DejaVuSans-111\"/>\n      </defs>\n      <use xlink:href=\"#DejaVuSans-115\"/>\n      <use x=\"52.099609\" xlink:href=\"#DejaVuSans-99\"/>\n      <use x=\"107.080078\" xlink:href=\"#DejaVuSans-111\"/>\n      <use x=\"168.261719\" xlink:href=\"#DejaVuSans-114\"/>\n      <use x=\"207.125\" xlink:href=\"#DejaVuSans-101\"/>\n     </g>\n    </g>\n   </g>\n   <g id=\"line2d_15\">\n    <path clip-path=\"url(#ped0dae8639)\" d=\"M 78.086932 187.170187 \nL 230.26875 17.083636 \nL 382.450568 214.756364 \n\" style=\"fill:none;stroke:#1f77b4;stroke-linecap:square;stroke-width:1.5;\"/>\n   </g>\n   <g id=\"patch_3\">\n    <path d=\"M 62.86875 224.64 \nL 62.86875 7.2 \n\" style=\"fill:none;stroke:#000000;stroke-linecap:square;stroke-linejoin:miter;stroke-width:0.8;\"/>\n   </g>\n   <g id=\"patch_4\">\n    <path d=\"M 397.66875 224.64 \nL 397.66875 7.2 \n\" style=\"fill:none;stroke:#000000;stroke-linecap:square;stroke-linejoin:miter;stroke-width:0.8;\"/>\n   </g>\n   <g id=\"patch_5\">\n    <path d=\"M 62.86875 224.64 \nL 397.66875 224.64 \n\" style=\"fill:none;stroke:#000000;stroke-linecap:square;stroke-linejoin:miter;stroke-width:0.8;\"/>\n   </g>\n   <g id=\"patch_6\">\n    <path d=\"M 62.86875 7.2 \nL 397.66875 7.2 \n\" style=\"fill:none;stroke:#000000;stroke-linecap:square;stroke-linejoin:miter;stroke-width:0.8;\"/>\n   </g>\n  </g>\n </g>\n <defs>\n  <clipPath id=\"ped0dae8639\">\n   <rect height=\"217.44\" width=\"334.8\" x=\"62.86875\" y=\"7.2\"/>\n  </clipPath>\n </defs>\n</svg>\n",
      "image/png": "[encoded data removed]"
     },
     "metadata": {
      "needs_background": "light"
     }
    }
   ],
   "source": [
    "plt.plot(ps1['max_features'],ps1['score'])\n",
    "plt.xlabel('max_features')\n",
    "plt.ylabel('score')\n",
    "plt.show()"
   ]
  }
 ],
 "metadata": {
  "kernelspec": {
   "name": "python3",
   "display_name": "Python 3.8.5 64-bit ('base': conda)"
  },
  "language_info": {
   "codemirror_mode": {
    "name": "ipython",
    "version": 3
   },
   "file_extension": ".py",
   "mimetype": "text/x-python",
   "name": "python",
   "nbconvert_exporter": "python",
   "pygments_lexer": "ipython3",
   "version": "3.8.5"
  },
  "interpreter": {
   "hash": "d83547533f9050dd6fe51668b0feb7653dace4d0f960859b6bdd6b3de39e452f"
  }
 },
 "nbformat": 4,
 "nbformat_minor": 4
}