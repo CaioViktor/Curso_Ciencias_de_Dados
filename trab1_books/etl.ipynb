{
 "metadata": {
  "language_info": {
   "codemirror_mode": {
    "name": "ipython",
    "version": 3
   },
   "file_extension": ".py",
   "mimetype": "text/x-python",
   "name": "python",
   "nbconvert_exporter": "python",
   "pygments_lexer": "ipython3",
   "version": "3.8.5"
  },
  "orig_nbformat": 2,
  "kernelspec": {
   "name": "python385jvsc74a57bd0d83547533f9050dd6fe51668b0feb7653dace4d0f960859b6bdd6b3de39e452f",
   "display_name": "Python 3.8.5 64-bit ('base': conda)"
  }
 },
 "nbformat": 4,
 "nbformat_minor": 2,
 "cells": [
  {
   "cell_type": "code",
   "execution_count": 2,
   "metadata": {},
   "outputs": [],
   "source": [
    "import pandas as pd\n",
    "import numpy as np\n",
    "import matplotlib.pyplot as plt"
   ]
  },
  {
   "cell_type": "code",
   "execution_count": 3,
   "metadata": {},
   "outputs": [],
   "source": [
    "df = pd.read_json(\"dataV1.json\")"
   ]
  },
  {
   "cell_type": "code",
   "execution_count": 4,
   "metadata": {},
   "outputs": [
    {
     "output_type": "stream",
     "name": "stdout",
     "text": [
      "<class 'pandas.core.frame.DataFrame'>\nRangeIndex: 935 entries, 0 to 934\nData columns (total 28 columns):\n #   Column               Non-Null Count  Dtype  \n---  ------               --------------  -----  \n 0   Ano de Edição        595 non-null    float64\n 1   Colaborador          817 non-null    object \n 2   Editora              809 non-null    object \n 3   ISBN                 903 non-null    object \n 4   Ano                  803 non-null    float64\n 5   Edição               801 non-null    float64\n 6   Origem               811 non-null    object \n 7   Formato              807 non-null    object \n 8   Encadernação         902 non-null    object \n 9   Idioma               795 non-null    object \n 10  País                 794 non-null    object \n 11  Páginas              887 non-null    float64\n 12  Assunto              53 non-null     object \n 13  preço                935 non-null    object \n 14  nome                 935 non-null    object \n 15  categoria            935 non-null    object \n 16  Complemento          221 non-null    object \n 17  Idade                15 non-null     float64\n 18  Tipo de Colaborador  24 non-null     object \n 19  EAN                  24 non-null     float64\n 20  Sinopse              21 non-null     object \n 21  Altura               18 non-null     float64\n 22  Largura              18 non-null     float64\n 23  Peso                 15 non-null     float64\n 24  Subtitulo            9 non-null      object \n 25  Grau./Nível          4 non-null      object \n 26  Série/Ano            4 non-null      object \n 27  Coleção              3 non-null      object \ndtypes: float64(9), object(19)\nmemory usage: 204.7+ KB\n"
     ]
    }
   ],
   "source": [
    "df.info()"
   ]
  },
  {
   "cell_type": "code",
   "execution_count": 10,
   "metadata": {},
   "outputs": [
    {
     "output_type": "stream",
     "name": "stdout",
     "text": [
      "<class 'pandas.core.frame.DataFrame'>\nRangeIndex: 935 entries, 0 to 934\nData columns (total 28 columns):\n #   Column               Non-Null Count  Dtype  \n---  ------               --------------  -----  \n 0   Ano de Edição        595 non-null    float64\n 1   Colaborador          817 non-null    object \n 2   Editora              809 non-null    object \n 3   ISBN                 903 non-null    object \n 4   Ano                  803 non-null    float64\n 5   Edição               801 non-null    float64\n 6   Origem               811 non-null    object \n 7   Formato              807 non-null    object \n 8   Encadernação         902 non-null    object \n 9   Idioma               795 non-null    object \n 10  País                 794 non-null    object \n 11  Páginas              887 non-null    float64\n 12  Assunto              53 non-null     object \n 13  preço                934 non-null    float64\n 14  nome                 935 non-null    object \n 15  categoria            935 non-null    object \n 16  Complemento          221 non-null    object \n 17  Idade                15 non-null     float64\n 18  Tipo de Colaborador  24 non-null     object \n 19  EAN                  24 non-null     float64\n 20  Sinopse              21 non-null     object \n 21  Altura               18 non-null     float64\n 22  Largura              18 non-null     float64\n 23  Peso                 15 non-null     float64\n 24  Subtitulo            9 non-null      object \n 25  Grau./Nível          4 non-null      object \n 26  Série/Ano            4 non-null      object \n 27  Coleção              3 non-null      object \ndtypes: float64(10), object(18)\nmemory usage: 204.7+ KB\n"
     ]
    }
   ],
   "source": [
    "df['preço'] = pd.to_numeric(df['preço'],errors='coerce')\n",
    "df.info()"
   ]
  },
  {
   "cell_type": "code",
   "execution_count": 11,
   "metadata": {},
   "outputs": [
    {
     "output_type": "execute_result",
     "data": {
      "text/plain": [
       "       Ano de Edição          Ano       Edição      Páginas       preço  \\\n",
       "count     595.000000   803.000000   801.000000   887.000000  934.000000   \n",
       "mean     2016.095798  2015.183064    34.298377   298.875986   71.090385   \n",
       "std         5.194782     5.435646   254.452475   265.403897   63.096911   \n",
       "min      1976.000000  1976.000000     1.000000     6.000000    9.480000   \n",
       "25%      2014.000000  2013.000000     1.000000   160.000000   39.900000   \n",
       "50%      2017.000000  2016.000000     1.000000   248.000000   50.000000   \n",
       "75%      2020.000000  2019.000000     1.000000   352.000000   79.900000   \n",
       "max      2021.000000  2021.000000  2021.000000  3067.000000  812.600000   \n",
       "\n",
       "           Idade           EAN     Altura    Largura       Peso  \n",
       "count  15.000000  2.400000e+01  18.000000  18.000000  15.000000  \n",
       "mean    7.266667  2.008855e+12  22.194444  15.400000   0.381300  \n",
       "std     4.712698  6.369570e+09   1.932530   2.002352   0.243216  \n",
       "min     1.000000  2.000032e+12  20.000000  13.300000   0.070000  \n",
       "25%     3.000000  2.007100e+12  21.000000  14.000000   0.241000  \n",
       "50%     6.000000  2.007950e+12  21.250000  15.150000   0.310000  \n",
       "75%    11.500000  2.008800e+12  23.000000  16.000000   0.463000  \n",
       "max    15.000000  2.021123e+12  28.000000  21.000000   0.897000  "
      ],
      "text/html": "<div>\n<style scoped>\n    .dataframe tbody tr th:only-of-type {\n        vertical-align: middle;\n    }\n\n    .dataframe tbody tr th {\n        vertical-align: top;\n    }\n\n    .dataframe thead th {\n        text-align: right;\n    }\n</style>\n<table border=\"1\" class=\"dataframe\">\n  <thead>\n    <tr style=\"text-align: right;\">\n      <th></th>\n      <th>Ano de Edição</th>\n      <th>Ano</th>\n      <th>Edição</th>\n      <th>Páginas</th>\n      <th>preço</th>\n      <th>Idade</th>\n      <th>EAN</th>\n      <th>Altura</th>\n      <th>Largura</th>\n      <th>Peso</th>\n    </tr>\n  </thead>\n  <tbody>\n    <tr>\n      <th>count</th>\n      <td>595.000000</td>\n      <td>803.000000</td>\n      <td>801.000000</td>\n      <td>887.000000</td>\n      <td>934.000000</td>\n      <td>15.000000</td>\n      <td>2.400000e+01</td>\n      <td>18.000000</td>\n      <td>18.000000</td>\n      <td>15.000000</td>\n    </tr>\n    <tr>\n      <th>mean</th>\n      <td>2016.095798</td>\n      <td>2015.183064</td>\n      <td>34.298377</td>\n      <td>298.875986</td>\n      <td>71.090385</td>\n      <td>7.266667</td>\n      <td>2.008855e+12</td>\n      <td>22.194444</td>\n      <td>15.400000</td>\n      <td>0.381300</td>\n    </tr>\n    <tr>\n      <th>std</th>\n      <td>5.194782</td>\n      <td>5.435646</td>\n      <td>254.452475</td>\n      <td>265.403897</td>\n      <td>63.096911</td>\n      <td>4.712698</td>\n      <td>6.369570e+09</td>\n      <td>1.932530</td>\n      <td>2.002352</td>\n      <td>0.243216</td>\n    </tr>\n    <tr>\n      <th>min</th>\n      <td>1976.000000</td>\n      <td>1976.000000</td>\n      <td>1.000000</td>\n      <td>6.000000</td>\n      <td>9.480000</td>\n      <td>1.000000</td>\n      <td>2.000032e+12</td>\n      <td>20.000000</td>\n      <td>13.300000</td>\n      <td>0.070000</td>\n    </tr>\n    <tr>\n      <th>25%</th>\n      <td>2014.000000</td>\n      <td>2013.000000</td>\n      <td>1.000000</td>\n      <td>160.000000</td>\n      <td>39.900000</td>\n      <td>3.000000</td>\n      <td>2.007100e+12</td>\n      <td>21.000000</td>\n      <td>14.000000</td>\n      <td>0.241000</td>\n    </tr>\n    <tr>\n      <th>50%</th>\n      <td>2017.000000</td>\n      <td>2016.000000</td>\n      <td>1.000000</td>\n      <td>248.000000</td>\n      <td>50.000000</td>\n      <td>6.000000</td>\n      <td>2.007950e+12</td>\n      <td>21.250000</td>\n      <td>15.150000</td>\n      <td>0.310000</td>\n    </tr>\n    <tr>\n      <th>75%</th>\n      <td>2020.000000</td>\n      <td>2019.000000</td>\n      <td>1.000000</td>\n      <td>352.000000</td>\n      <td>79.900000</td>\n      <td>11.500000</td>\n      <td>2.008800e+12</td>\n      <td>23.000000</td>\n      <td>16.000000</td>\n      <td>0.463000</td>\n    </tr>\n    <tr>\n      <th>max</th>\n      <td>2021.000000</td>\n      <td>2021.000000</td>\n      <td>2021.000000</td>\n      <td>3067.000000</td>\n      <td>812.600000</td>\n      <td>15.000000</td>\n      <td>2.021123e+12</td>\n      <td>28.000000</td>\n      <td>21.000000</td>\n      <td>0.897000</td>\n    </tr>\n  </tbody>\n</table>\n</div>"
     },
     "metadata": {},
     "execution_count": 11
    }
   ],
   "source": [
    "df.describe()"
   ]
  }
 ]
}